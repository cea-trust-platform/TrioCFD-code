{
 "cells": [
  {
   "cell_type": "markdown",
   "id": "f3b8eb2b",
   "metadata": {},
   "source": [
    "# Marche descendante: comparaison des méthodes numériques\n"
   ]
  },
  {
   "cell_type": "code",
   "execution_count": null,
   "id": "67044ce8",
   "metadata": {},
   "outputs": [],
   "source": [
    "from trustutils import run \n",
    "from trustutils.jupyter import plot\n",
    "import numpy as np\n",
    "from math import *\n",
    "import matplotlib.pyplot as plt\n",
    "import os\n",
    "from functions import *\n",
    "\n",
    "run.introduction(\"M. El Moatamid\",\"28/06/2023\")\n",
    "run.description(description_fiche)\n",
    "\n",
    "run.TRUST_parameters()"
   ]
  },
  {
   "cell_type": "markdown",
   "id": "551a14b7",
   "metadata": {},
   "source": [
    "## Préparation des calculs\n",
    "Cette cellule est à remplir par l'utilisateur :"
   ]
  },
  {
   "cell_type": "code",
   "execution_count": null,
   "id": "71c5d0a6",
   "metadata": {},
   "outputs": [],
   "source": [
    "# liste des config disponible = [\"VEF_k-epsilon\", \"VDF_k-epsilon\",\"polymac_k-omega\", \"polymac_k-tau\", \"vdf_k-omega\", \"vdf_k-tau\"]\n",
    "# l'ordre des config n'est pas important !\n",
    "#config = [\"VEF_k-epsilon\", \"polymac_k-omega\" ,\"vdf_k-omega\"]\n",
    "config = [\"VEF_k-epsilon\", \"polymac_k-omega\" ,\"vdf_k-omega\", \"polymac_k-tau\"]\n",
    "\n",
    "# # Dimensions du domaine (expérience de Driver & Seegmiller [1])\n",
    "h = 0.0127\n",
    "H = 8*h\n",
    "L = 0.5\n",
    "l = 1.1143\n",
    "print(f\"Re_h = {44.2*1.17*h/(1.98e-5):.2e}\")\n",
    "\n",
    "# # Fluide \n",
    "mu = 1.469e-5\n",
    "rho = 1\n",
    "\n",
    "# # Calcul parallèle\n",
    "number_of_partitions = 4\n",
    "\n",
    "# # Maillage : chaque valeur dans les listes suivantes correspond à un maillage\n",
    "# Nombre de MAILLES selon x et y (du rectangle sans la marche)\n",
    "Nx = [132, 198] # de préférence un multiple de 6\n",
    "Ny = [48, 84] # de préférence un multiple de 12\n",
    "\n",
    "# Inflations\n",
    "growth_rate_x_inlet = [0.98, 0.98]\n",
    "growth_rate_y_inlet = [1.05, 1.05]\n",
    "growth_rate_x_step = [1.03, 1.04]\n",
    "growth_rate_y_step = [1.01, 1.01]\n",
    "\n",
    "# # force le calcul (suppression des anciens résultats)\n",
    "force_recalculation = True # put True to force recalculation\n",
    "\n",
    "# # répertoire de travail\n",
    "build = run.BUILD_DIRECTORY # build directory (absolute path !)"
   ]
  },
  {
   "cell_type": "markdown",
   "id": "e3c563df",
   "metadata": {},
   "source": [
    "## Lancement des calculs"
   ]
  },
  {
   "cell_type": "code",
   "execution_count": null,
   "id": "8c78a8c2",
   "metadata": {},
   "outputs": [],
   "source": [
    "# # Initialisation et calcul\n",
    "nb_method = len(config)\n",
    "nb_mesh = len(Nx)\n",
    "mesh_param = [Nx, Ny, growth_rate_x_inlet, growth_rate_y_inlet, growth_rate_x_step, growth_rate_y_step]\n",
    "fluid_param = [mu, rho]\n",
    "\n",
    "# # substitution dictionnaries\n",
    "dict_list = substitution(config,mesh_param,fluid_param)\n",
    "    \n",
    "if force_recalculation or not os.path.exists(build):\n",
    "    run.reset() # Delete the build directory and empty the list of cases to be executed\n",
    "    run.defaultSuite_ = run.TRUSTSuite(runPrepare=False)\n",
    "    for i in range(nb_method):\n",
    "        file = \"marche_pb_multi\"\n",
    "        if \"k-epsilon\" in config[i]:\n",
    "            file = f\"marche_{config[i]}\"\n",
    "        for j in range(nb_mesh):\n",
    "            if number_of_partitions == 1:\n",
    "                run.addCaseFromTemplate(f\"{file}.data\",directory=build+f\"/{config[i]}/mesh_{j}\",d=dict_list[i][j])\n",
    "            else:\n",
    "                os.system(f\"mkdir -p {build}/{config[i]}\")\n",
    "                os.system(f\"mkdir -p {build}/{config[i]}/mesh_{j}\")\n",
    "                GenerateInputFile(f\"{build}/{config[i]}/mesh_{j}\",build,dict_list[i][j], file, config[i])\n",
    "                os.system(f'cd {build}/{config[i]}/mesh_{j};  make_PAR.data marche_{config[i]} {number_of_partitions}; cd ../../..')\n",
    "                run.addCase(f\"{config[i]}/mesh_{j}\", f\"PAR_marche_{config[i]}.data\",nbProcs=number_of_partitions)\n",
    "    run.printCases()\n",
    "    run.runCases() # lance les différents cas test écrits dans build/\n",
    "    perf = run.tablePerf() # tableau des performances de calcul\n",
    "else:\n",
    "    print(\"Using previous calculation\")"
   ]
  },
  {
   "cell_type": "markdown",
   "id": "c0baa2dc",
   "metadata": {},
   "source": [
    "### Evolution des résidus"
   ]
  },
  {
   "cell_type": "code",
   "execution_count": null,
   "id": "03eb21a8",
   "metadata": {},
   "outputs": [],
   "source": [
    "# Residuals Plot\n",
    "n_col = 2 # nombre de colomnes\n",
    "fig = plt.figure(figsize=(15,ceil(nb_method/n_col)*4))\n",
    "axs = fig.subplots(ceil(nb_method/n_col),n_col)\n",
    "\n",
    "\n",
    "for i in range(nb_method):\n",
    "    file = f\"PAR_marche_{config[i]}\"\n",
    "    for j in range(nb_mesh):\n",
    "        res_file = build+f\"/{config[i]}/mesh_{j}/{file}.dt_ev\"\n",
    "        max_residu = plot.loadText(res_file)[3,:]\n",
    "        # find what is the max residual (called res_name)\n",
    "        res_name = \"\"\n",
    "        for k, res in enumerate(plot.loadText(res_file)[4:,-1]):\n",
    "            if max_residu[-1] == res:\n",
    "                res_name = get_residu_name(res_file,k)\n",
    "        temps = plot.loadText(res_file)[0,:]\n",
    "        axs[int(i/n_col),i%n_col].plot(temps, max_residu,label=f\"mesh_{j}\")\n",
    "        axs[int(i/n_col),i%n_col].text(0.3, 0.3-j*0.1, f'mesh_{j} : {res_name}', horizontalalignment='center', verticalalignment='center', transform=axs[int(i/n_col),i%n_col].transAxes)\n",
    "    axs[int(i/n_col),i%n_col].legend(fontsize=10)\n",
    "    axs[int(i/n_col),i%n_col].set_xlabel(\"time\", fontsize=10)\n",
    "    axs[int(i/n_col),i%n_col].set_ylabel(\"maxResidu\", fontsize=10)\n",
    "    axs[int(i/n_col),i%n_col].set_yscale('log')\n",
    "    axs[int(i/n_col),i%n_col].set_title(f'{config[i]}', fontsize=12)\n",
    "fig.suptitle(f\"Residuals\")\n",
    "fig.tight_layout()"
   ]
  },
  {
   "cell_type": "markdown",
   "id": "31c7862f",
   "metadata": {},
   "source": [
    "décommenter pour voir les champs de vitesse"
   ]
  },
  {
   "cell_type": "code",
   "execution_count": null,
   "id": "3f0eb584",
   "metadata": {
    "scrolled": false
   },
   "outputs": [],
   "source": [
    "from trustutils import visit\n",
    "#visit.showMesh(build+f\"/{config[i]}/marche_{config[i]}.lata\",\"dom\")\n",
    "#for i in range(len(config)):\n",
    "#    fig=visit.Show(build+f\"/{config[i]}/mesh_1/PAR_marche_{config[i]}.lata\",\"Pseudocolor\",\"VITESSE_SOM_dom_magnitude\")\n",
    "#    fig.plot()"
   ]
  },
  {
   "cell_type": "markdown",
   "id": "5a93c41b",
   "metadata": {},
   "source": [
    "### Statistiques des calculs"
   ]
  },
  {
   "cell_type": "code",
   "execution_count": null,
   "id": "711b5d39",
   "metadata": {},
   "outputs": [],
   "source": [
    "# Tableau des performances de calcul\n",
    "import pandas as pd\n",
    "\n",
    "performance = open(build+\"/perf.csv\", \"w\")\n",
    "for i in range(nb_method):\n",
    "    file = f\"PAR_marche_{config[i]}\"\n",
    "    for j in range(nb_mesh):\n",
    "        performance.write(read_perf(build+f\"/{config[i]}/mesh_{j}/{file}.perf\", file, config[i]+f\" mesh_{j}\"))\n",
    "performance.close() \n",
    "performance = open(build+\"/perf.csv\", \"r\")\n",
    "data = pd.read_csv(performance, sep=\" \", header=None)\n",
    "df = data[data.columns[:-1]]\n",
    "df.columns = [\"Configuration\", \"Mesh\", \"Host\", \"System\", \"total_CPU_time\", \"CPU time/step\", \"nb_cells\"]\n",
    "blankIndex=[''] * len(df)\n",
    "df.index=blankIndex\n",
    "display(df)"
   ]
  },
  {
   "cell_type": "code",
   "execution_count": null,
   "id": "484f1604",
   "metadata": {
    "scrolled": true
   },
   "outputs": [],
   "source": [
    "grpd = df.groupby('Configuration')\n",
    "for name, data in grpd:\n",
    "    plt.plot(data.nb_cells.values, data.total_CPU_time.values, 'o-', label = name)\n",
    "plt.legend()\n",
    "plt.xlabel(\"number of cells\")\n",
    "plt.ylabel(\"Total CPU time [s]\")\n",
    "plt.title(\"Calculation time\")"
   ]
  },
  {
   "cell_type": "markdown",
   "id": "c765f18e",
   "metadata": {},
   "source": [
    "## Post-traitement des résultats\n",
    "### Longueur de recirculation\n",
    "Les profils de vitesse selon x (axe de l'écoulement) sont tracés en y=0 (bas de la marche). La longueur de recirculation correspond à l'abscisse pour laquelle s'annule. De ce fait, la vitesse en bas de la marche est négative dans la zone de recirculation, avant de redevenir positive plus loin."
   ]
  },
  {
   "cell_type": "code",
   "execution_count": null,
   "id": "eceee50b",
   "metadata": {
    "scrolled": false
   },
   "outputs": [],
   "source": [
    "Graph=plot.Graph(\"Profil de vitesse en y=0 m\", nX=nb_mesh, size=[15,8])\n",
    "for j in range(nb_mesh):\n",
    "    Graph.addPlot(j,f\"mesh_{j}\")\n",
    "    for i in range(nb_method):\n",
    "        file = f\"PAR_marche_{config[i]}_SONDE_U_PAROI\"\n",
    "        Graph.addSegment(build+f\"/{config[i]}/mesh_{j}/{file}.son\", linestyle=\"-\",compo=0,label=config[i])\n",
    "        x,y = get_coord_sonde(build+f\"/{config[i]}/mesh_{j}/{file}.son\")\n",
    "#Graph.label(\"y [m]\", \"u [m/s]\")"
   ]
  },
  {
   "cell_type": "markdown",
   "id": "75324295",
   "metadata": {},
   "source": [
    "On calcule la longueur de recirculation en cherchant x tel que u(x)=0. Cette longueur est normalisé avec la hauteur de la marche, puis comparée à la valeur trouvée expérimentalement."
   ]
  },
  {
   "cell_type": "code",
   "execution_count": null,
   "id": "a2979dfa",
   "metadata": {},
   "outputs": [],
   "source": [
    "# On écrit les longueur de recirculation calculées dans un csv\n",
    "recirculation_length = open(build+\"/recirculation_length.csv\", \"w\")\n",
    "ref_val = 0.0774/h # valeur experimentale de l/h\n",
    "# On parcours l'ensemble des configurations et maillages réalisés\n",
    "for i in range(nb_method):\n",
    "    for j in range(nb_mesh):\n",
    "        file = f\"PAR_marche_{config[i]}_SONDE_U_PAROI\"\n",
    "        try:\n",
    "            u = np.array(plot.loadText(build+f\"/{config[i]}/mesh_{j}/{file}.son\")[1::2,1])\n",
    "        except:\n",
    "            u = np.zeros(100)\n",
    "        x, _ = get_coord_sonde(build+f\"/{config[i]}/mesh_{j}/{file}.son\")\n",
    "        x_min, x_max = 0.01, 0.3 # define interval to search for the function's zero (x | u(x)=0)\n",
    "        l_recirculation = find_zero(x,u,x_min,x_max) # recirculation length : find x such as u(x)=0\n",
    "        recirculation_length.write(f\"{config[i]},mesh_{j},{l_recirculation/h:.2f},{int(100*(l_recirculation/h-ref_val)/ref_val)}%\\n\")\n",
    "recirculation_length.write(f\"Driver's experiment, ,{ref_val:.2f}, \\n\") # ref value\n",
    "recirculation_length.close() \n",
    "f = open(build+\"/recirculation_length.csv\", \"r\")\n",
    "df = pd.read_csv(f, sep=\",\", header=None)\n",
    "df.columns = [\"Configuration\", \"mesh\", \"recirculation length (l/h)\", \"relative gap\"]\n",
    "blankIndex=[''] * len(df)\n",
    "df.index=blankIndex\n",
    "display(df)"
   ]
  },
  {
   "cell_type": "markdown",
   "id": "2230a271",
   "metadata": {},
   "source": [
    "### Comparaison des profils de vitesse en différentes positions aux données expériemntales"
   ]
  },
  {
   "cell_type": "code",
   "execution_count": null,
   "id": "1e527221",
   "metadata": {
    "scrolled": false
   },
   "outputs": [],
   "source": [
    "fig = plt.figure(figsize=(15,nb_mesh*6))\n",
    "axs = fig.subplots(nb_mesh)\n",
    "\n",
    "for j in range(nb_mesh):\n",
    "    for i in range(nb_method):\n",
    "        file = f\"PAR_marche_{config[i]}_SONDE_U_X-4H\"\n",
    "        try:\n",
    "            u = np.array(plot.loadText(build+f\"/{config[i]}/mesh_{j}/{file}.son\")[1::2,1])/44.2\n",
    "        except:\n",
    "            u = np.zeros(80)\n",
    "        #y = np.linspace(0,0.1143,80)/h\n",
    "        x,y = get_coord_sonde(build+f\"/{config[i]}/mesh_{j}/{file}.son\")\n",
    "        y = y/h\n",
    "        axs[j].plot(u,y,label=config[i])\n",
    "        \n",
    "    # plot reference data : experiment\n",
    "    df = pd.read_csv(f\"{build}/x-4h.csv\", sep=\" \", error_bad_lines=False)\n",
    "    axs[j].scatter(df.iloc[:, 2], df.iloc[:, 1], marker=\"x\", color=\"red\", label=\"reference\")\n",
    "    # plot simulation data from turbmodels\n",
    "    turbmodels = [\"wilcox2006\"]\n",
    "    for model in turbmodels:\n",
    "        df = pd.read_csv(f\"{build}/../data/{model}/{model}_x-4h.csv\", sep=\" \", error_bad_lines=False)\n",
    "        axs[j].plot(df.iloc[:, 1], df.iloc[:, 0], linestyle=\"dashed\", label=\"wilcox2006 (TMR)\")\n",
    "    axs[j].legend()\n",
    "    axs[j].set_xlabel(\"u/u_inlet\")\n",
    "    axs[j].set_ylabel(\"y/h\")\n",
    "    axs[j].set_title(f\"Mesh_{j} : Profils de vitesse en x=-4h\")\n",
    "\n",
    "fig.tight_layout()"
   ]
  },
  {
   "cell_type": "code",
   "execution_count": null,
   "id": "2490fec8",
   "metadata": {
    "scrolled": false
   },
   "outputs": [],
   "source": [
    "fig = plt.figure(figsize=(15,nb_mesh*6))\n",
    "axs = fig.subplots(nb_mesh)\n",
    "\n",
    "for j in range(nb_mesh):\n",
    "    for i in range(nb_method):\n",
    "        file = f\"PAR_marche_{config[i]}_SONDE_U_X1H\"\n",
    "        try:\n",
    "            u = np.array(plot.loadText(build+f\"/{config[i]}/mesh_{j}/{file}.son\")[1::2,1])/44.2\n",
    "        except:\n",
    "            u = np.zeros(80)\n",
    "        #y = np.linspace(0,0.1143,80)/h\n",
    "        x,y = get_coord_sonde(build+f\"/{config[i]}/mesh_{j}/{file}.son\")\n",
    "        y = y/h\n",
    "        axs[j].plot(u,y,label=config[i])\n",
    "        \n",
    "    # plot reference data : experiment\n",
    "    df = pd.read_csv(f\"{build}/x1h.csv\", sep=\" \", error_bad_lines=False)\n",
    "    axs[j].scatter(df.iloc[:, 2], df.iloc[:, 1], marker=\"x\", color=\"red\", label=\"reference\")\n",
    "    # plot simulation data from turbmodels\n",
    "    for model in turbmodels:\n",
    "        df = pd.read_csv(f\"{build}/../data/{model}/{model}_x1h.csv\", sep=\" \", error_bad_lines=False)\n",
    "        axs[j].plot(df.iloc[:, 1], df.iloc[:, 0], linestyle=\"dashed\", label=f\"{model} (TMR)\")\n",
    "    axs[j].legend()\n",
    "    axs[j].set_xlabel(\"u/u_inlet\")\n",
    "    axs[j].set_ylabel(\"y/h\")\n",
    "    axs[j].set_title(f\"Mesh_{j} : Profils de vitesse en x=1h\")\n",
    "\n",
    "fig.tight_layout()"
   ]
  },
  {
   "cell_type": "code",
   "execution_count": null,
   "id": "4332bcab",
   "metadata": {
    "scrolled": false
   },
   "outputs": [],
   "source": [
    "fig = plt.figure(figsize=(15,nb_mesh*6))\n",
    "axs = fig.subplots(nb_mesh)\n",
    "\n",
    "for j in range(nb_mesh):\n",
    "    for i in range(nb_method):\n",
    "        file = f\"PAR_marche_{config[i]}_SONDE_U_X4H\"\n",
    "        try:\n",
    "            u = np.array(plot.loadText(build+f\"/{config[i]}/mesh_{j}/{file}.son\")[1::2,1])/44.2\n",
    "        except:\n",
    "            u = np.zeros(80)\n",
    "        #y = np.linspace(0,0.1143,80)/h\n",
    "        x,y = get_coord_sonde(build+f\"/{config[i]}/mesh_{j}/{file}.son\")\n",
    "        y = y/h\n",
    "        axs[j].plot(u,y,label=config[i])\n",
    "        \n",
    "    # plot reference data : experiment\n",
    "    df = pd.read_csv(f\"{build}/x4h.csv\", sep=\" \", error_bad_lines=False)\n",
    "    axs[j].scatter(df.iloc[:, 2], df.iloc[:, 1], marker=\"x\", color=\"red\", label=\"reference\")\n",
    "    # plot simulation data from turbmodels\n",
    "    for model in turbmodels:\n",
    "        df = pd.read_csv(f\"{build}/../data/{model}/{model}_x4h.csv\", sep=\" \", error_bad_lines=False)\n",
    "        axs[j].plot(df.iloc[:, 1], df.iloc[:, 0], linestyle=\"dashed\", label=f\"{model} (TMR)\")\n",
    "    axs[j].legend()\n",
    "    axs[j].set_xlabel(\"u/u_inlet\")\n",
    "    axs[j].set_ylabel(\"y/h\")\n",
    "    axs[j].set_title(f\"Mesh_{j} : Profils de vitesse en x=4h\")\n",
    "\n",
    "fig.tight_layout()"
   ]
  },
  {
   "cell_type": "code",
   "execution_count": null,
   "id": "9f140662",
   "metadata": {
    "scrolled": false
   },
   "outputs": [],
   "source": [
    "fig = plt.figure(figsize=(15,nb_mesh*6))\n",
    "axs = fig.subplots(nb_mesh)\n",
    "\n",
    "for j in range(nb_mesh):\n",
    "    for i in range(nb_method):\n",
    "        file = f\"PAR_marche_{config[i]}_SONDE_U_X6H\"\n",
    "        try:\n",
    "            u = np.array(plot.loadText(build+f\"/{config[i]}/mesh_{j}/{file}.son\")[1::2,1])/44.2\n",
    "        except:\n",
    "            u = np.zeros(80)\n",
    "        #y = np.linspace(0,0.1143,80)/h\n",
    "        x,y = get_coord_sonde(build+f\"/{config[i]}/mesh_{j}/{file}.son\")\n",
    "        y = y/h\n",
    "        axs[j].plot(u,y,label=config[i])\n",
    "        \n",
    "    # plot reference data : experiment\n",
    "    df = pd.read_csv(f\"{build}/x6h.csv\", sep=\" \", error_bad_lines=False)\n",
    "    axs[j].scatter(df.iloc[:, 2], df.iloc[:, 1], marker=\"x\", color=\"red\", label=\"reference\")\n",
    "    # plot simulation data from turbmodels\n",
    "    for model in turbmodels:\n",
    "        df = pd.read_csv(f\"{build}/../data/{model}/{model}_x6h.csv\", sep=\" \", error_bad_lines=False)\n",
    "        axs[j].plot(df.iloc[:, 1], df.iloc[:, 0], linestyle=\"dashed\", label=f\"{model} (TMR)\")\n",
    "    axs[j].legend()\n",
    "    axs[j].set_xlabel(\"u/u_inlet\")\n",
    "    axs[j].set_ylabel(\"y/h\")\n",
    "    axs[j].set_title(f\"Mesh_{j} : Profils de vitesse en x=6h\")\n",
    "\n",
    "fig.tight_layout()"
   ]
  },
  {
   "cell_type": "code",
   "execution_count": null,
   "id": "3bb39488",
   "metadata": {},
   "outputs": [],
   "source": [
    "fig = plt.figure(figsize=(15,nb_mesh*6))\n",
    "axs = fig.subplots(nb_mesh)\n",
    "\n",
    "for j in range(nb_mesh):\n",
    "    for i in range(nb_method):\n",
    "        file = f\"PAR_marche_{config[i]}_SONDE_U_X10H\"\n",
    "        try:\n",
    "            u = np.array(plot.loadText(build+f\"/{config[i]}/mesh_{j}/{file}.son\")[1::2,1])/44.2\n",
    "        except:\n",
    "            u = np.zeros(80)\n",
    "        #y = np.linspace(0,0.1143,80)/h\n",
    "        x,y = get_coord_sonde(build+f\"/{config[i]}/mesh_{j}/{file}.son\")\n",
    "        y = y/h\n",
    "        axs[j].plot(u,y,label=config[i])\n",
    "        \n",
    "    # plot reference data : experiment\n",
    "    df = pd.read_csv(f\"{build}/x10h.csv\", sep=\" \", error_bad_lines=False)\n",
    "    axs[j].scatter(df.iloc[:, 2], df.iloc[:, 1], marker=\"x\", color=\"red\", label=\"reference\")\n",
    "    # plot simulation data from turbmodels\n",
    "    for model in turbmodels:\n",
    "        df = pd.read_csv(f\"{build}/../data/{model}/{model}_x10h.csv\", sep=\" \", error_bad_lines=False)\n",
    "        axs[j].plot(df.iloc[:, 1], df.iloc[:, 0], linestyle=\"dashed\", label=f\"{model} (TMR)\")\n",
    "    axs[j].legend()\n",
    "    axs[j].set_xlabel(\"u/u_inlet\")\n",
    "    axs[j].set_ylabel(\"y/h\")\n",
    "    axs[j].set_title(f\"Mesh_{j} : Profils de vitesse en x=10h\")\n",
    "\n",
    "fig.tight_layout()"
   ]
  }
 ],
 "metadata": {
  "kernelspec": {
   "display_name": "Python 3 (ipykernel)",
   "language": "python",
   "name": "python3"
  },
  "language_info": {
   "codemirror_mode": {
    "name": "ipython",
    "version": 3
   },
   "file_extension": ".py",
   "mimetype": "text/x-python",
   "name": "python",
   "nbconvert_exporter": "python",
   "pygments_lexer": "ipython3",
   "version": "3.7.16"
  }
 },
 "nbformat": 4,
 "nbformat_minor": 5
}
