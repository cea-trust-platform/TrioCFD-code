{
 "cells": [
  {
   "cell_type": "markdown",
   "id": "f3b8eb2b",
   "metadata": {},
   "source": [
    "\n",
    "# Canal plan 2D : comparaison des méthodes numériques\n"
   ]
  },
  {
   "cell_type": "code",
   "execution_count": null,
   "id": "67044ce8",
   "metadata": {},
   "outputs": [],
   "source": [
    "from trustutils import run \n",
    "from trustutils.jupyter import plot\n",
    "import numpy as np\n",
    "from functions import *\n",
    "from math import *\n",
    "import matplotlib.pyplot as plt\n",
    "\n",
    "run.introduction(\"M. El Moatamid\",\"22/05/2023\")\n",
    "run.description(description_fiche)\n",
    "\n",
    "run.TRUST_parameters()"
   ]
  },
  {
   "cell_type": "markdown",
   "id": "551a14b7",
   "metadata": {},
   "source": [
    "## Préparation des calculs\n",
    "A remplir par l'utilisateur"
   ]
  },
  {
   "cell_type": "code",
   "execution_count": null,
   "id": "d88e76a0",
   "metadata": {},
   "outputs": [],
   "source": [
    "# # Configuration\n",
    "\n",
    "# Liste des configuration disponible : [\"VEF_k-epsilon\", \"VEF_k-omega\", \"VDF_k-epsilon\", \"VDF_k-tau\", \"VDF_k-omega\", \"PolyMAC_k-tau\", \"PolyMAC_k-omega\", \"PolyMAC_k-tau_triangle\"]\n",
    "config = [\"VEF_k-epsilon\", \"VEF_k-omega\", \"VDF_k-epsilon\", \"VDF_k-tau\", \"VDF_k-omega\", \"PolyMAC_k-tau\", \"PolyMAC_k-omega\"]\n",
    "config = [\"VEF_k-epsilon\", \"VDF_k-epsilon\", \"VDF_k-tau\", \"VDF_k-omega\", \"PolyMAC_k-tau\", \"PolyMAC_k-omega\"]\n",
    "# Il est possible de : changer l'ordre de la liste config + mettre uniquement une partie des config disponibles\n",
    "\n",
    "# # Parallelisation du calcul\n",
    "\n",
    "number_of_partitions = 4\n",
    "\n",
    "# # Fluide\n",
    "\n",
    "mu = 0.02\n",
    "rho = 1000\n",
    "\n",
    "# # Conditions limites\n",
    "\n",
    "inlet_velocity = 1\n",
    "outlet_pressure = 1e5\n",
    "inlet_k = 0.01\n",
    "inlet_epsilon = 0.005\n",
    "\n",
    "# # Maillage\n",
    "\n",
    "# Attention il y aura 2 fois plus de cellules selon y que la valeur définie ici (trianguler_h avec vef coupe les maille en 4)\n",
    "Ny = [2,3,4] # nombre de noeuds dans le 1er bloc de maillage VEF\n",
    "taux1 = [1,1,1] # facteur multiplicatif : taille des cellules dans le bloc n°2\n",
    "taux2 = [1,1,1] # facteur multiplicatif : taille des cellules dans le bloc n°3\n",
    "\n",
    "# # Boucle temporelle\n",
    "\n",
    "tmax = 300 # [s]\n",
    "\n",
    "# # Post traitement\n",
    "\n",
    "# plot profiles\n",
    "x_prof = 95 # position selon x pour extraire différents profils (vitesse, k, ...)\n",
    "y_min_prof = sonde_firstpoint(0.2,Ny)\n",
    "y_max_prof = 1-sonde_firstpoint(0.2,Ny)\n",
    "nb_points_prof = sonde_nbpoints(0.2,Ny)"
   ]
  },
  {
   "cell_type": "markdown",
   "id": "bd7edbb7",
   "metadata": {},
   "source": [
    "### Premier calculs sur les paramètres entrés\n",
    "On calcule sur la base des paramètres de simulation choisis par l'utilisateur :\n",
    "- Le nombre de Reynolds\n",
    "- Une estimation du coef de frottement qui permet de prédire (bonne approximation) tau_w, utau et y⁺\n",
    "\n",
    "L'utilisateur peut donc savoir à quels résultats s'attendre et vérifier que les valeurs de y+ permettent d'utiliser une loi de paroi log (loi standard utilisée avec VEF)\n",
    "    \n",
    "On vérifie également que le maillage peut être construit"
   ]
  },
  {
   "cell_type": "code",
   "execution_count": null,
   "id": "b6070354",
   "metadata": {},
   "outputs": [],
   "source": [
    "H = 1 # hauteur canal [m]\n",
    "Re_H = Reynolds(inlet_velocity, rho, H, mu) # calcul du reynolds\n",
    "cf_pred = cf_prediction(kappa, B, Re_H, cf_guess) # estimation du coefficient de frottement\n",
    "tau_pred, u_tau_pred = tau_and_u_tau(cf_pred,1,1000) # tau et u_tau estimés\n",
    "print(f\"Reynolds : Re_H = {Re_H:.1e}\\n\\nEstimations :\\n\\tcf = {cf_pred:.4f} \\ttau_w = {tau_pred:.2f} Pa\\t\\tu_tau = {u_tau_pred:.3f} m/s\")\n",
    "print(\"\\nMaillages :\\n Valeurs estimées de y+ à la paroi :\\n\")\n",
    "y_wall_list = {} # hauteur maille à la paroi\n",
    "y_plus_list = {} # y+ paroi\n",
    "y_wall_list[\"VEF\"] = y_wall_list[\"VDF\"] = y_wall_list[\"PolyMAC\"] = [0 for x in range(len(Ny))]\n",
    "y_plus_list[\"VEF\"] = y_plus_list[\"VDF\"] = y_plus_list[\"PolyMAC\"] = [0 for x in range(len(Ny))]\n",
    "\n",
    "for i in range(len(Ny)):\n",
    "    y_VDF, y_VEF, y_PolyMAC = y_wall(y1,Ny[i]) # valeurs de y à l'endroit où la vitesse à la paroi est calculée\n",
    "    y_wall_list[\"VEF\"][i], y_wall_list[\"VDF\"][i], y_wall_list[\"PolyMAC\"][i] = y_VEF, y_VDF, y_PolyMAC\n",
    "    y_VDF_plus, y_VEF_plus, y_PolyMAC_plus = y_plus_prediction(y1,Ny[i],u_tau_pred,mu,rho) # y+ correspondant à y_wall calculé\n",
    "    y_plus_list[\"VEF\"][i], y_plus_list[\"VDF\"][i], y_plus_list[\"PolyMAC\"][i] = y_VEF_plus, y_VDF_plus, y_PolyMAC_plus\n",
    "    print(f\" - mesh_{i} : y+_VDF = {y_VDF_plus:.1f}\\t y+_VEF = {y_VEF_plus:.1f}\\t y+_PolyMAC = {y_PolyMAC_plus:.1f}\")\n",
    "    check_mesh_param(Ny[i],taux1[i],taux2[i])"
   ]
  },
  {
   "cell_type": "markdown",
   "id": "3c7aafa7",
   "metadata": {},
   "source": [
    "## Initialisation et Lancement des calculs"
   ]
  },
  {
   "cell_type": "code",
   "execution_count": null,
   "id": "a145fa61",
   "metadata": {},
   "outputs": [],
   "source": [
    "force_recalculation = True # put True to force recalculation\n",
    "build = run.BUILD_DIRECTORY # build directory (absolute path !)\n",
    "config_Pb_hydr = [config[i] for i in range(len(config)) if config[i] in available_config_pb_hydr]\n",
    "config_Pb_multi = [config[i] for i in range(len(config)) if config[i] in available_config_pb_multi]"
   ]
  },
  {
   "cell_type": "code",
   "execution_count": null,
   "id": "8fd1e447",
   "metadata": {},
   "outputs": [],
   "source": [
    "nb_mesh = len(Ny)\n",
    "nb_method_Pb_hydr = len(config_Pb_hydr)\n",
    "nb_method_Pb_multi = len(config_Pb_multi)\n",
    "nb_method = nb_method_Pb_hydr + nb_method_Pb_multi\n",
    "# paramètres utilisés pour la substitution : voir function.py\n",
    "params = [config, Ny, taux1, taux2, inlet_velocity,outlet_pressure,inlet_k,inlet_epsilon,x_prof,mu,rho,y_min_prof,y_max_prof,nb_points_prof,tmax]\n",
    "# # Substitution dictionnary : nous avons 2 jdd de base qui seront modifiés pour lancer les différentes config\n",
    "dict_list = substitution(params)\n",
    "\n",
    "# data file names \n",
    "file_pb_hydr = \"canal_plan_pb_hydr\"\n",
    "file_pb_multi = \"canal_plan_pb_multi\"\n",
    "\n",
    "import os  \n",
    "if force_recalculation or not os.path.exists(build):\n",
    "    run.reset() # Delete the build directory and empty the list of cases to be executed\n",
    "    run.defaultSuite_ = run.TRUSTSuite(runPrepare=False)\n",
    "    for i in range(nb_method):\n",
    "        file = file_pb_hydr\n",
    "        if config[i] in config_Pb_multi:\n",
    "            file = file_pb_multi\n",
    "        for j in range(nb_mesh):\n",
    "            if number_of_partitions == 1:\n",
    "                run.addCaseFromTemplate(f\"{file}.data\",directory=build+f\"/{config[i]}/mesh_{j}\",d=dict_list[i][j])\n",
    "            else:\n",
    "                os.system(f\"mkdir -p {build}/{config[i]}\")\n",
    "                os.system(f\"mkdir -p {build}/{config[i]}/mesh_{j}\")\n",
    "                GenerateInputFile(f\"{build}/{config[i]}/mesh_{j}\",build,dict_list[i][j], file)\n",
    "                os.system(f'cd {build}/{config[i]}/mesh_{j};  make_PAR.data {file} {number_of_partitions}; cd ../../..')\n",
    "                run.addCase(f\"{config[i]}/mesh_{j}\", f\"PAR_{file}.data\",nbProcs=number_of_partitions)\n",
    "    run.printCases()\n",
    "    run.runCases() # lance les différents cas test écrits dans build/\n",
    "    perf = run.tablePerf() # tableau des performances de calcul\n",
    "else:\n",
    "    print(\"Using previous calculation\")\n",
    "    \n",
    "if number_of_partitions!=1: # nom des jdd change pour les calculs parallèles\n",
    "    file_pb_multi = \"PAR_canal_plan_pb_multi\"\n",
    "    file_pb_hydr = \"PAR_canal_plan_pb_hydr\""
   ]
  },
  {
   "cell_type": "markdown",
   "id": "26c13382",
   "metadata": {},
   "source": [
    "### Statistiques"
   ]
  },
  {
   "cell_type": "code",
   "execution_count": null,
   "id": "711b5d39",
   "metadata": {},
   "outputs": [],
   "source": [
    "# Tableau des performances de calcul\n",
    "import pandas as pd\n",
    "\n",
    "performance = open(build+\"/perf.csv\", \"w\")\n",
    "for i in range(nb_method):\n",
    "    file = file_pb_multi\n",
    "    if config[i] in config_Pb_hydr: \n",
    "        file = file_pb_hydr\n",
    "    for j in range(nb_mesh):\n",
    "        performance.write(read_perf(build+f\"/{config[i]}/mesh_{j}/{file}.perf\", file, config[i]+f\" mesh_{j}\"))\n",
    "performance.close() \n",
    "performance = open(build+\"/perf.csv\", \"r\")\n",
    "data = pd.read_csv(performance, sep=\" \", header=None)\n",
    "df = data[data.columns[:-1]]\n",
    "df.columns = [\"Configuration\", \"Mesh\", \"Host\", \"System\", \"total_CPU_time\", \"CPU time/step\", \"nb_cells\"]\n",
    "blankIndex=[''] * len(df)\n",
    "df.index=blankIndex\n",
    "display(df)"
   ]
  },
  {
   "cell_type": "code",
   "execution_count": null,
   "id": "484f1604",
   "metadata": {},
   "outputs": [],
   "source": [
    "# Graph temps de calcul\n",
    "grpd = df.groupby('Configuration')\n",
    "for name, data in grpd:\n",
    "    plt.plot(data.nb_cells.values, data.total_CPU_time.values, 'o-', label = name)\n",
    "plt.legend()\n",
    "plt.xlabel(\"number of cells\")\n",
    "plt.ylabel(\"Total CPU time [s]\")\n",
    "plt.title(\"Calculation time\")"
   ]
  },
  {
   "cell_type": "markdown",
   "id": "7a668ec6",
   "metadata": {},
   "source": [
    "### Evolution des résidus"
   ]
  },
  {
   "cell_type": "code",
   "execution_count": null,
   "id": "095e250d",
   "metadata": {},
   "outputs": [],
   "source": [
    "# Residuals Plot\n",
    "nb_col = max(int(nb_method/2),2)\n",
    "fig = plt.figure(figsize=(15,ceil(nb_method/nb_col)*4))\n",
    "axs = fig.subplots(ceil(nb_method/nb_col),nb_col)\n",
    "\n",
    "\n",
    "for i in range(nb_method):\n",
    "    file = file_pb_hydr\n",
    "    if config[i] in config_Pb_multi:\n",
    "        file = file_pb_multi\n",
    "    for j in range(nb_mesh):\n",
    "        res_file = build+f\"/{config[i]}/mesh_{j}/{file}.dt_ev\"\n",
    "        max_residu = plot.loadText(res_file)[3,:]\n",
    "        # find what is the max residual (called res_name)\n",
    "        res_name = \"\"\n",
    "        for k, res in enumerate(plot.loadText(res_file)[4:,-1]):\n",
    "            if max_residu[-1] == res:\n",
    "                res_name = get_residu_name(res_file,k)\n",
    "        temps = plot.loadText(res_file)[0,:]\n",
    "        axs[int(i/nb_col),i%nb_col].plot(temps, max_residu,label=f\"mesh_{j}\")\n",
    "        axs[int(i/nb_col),i%nb_col].text(0.3, 0.3-j*0.1, f'mesh_{j} : {res_name}', horizontalalignment='center', verticalalignment='center', transform=axs[int(i/nb_col),i%nb_col].transAxes)\n",
    "    axs[int(i/nb_col),i%nb_col].legend(fontsize=10)\n",
    "    axs[int(i/nb_col),i%nb_col].set_xlabel(\"time\", fontsize=10)\n",
    "    axs[int(i/nb_col),i%nb_col].set_ylabel(\"maxResidu\", fontsize=10)\n",
    "    axs[int(i/nb_col),i%nb_col].set_yscale('log')\n",
    "    axs[int(i/nb_col),i%nb_col].set_title(f'{config[i]}', fontsize=12)\n",
    "fig.suptitle(f\"Residuals\")\n",
    "fig.tight_layout()"
   ]
  },
  {
   "cell_type": "markdown",
   "id": "c5ef292c",
   "metadata": {},
   "source": [
    "### Maillage\n",
    "décommenter pour voir le maillage"
   ]
  },
  {
   "cell_type": "code",
   "execution_count": null,
   "id": "1d04f886",
   "metadata": {
    "scrolled": false
   },
   "outputs": [],
   "source": [
    "#from trustutils import visit\n",
    "#for i in range(nb_method_Pb_hydr):\n",
    "#    visit.showMesh(build+f\"/{config[i]}/mesh_0/{file_pb_hydr}.lata\",\"dom\")\n",
    "#for i in range(nb_method_Pb_multi):\n",
    "#    visit.showMesh(build+f\"/{config[i+2]}/mesh_0/{file_pb_multi}.lata\",\"dom\")"
   ]
  },
  {
   "cell_type": "markdown",
   "id": "908cbb9b",
   "metadata": {},
   "source": [
    "## Post-traitement des résultats\n",
    "### Contraintes pariétales\n",
    "Vérifier que la couche limite est bien développée : tracé de tau_wall(x)"
   ]
  },
  {
   "cell_type": "code",
   "execution_count": null,
   "id": "5659143e",
   "metadata": {},
   "outputs": [],
   "source": [
    "# # Calcul de u_tau (noté u*) pour les différents maillages\n",
    "# # tracé de tau_w le long de la paroi : vérifier que la couche limite est bien developpée\n",
    "\n",
    "print(f\"Calcul des valeurs de u_tau à x={x_prof}m ainsi que y+ à la fontière sup de la 1ère maille pour VDF et PolyMAC et à la hauteur des centres des faces pour VEF :\\n\\n\")\n",
    "u_star_list = [[0 for x in range(nb_mesh)] for y in range(nb_method)] # liste des u_tau calculés à x_prof\n",
    "y_plus_cal_list = [[0 for x in range(nb_mesh)] for y in range(nb_method)] # liste des y+ calculés à x_prof\n",
    "\n",
    "# valeur min et max de tau (sert à mettre toutes les courbes à la meme échelle)\n",
    "min_tau = 50 \n",
    "max_tau = 0 \n",
    "\n",
    "fig = plt.figure(figsize = (15,4*ceil(nb_method/2)))\n",
    "axs = fig.subplots(ceil(nb_method/2),2)\n",
    "for i in range(nb_method):\n",
    "    for j in range(nb_mesh):\n",
    "        if config[i] in config_Pb_hydr: # avec pb_hydraulique : tau_w déduit des données dans le fichier Ustar.face\n",
    "            # plot tau_x=f(x)\n",
    "            wall_file = build+f'/{config[i]}/mesh_{j}/{file_pb_hydr}_pb_Ustar.face'\n",
    "            data = read_facefile(wall_file)\n",
    "            keys = list(data.keys())\n",
    "            x, y, u_plus, d_plus, u_star, tau, tau_x, tau_y = get_wall_param(data[keys[-1]])\n",
    "            tau_x = rho*tau_x\n",
    "            # save value of u_tau\n",
    "            u_plus, d_plus, u_star, tau, tau_xprof, tau_yprof = get_values_at_x(data[keys[-1]], x_prof)\n",
    "            u_star_list[i][j] = u_star\n",
    "            if \"VEF\" in config[i]:\n",
    "                y_plus = y_wall_list[\"VEF\"][j]*u_star*rho/mu\n",
    "            elif \"VDF\" in config[i]:\n",
    "                y_plus = y_wall_list[\"VDF\"][j]*u_star*rho/mu\n",
    "            else:\n",
    "                y_plus = y_wall_list[\"PolyMAC\"][j]*u_star*rho/mu\n",
    "            y_plus_cal_list[i][j] = y_plus\n",
    "            print(f\"{config[i]}\\t, mesh_{j} :\\t u* = {u_star:.4f} m/s,\\t\\t y+={y_plus:.1f}\")\n",
    "        else: # avec pb_hmultiphase : tau_w déduit de la sonde de y+\n",
    "            # plot tau_x=f(x)\n",
    "            x, y_demi = abscisses_sonde_yplus(config[i],Ny[j])\n",
    "            y_plus = np.array(plot.loadText(build+f\"/{config[i]}/mesh_{j}/{file_pb_multi}_Y_PLUS.son\")[1::,1])\n",
    "            u_tau, tau_x = get_tau_from_yplus(y_plus, y_demi, rho, mu)\n",
    "            # save value of u_tau\n",
    "            u_star = get_value_at_x(u_tau,x,x_prof)\n",
    "            u_star_list[i][j] = u_star\n",
    "            y_plus = 2*y_demi*u_star*rho/mu\n",
    "            y_plus_cal_list[i][j] = y_plus\n",
    "            print(f\"{config[i]}\\t, mesh_{j} :\\t u* = {u_star:.4f} m/s,\\t\\t y+={y_plus:.1f}\") # 2*y_demi pour etre à la frontière sup de la 1ere maille à la paroi\n",
    "        if min(tau_x)<min_tau:\n",
    "            min_tau = min(tau_x)\n",
    "        if max(tau_x)>max_tau:\n",
    "            max_tau = max(tau_x)    \n",
    "        axs[int(i/2),i%2].plot(x, tau_x, label=f\"mesh_{j}\") # Change plotted variable here (choose u_plus, d_plus, u_star, tau, tau_x or tau_y)\n",
    "    axs[int(i/2),i%2].plot(x,tau_pred*np.ones(len(x)), \"--\",label='estimation')\n",
    "    axs[int(i/2),i%2].legend(fontsize=12)\n",
    "    axs[int(i/2),i%2].set_xlabel(\"x [m]\", fontsize=10)\n",
    "    axs[int(i/2),i%2].set_ylabel(\"tau_x [Pa]\", fontsize=10)\n",
    "    axs[int(i/2),i%2].set_title(f'{config[i]}', fontsize=12)\n",
    "\n",
    "# Defining custom 'xlim' and 'ylim' values.\n",
    "custom_xlim = (0, 100)\n",
    "custom_ylim = (min_tau-0.1, max_tau+0.1)\n",
    "\n",
    "# Setting the values for all axes.\n",
    "plt.setp(axs, xlim=custom_xlim, ylim=custom_ylim)\n",
    "\n",
    "fig.suptitle(f\"Contraintes pariétales à t={round(keys[-1],1)}s\")\n",
    "fig.tight_layout()\n",
    "print(f\"\\nComparaison avec la estimation : u* = {u_tau_pred:.4f} m/s\")\n",
    "for i in range(nb_mesh):\n",
    "    print(f\" - mesh_{i} y+ à la paroi : y+_VEF = {y_plus_list['VEF'][i]:.1f}\\t y+_VDF = {y_plus_list['VDF'][i]:.1f}\\t y+_PolyMAC = {y_plus_list['PolyMAC'][i]:.1f}\")\n",
    "    "
   ]
  },
  {
   "cell_type": "markdown",
   "id": "bd3abd6f",
   "metadata": {},
   "source": [
    "### Profils de vitesse\n",
    "#### Etude de la convergence en maillage"
   ]
  },
  {
   "cell_type": "code",
   "execution_count": null,
   "id": "16bfcbe0",
   "metadata": {},
   "outputs": [],
   "source": [
    "# # Plot u⁺=f(y⁺)\n",
    "fig = plt.figure(figsize = (15,4*ceil(nb_method/2)))\n",
    "\n",
    "axs = fig.subplots(ceil(nb_method/2),2)\n",
    "\n",
    "for i in range(nb_method):\n",
    "    file = file_pb_hydr\n",
    "    if config[i] in config_Pb_multi:\n",
    "        file = file_pb_multi\n",
    "    for j in range(nb_mesh):\n",
    "        utau = u_star_list[i][j] \n",
    "        uplus = np.array(plot.loadText(build+f\"/{config[i]}/mesh_{j}/{file}_VITESSE.son\")[1::2,1])/utau\n",
    "        yplus = np.linspace(y_min_prof[j], y_max_prof[j], nb_points_prof[j])*utau/(mu/rho)\n",
    "        axs[int(i/2),i%2].plot(yplus, uplus, \"-o\",markersize=3,label=f\"mesh_{j}: u⁺=f(y⁺)\")\n",
    "        axs[int(i/2),i%2].plot(y_plus_cal_list[i][j]*np.ones(2),np.linspace(4,20,2), linestyle ='dotted', label=f\"mesh_{j}: y⁺wall={y_plus_cal_list[i][j]:.0f}\")\n",
    "    axs[int(i/2),i%2].plot(yplus[yplus>10], (1/kappa)*np.log(yplus[yplus>10])+B, \"--\", label=\"log law\", color=\"black\")\n",
    "    #axs[int(i/2),i%2].plot(yplus[yplus<15], yplus[yplus<15], \"--\", label=\"u⁺ = y⁺\", color=\"grey\")\n",
    "    axs[int(i/2),i%2].legend(fontsize=10)\n",
    "    axs[int(i/2),i%2].set_xlabel(\"y+\", fontsize=12)\n",
    "    axs[int(i/2),i%2].set_ylabel(\"u+\", fontsize=12)\n",
    "    axs[int(i/2),i%2].set_xscale('log')\n",
    "    axs[int(i/2),i%2].set_title(f'{config[i]}', fontsize=12)\n",
    "fig.suptitle(f\"Profils de vitesse à x={x_prof}m : convergence en maillage\")\n",
    "fig.tight_layout()"
   ]
  },
  {
   "cell_type": "code",
   "execution_count": null,
   "id": "76b10684",
   "metadata": {},
   "outputs": [],
   "source": [
    "# # Plot u=f(y)\n",
    "\n",
    "Graph=plot.Graph(\"Velocity profiles : convergence en maillage\", nX=ceil(nb_method/2),nY=2,size=[8,6])\n",
    "for i in range(nb_method):\n",
    "    file = file_pb_hydr\n",
    "    if config[i] in config_Pb_multi:\n",
    "        file = file_pb_multi\n",
    "    Graph.addPlot((int(i/2),i%2),f\"{config[i]}\")\n",
    "    for j in range(nb_mesh):\n",
    "        Graph.addSegment(build+f\"/{config[i]}/mesh_{j}/{file}_VITESSE.son\", linestyle=\"solid\", marker = 'o', markersize=3,compo=0,label=f\"mesh_{j}\")\n",
    "    Graph.legend()\n",
    "    Graph.label(\"y [m]\", \"u [m/s]\")"
   ]
  },
  {
   "cell_type": "markdown",
   "id": "bcb9ac74",
   "metadata": {},
   "source": [
    "#### Comparaison des différentes méthodes de calcul"
   ]
  },
  {
   "cell_type": "code",
   "execution_count": null,
   "id": "7ebb9fa2",
   "metadata": {},
   "outputs": [],
   "source": [
    "# # Plot u+=f(y+)\n",
    "\n",
    "Graph=plot.Graph(\"Velocity profiles : comparaison des méthodes\", nY=nb_mesh,size=[8,5])\n",
    "for j in range(nb_mesh):\n",
    "    Graph.addPlot(j,f\"mesh_{j}\")\n",
    "    for i in range(nb_method):\n",
    "        file = file_pb_multi\n",
    "        utau = u_tau_pred\n",
    "        if config[i] in config_Pb_hydr:\n",
    "            utau = u_star_list[i][j] \n",
    "            file = file_pb_hydr\n",
    "        uplus = np.array(plot.loadText(build+f\"/{config[i]}/mesh_{j}/{file}_VITESSE.son\")[1::2,1])/utau\n",
    "        yplus = np.linspace(y_min_prof[j], y_max_prof[j], nb_points_prof[j])*utau/(mu/rho)\n",
    "        Graph.add(yplus, uplus, linestyle=\"solid\", marker = 'o', markersize=3,label=f\"{config[i]}\")\n",
    "    Graph.add(yplus[yplus>10], (1/kappa)*np.log(yplus[yplus>10])+B, \"--\", linewidth=2, label=\"log law\", color=\"black\")\n",
    "    Graph.scale(xscale='log')\n",
    "    Graph.legend()\n",
    "    Graph.label(\"y⁺\", \"u⁺\")"
   ]
  },
  {
   "cell_type": "code",
   "execution_count": null,
   "id": "a2593cf9",
   "metadata": {},
   "outputs": [],
   "source": [
    "# # Plot u=f(y)\n",
    "\n",
    "Graph=plot.Graph(\"Velocity profiles : comparaison des méthodes\", nY=nb_mesh,size=[8,6])\n",
    "for j in range(nb_mesh):\n",
    "    Graph.addPlot(j,f\"mesh_{j}\")\n",
    "    for i in range(nb_method):\n",
    "        file = file_pb_hydr\n",
    "        if config[i] in config_Pb_multi:\n",
    "            file = file_pb_multi\n",
    "        Graph.addSegment(build+f\"/{config[i]}/mesh_{j}/{file}_VITESSE.son\",compo=0, linestyle=\"solid\", marker = 'o', markersize=3,label=f\"{config[i]}\")\n",
    "    Graph.legend()\n",
    "    Graph.label(\"y [m]\", \"u [m/s]\")"
   ]
  },
  {
   "cell_type": "markdown",
   "id": "7ea0c8fc",
   "metadata": {},
   "source": [
    "### Traceurs de la turbulence\n",
    "#### Etude de la convergence en maillage"
   ]
  },
  {
   "cell_type": "code",
   "execution_count": null,
   "id": "b1d88de1",
   "metadata": {
    "scrolled": false
   },
   "outputs": [],
   "source": [
    "\n",
    "Graph=plot.Graph(title=\"Traceurs de turbulence : convergence en maillage\",nY=2,nX=nb_method,size=[8,6])\n",
    "\n",
    "for i in range(nb_method):\n",
    "    file = file_pb_hydr\n",
    "    if config[i] in config_Pb_multi:\n",
    "        file = file_pb_multi\n",
    "    Graph.addPlot((i,0),f\"{config[i]}\")\n",
    "    for j in range(nb_mesh):\n",
    "        Graph.addSegment(build+f\"/{config[i]}/mesh_{j}/{file}_K.son\", linestyle=\"solid\", marker = 'o', markersize=3,label=f\"mesh_{j}\")\n",
    "    Graph.legend()\n",
    "    Graph.label(\"y [m]\", \"k [m²/s²]\")\n",
    "\n",
    "\n",
    "for i in range(nb_method):\n",
    "    file = file_pb_hydr\n",
    "    if config[i] in config_Pb_multi:\n",
    "        file = file_pb_multi\n",
    "    Graph.addPlot((i,1),f\"{config[i]}\")\n",
    "    for j in range(nb_mesh):\n",
    "        diss = np.array(plot.loadText(build+f\"/{config[i]}/mesh_{j}/{file}_DISS.son\")[1::,1])\n",
    "        k = np.array(plot.loadText(build+f\"/{config[i]}/mesh_{j}/{file}_K.son\")[1::,1])\n",
    "        if \"tau\" in config[i]:\n",
    "            epsilon = 0.09*k/diss\n",
    "        elif \"omega\" in config[i]:\n",
    "            epsilon = 0.09*k*diss\n",
    "        else:\n",
    "            epsilon = diss\n",
    "        y = np.linspace(y_min_prof[j], y_max_prof[j], nb_points_prof[j])\n",
    "        Graph.add(y,epsilon, \"-o\", markersize=3,label=f\"mesh_{j}\")\n",
    "    Graph.legend()\n",
    "    Graph.label(\"y [m]\", \"epsilon [m²/s³]\")"
   ]
  },
  {
   "cell_type": "markdown",
   "id": "5f653aa9",
   "metadata": {},
   "source": [
    "#### Comparaison des différentes méthodes de calcul"
   ]
  },
  {
   "cell_type": "code",
   "execution_count": null,
   "id": "b91c4d91",
   "metadata": {},
   "outputs": [],
   "source": [
    "Graph=plot.Graph(\"Traceurs de la turbulence : comparaison des méthodes\",nX=2, nY=nb_mesh,size=[8,6])\n",
    "for j in range(nb_mesh):\n",
    "    if nb_mesh==1:\n",
    "        indice = 0\n",
    "    else:\n",
    "        indice = (0,j)\n",
    "    Graph.addPlot(indice,f\"mesh_{j}\")\n",
    "    for i in range(nb_method):\n",
    "        file = file_pb_hydr\n",
    "        if config[i] in config_Pb_multi:\n",
    "            file = file_pb_multi\n",
    "        Graph.addSegment(build+f\"/{config[i]}/mesh_{j}/{file}_K.son\", linestyle=\"solid\", marker = 'o', markersize=3,label=f\"{config[i]}\")\n",
    "    Graph.legend()\n",
    "    Graph.label(\"y [m]\", \"k [m²/s²]\")\n",
    "    \n",
    "for j in range(nb_mesh):\n",
    "    if nb_mesh==1:\n",
    "        indice = 1\n",
    "    else:\n",
    "        indice = (1,j)\n",
    "    Graph.addPlot(indice,f\"mesh_{j}\")\n",
    "    for i in range(nb_method):\n",
    "        file = file_pb_hydr\n",
    "        if config[i] in config_Pb_multi:\n",
    "            file = file_pb_multi\n",
    "        diss = np.array(plot.loadText(build+f\"/{config[i]}/mesh_{j}/{file}_DISS.son\")[1::,1])\n",
    "        k = np.array(plot.loadText(build+f\"/{config[i]}/mesh_{j}/{file}_K.son\")[1::,1])\n",
    "        if \"tau\" in config[i]:\n",
    "            epsilon = 0.09*k/diss\n",
    "        elif \"omega\" in config[i]:\n",
    "            epsilon = 0.09*k*diss\n",
    "        else:\n",
    "            epsilon = diss\n",
    "        y = np.linspace(y_min_prof[j], y_max_prof[j], nb_points_prof[j])\n",
    "        Graph.add(y,epsilon, \"-o\", markersize=3,label=f\"{config[i]}\")\n",
    "    Graph.legend()\n",
    "    Graph.label(\"y [m]\", \"epsilon [m²/s³]\")"
   ]
  },
  {
   "cell_type": "markdown",
   "id": "a8223b83",
   "metadata": {},
   "source": [
    "### Perte de charge\n",
    "Les pertes de charge sont calculées entre la sortie et une section de l'écoulement à 5m de l'entrée car VEF_k-epsilon et VDF_k-tau prédisent mal le champ de pression en entrée"
   ]
  },
  {
   "cell_type": "code",
   "execution_count": null,
   "id": "e895e8a5",
   "metadata": {
    "scrolled": true
   },
   "outputs": [],
   "source": [
    "Re_Dh = 4*Re_H\n",
    "Dh = 4*H\n",
    "f_guess = 0.02\n",
    "f = facteur_frottement(Re_Dh,f_guess) # coefficient de frottement donnée par la formule de Von Karman et Nikurade (Re>1e5)\n",
    "v_m = inlet_velocity # vitesse moyenne sur une section\n",
    "L = 100-5 # [m] : longueur du conduit\n",
    "delta_p_estime = -f*L/Dh*rho*v_m**2/2\n",
    "print(f\"Estimation de la perte de charge avec la formule de Von Karman et Nikuradse (comme le diagramme de Moody):\\nDeltaP = {delta_p_estime:.1f} Pa\")"
   ]
  },
  {
   "cell_type": "code",
   "execution_count": null,
   "id": "3fe0f1cb",
   "metadata": {},
   "outputs": [],
   "source": [
    "for j in range(nb_mesh):\n",
    "    for i in range(nb_method):\n",
    "        file = file_pb_hydr\n",
    "        if config[i] in config_Pb_multi:\n",
    "            file = file_pb_multi\n",
    "        p_inlet = np.mean(np.array(plot.loadText(build+f\"/{config[i]}/mesh_{j}/{file}_PRESSION_I.son\")[1::,1]))\n",
    "        p_outlet = np.mean(np.array(plot.loadText(build+f\"/{config[i]}/mesh_{j}/{file}_PRESSION_O.son\")[1::,1]))\n",
    "        delta_p = p_outlet-p_inlet\n",
    "        if \"k-epsilon\" in config[i]:\n",
    "            delta_p = rho*delta_p\n",
    "        #delta_u2 = u[1]**2-u[0]**2\n",
    "        print(f\"{config[i]}\\t-\\tmesh_{j}\\t: deltaP = {delta_p:.1f} Pa\\tEcart relatif : {100*(abs(delta_p)-abs(delta_p_estime))/abs(delta_p_estime):.0f}%\")\n"
   ]
  },
  {
   "cell_type": "markdown",
   "id": "3bb1b3f4",
   "metadata": {},
   "source": [
    "### Pression\n",
    "On verifie que le gradient de pression reste négligeable : dans ce cas la loi logarithmique doit bien être retrouvée.\n",
    "Les valeurs maximales de p+ (paramètre de Mellor & Gibson) sont calculées."
   ]
  },
  {
   "cell_type": "code",
   "execution_count": null,
   "id": "0407f75c",
   "metadata": {},
   "outputs": [],
   "source": [
    "# # Plot P(x)\n",
    "\n",
    "Graph=plot.Graph(\"Pressure evolution at y=0.8m\",subtitle=\"pressure\",nY=2,size=[15,7])\n",
    "index=0\n",
    "for i in range(nb_method):\n",
    "    if config[i] in config_Pb_hydr:\n",
    "        Graph.addPlot(index,f\"{config[i]}\")\n",
    "        index+=1\n",
    "        for j in range(nb_mesh):\n",
    "            Graph.addSegment(build+f\"/{config[i]}/mesh_{j}/{file_pb_hydr}_PRESSION.son\",label=f\"mesh_{j}\")\n",
    "        Graph.legend()\n",
    "        Graph.label(\"x [m]\", \"P/rho [Pa.m³/kg]\")\n",
    "    \n",
    "Graph=plot.Graph(\"Pressure gradient at y=0.8m\",subtitle=\"pressure\",nY=2,size=[15,7])\n",
    "index=0\n",
    "for i in range(nb_method):\n",
    "    if config[i] in config_Pb_hydr:\n",
    "        Graph.addPlot(index,f\"{config[i]}\")\n",
    "        index+=1\n",
    "        for j in range(nb_mesh):\n",
    "            Graph.addSegment(build+f\"/{config[i]}/mesh_{j}/{file_pb_hydr}_GRADP.son\",label=f\"mesh_{j}\")\n",
    "            Graph.legend()\n",
    "            Graph.label(\"x [m]\", \"grad(P/rho) [m/s²]\")\n",
    "            dp_dx = np.array(plot.loadText(build+f\"/{config[i]}/mesh_{j}/{file_pb_hydr}_GRADP.son\")[1::,1])\n",
    "            p_plus = (mu/rho)*np.max(np.abs(dp_dx))/u_star_list[i][j]\n",
    "            print(f\"{config[i]}, mesh_{j} : p+={p_plus:.2e}\")"
   ]
  },
  {
   "cell_type": "code",
   "execution_count": null,
   "id": "347b55ef",
   "metadata": {},
   "outputs": [],
   "source": [
    "#fig=visit.Show(build+f\"/VDF_k-epsilon/mesh_0/{file_pb_hydr}.lata\",\"Pseudocolor\",\"VITESSE_X_ELEM_dom\")\n",
    "\n",
    "# to add a list of viewing options\n",
    "#fig.visuOptions(['no_databaseinfo','no_legend'])\n",
    "\n",
    "# To display the visu with the initialization visit.Show()\n",
    "#fig.plot()"
   ]
  }
 ],
 "metadata": {
  "kernelspec": {
   "display_name": "Python 3 (ipykernel)",
   "language": "python",
   "name": "python3"
  },
  "language_info": {
   "codemirror_mode": {
    "name": "ipython",
    "version": 3
   },
   "file_extension": ".py",
   "mimetype": "text/x-python",
   "name": "python",
   "nbconvert_exporter": "python",
   "pygments_lexer": "ipython3",
   "version": "3.7.16"
  }
 },
 "nbformat": 4,
 "nbformat_minor": 5
}
