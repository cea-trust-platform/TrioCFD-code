{
 "cells": [
  {
   "cell_type": "markdown",
   "id": "inappropriate-lingerie",
   "metadata": {},
   "source": [
    "# Vérification du codage du gradient de vitesse et de la vorticite"
   ]
  },
  {
   "cell_type": "code",
   "execution_count": null,
   "id": "f08aed89",
   "metadata": {},
   "outputs": [],
   "source": [
    "from trustutils import run \n",
    "from trustutils import visit\n",
    "from trustutils.jupyter import plot\n",
    "import numpy as np\n",
    "\n",
    "run.introduction(\"C. Reiss\",\"16/03/2022\")\n",
    "run.TRUST_parameters()"
   ]
  },
  {
   "cell_type": "markdown",
   "id": "f61f5a28",
   "metadata": {},
   "source": [
    "## Description\n",
    "\n",
    "On regarde la decroissance de k et tau en se basant sur le cas de validation historique de decroissance k eps. Solution analytique : si $\\epsilon(0)/k(0)=1/(C2-1)$, alors $K(t)=K(0) (t+1)^{-1/(c2-1)}$ et $Eps(t)=Eps(0) (t+1)^{-c2/(c2-1)}$\n"
   ]
  },
  {
   "cell_type": "code",
   "execution_count": null,
   "id": "079d201b-67de-4f90-8493-a2a38d65de78",
   "metadata": {},
   "outputs": [],
   "source": [
    "from trustutils import run \n",
    "c1 = run.addCase(\".\",\"Decroissance_ktau.data\")\n",
    "c2 = run.addCase(\".\",\"Decroissance_komega.data\")\n",
    "\n",
    "run.printCases()\n",
    "run.runCases()"
   ]
  },
  {
   "cell_type": "markdown",
   "id": "growing-hundred",
   "metadata": {},
   "source": [
    "## Comparaison a la solution analytique"
   ]
  },
  {
   "cell_type": "code",
   "execution_count": null,
   "id": "2d9e803e",
   "metadata": {},
   "outputs": [],
   "source": [
    "Graphique=plot.Graph(\"Comparaison a la solution analytique k en fonction du temps\")\n",
    "Graphique.addPoint(\"./Decroissance_ktau_SONDE_K.son\",label=\"trust_tau\",color=\"g\",marker=\"x\")\n",
    "Graphique.addPoint(\"./Decroissance_komega_SONDE_K.son\",label=\"trust_omega\",color=\"r\",marker=\"-\")\n",
    "\n",
    "x=np.linspace(0,32,320)\n",
    "y=(x+1)**(-1.0869565217391306)\n",
    "Graphique.add(x,y,label= \"analytique\",color=\"blue\")"
   ]
  },
  {
   "cell_type": "code",
   "execution_count": null,
   "id": "43374ed4",
   "metadata": {},
   "outputs": [],
   "source": [
    "Graphique=plot.Graph(\"Comparaison a la solution analytique k en fonction du temps\")\n",
    "Graphique.addPoint(\"./Decroissance_ktau_SONDE_K.son\",label=\"trust_tau\",color=\"g\",marker=\"-x\")\n",
    "Graphique.addPoint(\"./Decroissance_komega_SONDE_K.son\",label=\"trust_omega\",color=\"r\",marker=\"-\")\n",
    "\n",
    "x=np.linspace(0,32,320)\n",
    "y=(x+1)**(-1.0869565217391306)\n",
    "Graphique.add(x,y,label= \"analytique\",color=\"blue\")\n",
    "Graphique.scale(yscale='log')"
   ]
  },
  {
   "cell_type": "code",
   "execution_count": null,
   "id": "f40cb3e7-1663-4687-be50-9463c6c27e02",
   "metadata": {},
   "outputs": [],
   "source": [
    "Graphique=plot.Graph(\"Comparaison a la solution analytique tau en fonction du temps\")\n",
    "Graphique.addPoint(\"./Decroissance_ktau_SONDE_TAU.son\",label=\"trust_tau\",color=\"g\",marker=\"-x\")\n",
    "\n",
    "x=np.linspace(0,32,320)\n",
    "y=(x+1)**(-1.0869565217391306) / ((x+1)**(-1.0869565217391306-1)/0.92) * 0.09\n",
    "Graphique.add(x,y,label= \"analytique\",color=\"blue\")"
   ]
  },
  {
   "cell_type": "code",
   "execution_count": null,
   "id": "98fa72b0",
   "metadata": {},
   "outputs": [],
   "source": [
    "Graphique=plot.Graph(\"Comparaison a la solution analytique omega en fonction du temps\")\n",
    "Graphique.addPoint(\"./Decroissance_komega_SONDE_OMEGA.son\",label=\"trust_omega\",color=\"r\",marker=\"-x\")\n",
    "\n",
    "x=np.linspace(0,32,320)\n",
    "y=1/((x+1)**(-1.0869565217391306) / ((x+1)**(-1.0869565217391306-1)/0.92) * 0.09)\n",
    "Graphique.add(x,y,label= \"analytique\",color=\"blue\")"
   ]
  },
  {
   "cell_type": "code",
   "execution_count": null,
   "id": "59bfddfd",
   "metadata": {},
   "outputs": [],
   "source": [
    "Graphique=plot.Graph(\"Comparaison a la solution analytique omega en fonction du temps\")\n",
    "Graphique.addPoint(\"./Decroissance_komega_SONDE_OMEGA.son\",label=\"trust_omega\",color=\"r\",marker=\"-x\")\n",
    "\n",
    "x=np.linspace(0,32,320)\n",
    "y=1/((x+1)**(-1.0869565217391306) / ((x+1)**(-1.0869565217391306-1)/0.92) * 0.09)\n",
    "Graphique.add(x,y,label= \"analytique\",color=\"blue\")\n",
    "Graphique.scale(yscale='log')"
   ]
  },
  {
   "cell_type": "code",
   "execution_count": null,
   "id": "1c745b1d",
   "metadata": {},
   "outputs": [],
   "source": [
    "Graphique=plot.Graph(\"Comparaison a la solution analytique epsilon en fonction du temps\")\n",
    "Graphique.addPoint(\"./Decroissance_ktau_SONDE_EPSILON.son\",label=\"trust_tau\",color=\"g\",marker=\"x\")\n",
    "Graphique.addPoint(\"./Decroissance_komega_SONDE_EPSILON.son\",label=\"trust_omega\",color=\"r\",marker=\"-\")\n",
    "\n",
    "x=np.linspace(0,32,320)\n",
    "y=(x+1)**(-1.0869565217391306-1)/(0.92*0.09)\n",
    "Graphique.add(x,y,label= \"analytique\",color=\"blue\")"
   ]
  },
  {
   "cell_type": "code",
   "execution_count": null,
   "id": "77c6cd27",
   "metadata": {},
   "outputs": [],
   "source": [
    "Graphique=plot.Graph(\"Comparaison a la solution analytique epsilon en fonction du temps\")\n",
    "Graphique.addPoint(\"./Decroissance_ktau_SONDE_EPSILON.son\",label=\"trust_tau\",color=\"g\",marker=\"-x\")\n",
    "Graphique.addPoint(\"./Decroissance_komega_SONDE_EPSILON.son\",label=\"trust_omega\",color=\"r\",marker=\"-\")\n",
    "\n",
    "x=np.linspace(0,32,320)\n",
    "y=(x+1)**(-1.0869565217391306-1)/(0.92*0.09)\n",
    "Graphique.add(x,y,label= \"analytique\",color=\"blue\")\n",
    "Graphique.scale(yscale='log')"
   ]
  },
  {
   "cell_type": "code",
   "execution_count": null,
   "id": "f0e35a4a",
   "metadata": {},
   "outputs": [],
   "source": [
    "Graphique=plot.Graph(\"Comparaison a la solution analytique nu_t en fonction du temps\")\n",
    "Graphique.addPoint(\"./Decroissance_ktau_SONDE_VISC.son\",label=\"trust_tau\",color=\"g\",marker=\"x\")\n",
    "Graphique.addPoint(\"./Decroissance_komega_SONDE_VISC.son\",label=\"trust_omega\",color=\"r\",marker=\"-\")\n",
    "\n",
    "x=np.linspace(0,32,320)\n",
    "y=(x+1)**(-1.0869565217391306+1)*0.92*0.09*2\n",
    "Graphique.add(x,y,label= \"analytique\",color=\"blue\")"
   ]
  },
  {
   "cell_type": "code",
   "execution_count": null,
   "id": "44dbcaff",
   "metadata": {},
   "outputs": [],
   "source": []
  },
  {
   "cell_type": "code",
   "execution_count": null,
   "id": "b3ebbf7b",
   "metadata": {},
   "outputs": [],
   "source": []
  }
 ],
 "metadata": {
  "kernelspec": {
   "display_name": "Python 3 (ipykernel)",
   "language": "python",
   "name": "python3"
  },
  "language_info": {
   "codemirror_mode": {
    "name": "ipython",
    "version": 3
   },
   "file_extension": ".py",
   "mimetype": "text/x-python",
   "name": "python",
   "nbconvert_exporter": "python",
   "pygments_lexer": "ipython3",
   "version": "3.7.16"
  }
 },
 "nbformat": 4,
 "nbformat_minor": 5
}
