{
 "cells": [
  {
   "cell_type": "markdown",
   "id": "ffa5e26c",
   "metadata": {},
   "source": [
    "# Purpose \n",
    " \n",
    "The present verification report aims at checking the post-processing of the convective, diffusive and source terms of the $k$--$\\varepsilon$ transport equations for the standard and realizable models, and for VDF and VEF discretizations. No numerical resolution is performed.\n",
    "\n",
    "Validation made by : Pierre-Emmanuel Angeli \n",
    " \n",
    "Report generated  31/01/2024\n"
   ]
  },
  {
   "cell_type": "markdown",
   "id": "8b409c5c",
   "metadata": {},
   "source": [
    "# Problem Description \n",
    " \n"
   ]
  },
  {
   "cell_type": "markdown",
   "id": "f3d210e5",
   "metadata": {},
   "source": [
    "## Geometry \n"
   ]
  },
  {
   "cell_type": "markdown",
   "id": "173ca204",
   "metadata": {},
   "source": [
    "The computational domain is the unit cube.\n"
   ]
  },
  {
   "cell_type": "markdown",
   "id": "3c7f57c3",
   "metadata": {},
   "source": [
    "## Initial Conditions and Boundary Conditions \n"
   ]
  },
  {
   "cell_type": "markdown",
   "id": "ee6f64cf",
   "metadata": {},
   "source": [
    "$\\bullet$ **Boundary conditions**: Triple periodicity.\n"
   ]
  },
  {
   "cell_type": "markdown",
   "id": "d196d09d",
   "metadata": {},
   "source": [
    "$\\bullet$ **Initial conditions**: Periodic velocity, turbulent kinetic energy and turbulent dissipation fields defined by the following analytical expressions:\n"
   ]
  },
  {
   "cell_type": "markdown",
   "id": "dccdf5ca",
   "metadata": {},
   "source": [
    "\\begin{equation*}\\left\\{\\begin{array}{ll}\\text{velocity vector: } & \\textbf{u}(x,y,z) = \\displaystyle{ \\begin{pmatrix} -2 \\cos(2\\pi x) \\sin(2\\pi y) \\sin(2\\pi z) \\\\\\\\ \\sin(2\\pi x) \\cos(2\\pi y) \\sin(2\\pi z) \\\\\\\\ \\sin(2\\pi x) \\sin(2\\pi y) \\cos(2\\pi z) \\end{pmatrix}} \\\\\\\\ \\text{turbulent kinetic energy: } & k(x,y,z) = \\cos(2 \\pi y)+2 \\\\\\\\ \\text{turbulent dissipation rate: } & \\varepsilon(x,y,z) = \\sin(2 \\pi y)+2 \\end{array}\\right.\\end{equation*}\n"
   ]
  },
  {
   "cell_type": "markdown",
   "id": "b5236cb7",
   "metadata": {},
   "source": [
    "N.B.: The imposed velocity field has a zero divergence.\n"
   ]
  },
  {
   "cell_type": "markdown",
   "id": "250ab49e",
   "metadata": {},
   "source": [
    "## Fluid Properties \n"
   ]
  },
  {
   "cell_type": "markdown",
   "id": "f3968ae4",
   "metadata": {},
   "source": [
    "$\\nu$ = 0.001 Pa.s\n"
   ]
  },
  {
   "cell_type": "markdown",
   "id": "ba9094ce",
   "metadata": {},
   "source": [
    "$\\rho$ = 1000 kg/s\n"
   ]
  },
  {
   "cell_type": "markdown",
   "id": "5adc9d49",
   "metadata": {},
   "source": [
    "## Flow Physics \n"
   ]
  },
  {
   "cell_type": "markdown",
   "id": "0a70d242",
   "metadata": {},
   "source": [
    "This is a verification of post-processing: analytical velocity, $k$ and $\\varepsilon$ fields are imposed and frozen (no resolution of the flow).\n"
   ]
  },
  {
   "cell_type": "markdown",
   "id": "0e1dfb56",
   "metadata": {},
   "source": [
    "# Case Setup \n",
    " \n"
   ]
  },
  {
   "cell_type": "markdown",
   "id": "6aa73bb2",
   "metadata": {},
   "source": [
    "## Grid \n"
   ]
  },
  {
   "cell_type": "markdown",
   "id": "f73b452f",
   "metadata": {},
   "source": [
    "$\\bullet$ The VDF mesh has 101 points in each direction $\\Rightarrow (101-1)^3 = 10^6$ cells.\n"
   ]
  },
  {
   "cell_type": "markdown",
   "id": "afcb2ff9",
   "metadata": {},
   "source": [
    "$\\bullet$ The VEF mesh has 26 points in each direction and the cells are divided into 48 tetrahedra with the ```tetraedriser_homogene_fin``` option $\\Rightarrow 48 \\times (26-1)^3 = 7.5 \\cdot 10^5$ cells.\n"
   ]
  },
  {
   "cell_type": "markdown",
   "id": "7e5fb3b1",
   "metadata": {},
   "source": [
    "## Model Options \n"
   ]
  },
  {
   "cell_type": "markdown",
   "id": "4c3930f0",
   "metadata": {},
   "source": [
    "The transport equations of $k$ and $\\varepsilon$ write under the following form:\n"
   ]
  },
  {
   "cell_type": "markdown",
   "id": "1ab7cbca",
   "metadata": {},
   "source": [
    "\\begin{equation*}\\left\\{\\begin{array}{c}\\dfrac{\\partial k}{\\partial t} + \\underbrace{U_i \\dfrac{\\partial k}{\\partial x_i}}_{\\text{conv}_k} = \\underbrace{\\dfrac{\\partial}{\\partial x_i} \\left[ \\left( \\dfrac{\\nu_t}{\\sigma_k} \\right) \\dfrac{\\partial k}{\\partial x_i} \\right]}_{\\text{diff}_k} + \\underbrace{P - \\varepsilon}_{\\text{ source}_k} \\\\\\\\ \\dfrac{\\partial \\varepsilon}{\\partial t} + \\underbrace{U_i \\dfrac{\\partial \\varepsilon}{\\partial x_i}}_{\\text{conv}_\\varepsilon} = \\underbrace{\\dfrac{\\partial}{\\partial x_i} \\left[ \\left( \\dfrac{\\nu_t}{\\sigma_\\varepsilon} \\right) \\dfrac{\\partial \\varepsilon}{\\partial x_i} \\right]}_{\\text{diff}_\\varepsilon} + \\text{ source}_\\varepsilon\\end{array}\\right.\\end{equation*}\n"
   ]
  },
  {
   "cell_type": "markdown",
   "id": "e581cdb7",
   "metadata": {},
   "source": [
    "The $\\varepsilon$ source term in the standard and realizable $k$--$\\varepsilon$ models is defined as:\n"
   ]
  },
  {
   "cell_type": "markdown",
   "id": "9edabc9c",
   "metadata": {},
   "source": [
    "\\begin{equation*}\\left\\{\\begin{array}{ll}\\text{standard: } & \\text{source}_\\varepsilon = \\dfrac{\\varepsilon}{k} \\left( C_{\\varepsilon_1} P - C_{\\varepsilon_2} \\varepsilon \\right) \\\\\\\\ \\text{realizable: } & \\text{source}_\\varepsilon = C_1 S \\varepsilon -C_2 \\dfrac{\\varepsilon^2}{k + \\sqrt{\\nu \\varepsilon}}\\end{array}\\right.\\end{equation*}\n"
   ]
  },
  {
   "cell_type": "markdown",
   "id": "51e116d8",
   "metadata": {},
   "source": [
    "For the complete description of the models, refer to equations and (21) and (54) of [1].\n"
   ]
  },
  {
   "cell_type": "markdown",
   "id": "1a3ff75e",
   "metadata": {},
   "source": [
    "The analytical expressions of the terms are not written here; they are computed using Maple and the corresponding profiles are exported in files.\n"
   ]
  },
  {
   "cell_type": "markdown",
   "id": "2e1cc4ba",
   "metadata": {},
   "source": [
    "In order to get rid of interpolation of their values, the terms are plotted by means of probes at their real location, namely:\n"
   ]
  },
  {
   "cell_type": "markdown",
   "id": "b478f84c",
   "metadata": {},
   "source": [
    "$\\bullet$ at gravity center of cells in VDF;\n"
   ]
  },
  {
   "cell_type": "markdown",
   "id": "7133aff5",
   "metadata": {},
   "source": [
    "$\\bullet$ at face center of cells in VEF.\n"
   ]
  },
  {
   "cell_type": "markdown",
   "id": "4ab10da5",
   "metadata": {},
   "source": [
    "## Other Options (calculation) "
   ]
  },
  {
   "cell_type": "markdown",
   "id": "f00b9853",
   "metadata": {},
   "source": [
    "The ```equation_non_resolue``` option is used to disable the resolution.\n"
   ]
  },
  {
   "cell_type": "markdown",
   "id": "edb27a58",
   "metadata": {},
   "source": [
    "The number of time steps ```nb_pas_dt_max``` is set to zero.\n"
   ]
  },
  {
   "cell_type": "markdown",
   "id": "d8864751",
   "metadata": {},
   "source": [
    "# Results \n",
    "\n",
    "## Validation Specific Informations \n",
    "* Version TRUST : 1.8.2 \n",
    "* Type of problem: 3D turbulent hydraulic problem\n",
    "* Discretizations: VDF and VEFPreP1B"
   ]
  },
  {
   "cell_type": "code",
   "execution_count": null,
   "id": "89c91518",
   "metadata": {},
   "outputs": [],
   "source": [
    "from trustutils import run\n",
    " \n",
    "run.reset() \n",
    "run.addCase(\"VDF_KEPS_STANDARD\",\"Cas.data\")\n",
    "run.addCase(\"VDF_KEPS_REALISABLE\",\"Cas.data\")\n",
    "run.addCase(\"VEF_KEPS_STANDARD\",\"Cas.data\")\n",
    "run.addCase(\"VEF_KEPS_REALISABLE\",\"Cas.data\")\n",
    "run.printCases()\n",
    "run.runCases()"
   ]
  },
  {
   "cell_type": "markdown",
   "id": "c75878de",
   "metadata": {},
   "source": [
    "### Performance Chart"
   ]
  },
  {
   "cell_type": "code",
   "execution_count": null,
   "id": "c214feb7",
   "metadata": {},
   "outputs": [],
   "source": [
    "run.tablePerf()"
   ]
  },
  {
   "cell_type": "markdown",
   "id": "e813a565",
   "metadata": {},
   "source": [
    "## Plot Data\n",
    " \n"
   ]
  },
  {
   "cell_type": "markdown",
   "id": "ba10c774",
   "metadata": {},
   "source": [
    "### Verification for the standard $k$-$\\varepsilon$ model in VDF\n"
   ]
  },
  {
   "cell_type": "code",
   "execution_count": null,
   "id": "5284ef63",
   "metadata": {},
   "outputs": [],
   "source": [
    "from trustutils import plot \n",
    " \n",
    "fig = plot.Graph(r\"Convective terms of the standard $k$-$\\varepsilon$ model in VDF at x = z = 0.005\")\n",
    "\n",
    "data = plot.loadText(\"./Profils_analytiques/VDF_conv_tke_standard.dat\")\n",
    "fig.add((data[0]),-(data[1]),label=r\"Analytic profile (k equation)\")\n",
    "\n",
    "data = plot.loadText(\"./Profils_analytiques/VDF_conv_eps_standard.dat\")\n",
    "fig.add((data[0]),-(data[1]),label=r\"Analytic profile (eps equation)\")\n",
    "\n",
    "data = plot.loadText(\"./VDF_KEPS_STANDARD/conv_tke.dat\")\n",
    "fig.add((data[0]),(data[1]),marker=\"x\",label=r\"TrioCFD profile (k equation)\")\n",
    "\n",
    "data = plot.loadText(\"./VDF_KEPS_STANDARD/conv_eps.dat\")\n",
    "fig.add((data[0]),(data[1]),marker=\"x\",label=r\"TrioCFD profile (eps equation)\")\n",
    "\n",
    "fig.label(\"y\",\"convective term\")\n",
    "\n",
    "fig.visu()\n"
   ]
  },
  {
   "cell_type": "code",
   "execution_count": null,
   "id": "09a92dd6",
   "metadata": {},
   "outputs": [],
   "source": [
    "from trustutils import plot \n",
    " \n",
    "fig = plot.Graph(r\"Diffusive terms of the standard $k$-$\\varepsilon$ model in VDF at x = z = 0.005\")\n",
    "\n",
    "data = plot.loadText(\"./Profils_analytiques/VDF_diff_tke_standard.dat\")\n",
    "fig.add((data[0]),(data[1]),label=r\"Analytic profile (k equation)\")\n",
    "\n",
    "data = plot.loadText(\"./Profils_analytiques/VDF_diff_eps_standard.dat\")\n",
    "fig.add((data[0]),(data[1]),label=r\"Analytic profile (eps equation)\")\n",
    "\n",
    "data = plot.loadText(\"./VDF_KEPS_STANDARD/diff_tke.dat\")\n",
    "fig.add((data[0]),(data[1]),marker=\"x\",label=r\"TrioCFD profile (k equation)\")\n",
    "\n",
    "data = plot.loadText(\"./VDF_KEPS_STANDARD/diff_eps.dat\")\n",
    "fig.add((data[0]),(data[1]),marker=\"x\",label=r\"TrioCFD profile (eps equation)\")\n",
    "\n",
    "fig.label(r\"y\",r\"diffusive term\")\n",
    "\n",
    "fig.visu(xmin=0.0,xmax=1.0)\n"
   ]
  },
  {
   "cell_type": "code",
   "execution_count": null,
   "id": "94cff264",
   "metadata": {},
   "outputs": [],
   "source": [
    "from trustutils import plot \n",
    " \n",
    "fig = plot.Graph(r\"Source terms of the standard $k$-$\\varepsilon$ model in VDF at x = z = 0.005\")\n",
    "\n",
    "data = plot.loadText(\"./Profils_analytiques/VDF_source_tke_standard.dat\")\n",
    "fig.add((data[0]),(data[1]),label=r\"Analytic profile (k equation)\")\n",
    "\n",
    "data = plot.loadText(\"./Profils_analytiques/VDF_source_eps_standard.dat\")\n",
    "fig.add((data[0]),(data[1]),label=r\"Analytic profile (eps equation)\")\n",
    "\n",
    "data = plot.loadText(\"./VDF_KEPS_STANDARD/source_tke.dat\")\n",
    "fig.add((data[0]),(data[1]),marker=\"x\",label=r\"TrioCFD profile (k equation)\")\n",
    "\n",
    "data = plot.loadText(\"./VDF_KEPS_STANDARD/source_eps.dat\")\n",
    "fig.add((data[0]),(data[1]),marker=\"x\",label=r\"TrioCFD profile (eps equation)\")\n",
    "\n",
    "fig.label(r\"y\",r\"source term\")\n",
    "\n",
    "fig.visu(xmin=0.0,xmax=1.0)\n"
   ]
  },
  {
   "cell_type": "markdown",
   "id": "a3d9d335",
   "metadata": {},
   "source": [
    "### Verification for the realizable $k$-$\\varepsilon$ model in VDF\n"
   ]
  },
  {
   "cell_type": "code",
   "execution_count": null,
   "id": "2088b477",
   "metadata": {},
   "outputs": [],
   "source": [
    "from trustutils import plot \n",
    " \n",
    "fig = plot.Graph(r\"Convective terms of the realizable $k$-$\\varepsilon$ model in VDF at x = z = 0.005\")\n",
    "\n",
    "data = plot.loadText(\"./Profils_analytiques/VDF_conv_tke_realisable.dat\")\n",
    "fig.add((data[0]),-(data[1]),label=r\"Analytic profile (k equation)\")\n",
    "\n",
    "data = plot.loadText(\"./Profils_analytiques/VDF_conv_eps_realisable.dat\")\n",
    "fig.add((data[0]),-(data[1]),label=r\"Analytic profile (eps equation)\")\n",
    "\n",
    "data = plot.loadText(\"./VDF_KEPS_REALISABLE/conv_tke.dat\")\n",
    "fig.add((data[0]),(data[1]),marker=\"x\",label=r\"TrioCFD profile (k equation)\")\n",
    "\n",
    "data = plot.loadText(\"./VDF_KEPS_REALISABLE/conv_eps.dat\")\n",
    "fig.add((data[0]),(data[1]),marker=\"x\",label=r\"TrioCFD profile (eps equation)\")\n",
    "\n",
    "fig.label(r\"y\",r\"convective term\")\n",
    "\n",
    "fig.visu(xmin=0.0,xmax=1.0)\n"
   ]
  },
  {
   "cell_type": "code",
   "execution_count": null,
   "id": "42831408",
   "metadata": {},
   "outputs": [],
   "source": [
    "from trustutils import plot \n",
    " \n",
    "fig = plot.Graph(r\"Diffusive terms of the realizable $k$-$\\varepsilon$ model in VDF at x = z = 0.005\")\n",
    "\n",
    "data = plot.loadText(\"./Profils_analytiques/VDF_diff_tke_realisable.dat\")\n",
    "fig.add((data[0]),(data[1]),label=r\"Analytic profile (k equation)\")\n",
    "\n",
    "data = plot.loadText(\"./Profils_analytiques/VDF_diff_eps_realisable.dat\")\n",
    "fig.add((data[0]),(data[1]),label=r\"Analytic profile (eps equation)\")\n",
    "\n",
    "data = plot.loadText(\"./VDF_KEPS_REALISABLE/diff_tke.dat\")\n",
    "fig.add((data[0]),(data[1]),marker=\"x\",label=r\"TrioCFD profile (k equation)\")\n",
    "\n",
    "data = plot.loadText(\"./VDF_KEPS_REALISABLE/diff_eps.dat\")\n",
    "fig.add((data[0]),(data[1]),marker=\"x\",label=r\"TrioCFD profile (eps equation)\")\n",
    "\n",
    "fig.label(r\"y\",r\"diffusive term\")\n",
    "\n",
    "fig.visu(xmin=0.0,xmax=1.0)\n"
   ]
  },
  {
   "cell_type": "code",
   "execution_count": null,
   "id": "82cf5c90",
   "metadata": {},
   "outputs": [],
   "source": [
    "from trustutils import plot \n",
    " \n",
    "fig = plot.Graph(r\"Source terms of the realizable $k$-$\\varepsilon$ model in VDF at x = z = 0.005.\")\n",
    "\n",
    "data = plot.loadText(\"./Profils_analytiques/VDF_source_tke_realisable.dat\")\n",
    "fig.add((data[0]),(data[1]),label=r\"Analytic profile (k equation)\")\n",
    "\n",
    "data = plot.loadText(\"./Profils_analytiques/VDF_source_eps_realisable.dat\")\n",
    "fig.add((data[0]),(data[1]),label=r\"Analytic profile (eps equation)\")\n",
    "\n",
    "data = plot.loadText(\"./VDF_KEPS_REALISABLE/source_tke.dat\")\n",
    "fig.add((data[0]),(data[1]),marker=\"x\",label=r\"TrioCFD profile (k equation)\")\n",
    "\n",
    "data = plot.loadText(\"./VDF_KEPS_REALISABLE/source_eps.dat\")\n",
    "fig.add((data[0]),(data[1]),marker=\"x\",label=r\"TrioCFD profile (eps equation)\")\n",
    "\n",
    "fig.label(r\"y\",r\"source term\")\n",
    "\n",
    "fig.visu(xmin=0.0,xmax=1.0)\n"
   ]
  },
  {
   "cell_type": "markdown",
   "id": "5be99378",
   "metadata": {},
   "source": [
    "### Verification for the standard $k$-$\\varepsilon$ model in VEF\n"
   ]
  },
  {
   "cell_type": "code",
   "execution_count": null,
   "id": "ed1c7673",
   "metadata": {},
   "outputs": [],
   "source": [
    "from trustutils import plot \n",
    " \n",
    "fig = plot.Graph(r\"Convective terms of the standard $k$-$\\varepsilon$ model in VEF at x = 0.04 and z = 0.033\")\n",
    "\n",
    "data = plot.loadText(\"./Profils_analytiques/VEF_conv_tke_standard.dat\")\n",
    "fig.add((data[0]),-(data[1]),label=r\"Analytic profile (k equation)\")\n",
    "\n",
    "data = plot.loadText(\"./Profils_analytiques/VEF_conv_eps_standard.dat\")\n",
    "fig.add((data[0]),-(data[1]),label=r\"Analytic profile (eps equation)\")\n",
    "\n",
    "data = plot.loadText(\"./VEF_KEPS_STANDARD/conv_tke.dat\")\n",
    "fig.add((data[0]),(data[1]),marker=\"x\",label=r\"TrioCFD profile (k equation)\")\n",
    "\n",
    "data = plot.loadText(\"./VEF_KEPS_STANDARD/conv_eps.dat\")\n",
    "fig.add((data[0]),(data[1]),marker=\"x\",label=r\"TrioCFD profile (eps equation)\")\n",
    "\n",
    "fig.label(r\"y\",r\"convective term\")\n",
    "\n",
    "fig.visu(xmin=0.0,xmax=1.0)\n"
   ]
  },
  {
   "cell_type": "code",
   "execution_count": null,
   "id": "172dfe5b",
   "metadata": {},
   "outputs": [],
   "source": [
    "from trustutils import plot \n",
    " \n",
    "fig = plot.Graph(r\"Diffusive terms of the standard $k$-$\\varepsilon$ model in VEF at x = 0.04 and z = 0.033\")\n",
    "\n",
    "data = plot.loadText(\"./Profils_analytiques/VEF_diff_tke_standard.dat\")\n",
    "fig.add((data[0]),(data[1]),label=r\"Analytic profile (k equation)\")\n",
    "\n",
    "data = plot.loadText(\"./Profils_analytiques/VEF_diff_eps_standard.dat\")\n",
    "fig.add((data[0]),(data[1]),label=r\"Analytic profile (eps equation)\")\n",
    "\n",
    "data = plot.loadText(\"./VEF_KEPS_STANDARD/diff_tke.dat\")\n",
    "fig.add((data[0]),(data[1]),marker=\"x\",label=r\"TrioCFD profile (k equation)\")\n",
    "\n",
    "data = plot.loadText(\"./VEF_KEPS_STANDARD/diff_eps.dat\")\n",
    "fig.add((data[0]),(data[1]),marker=\"x\",label=r\"TrioCFD profile (eps equation)\")\n",
    "\n",
    "fig.label(r\"y\",r\"diffusive term\")\n",
    "\n",
    "fig.visu(xmin=0.0,xmax=1.0)\n"
   ]
  },
  {
   "cell_type": "code",
   "execution_count": null,
   "id": "ee7225b4",
   "metadata": {},
   "outputs": [],
   "source": [
    "from trustutils import plot \n",
    " \n",
    "fig = plot.Graph(r\"Source terms of the standard $k$-$\\varepsilon$ model in VEF at x = 0.04 and z = 0.033\")\n",
    "\n",
    "data = plot.loadText(\"./Profils_analytiques/VEF_source_tke_standard.dat\")\n",
    "fig.add((data[0]),(data[1]),label=r\"Analytic profile (k equation)\")\n",
    "\n",
    "data = plot.loadText(\"./Profils_analytiques/VEF_source_eps_standard.dat\")\n",
    "fig.add((data[0]),(data[1]),label=r\"Analytic profile (eps equation)\")\n",
    "\n",
    "data = plot.loadText(\"./VEF_KEPS_STANDARD/source_tke.dat\")\n",
    "fig.add((data[0]),(data[1]),marker=\"x\",label=r\"TrioCFD profile (k equation)\")\n",
    "\n",
    "data = plot.loadText(\"./VEF_KEPS_STANDARD/source_eps.dat\")\n",
    "fig.add((data[0]),(data[1]),marker=\"x\",label=r\"TrioCFD profile (eps equation)\")\n",
    "\n",
    "fig.label(r\"y\",r\"source term\")\n",
    "\n",
    "fig.visu(xmin=0.0,xmax=1.0)\n"
   ]
  },
  {
   "cell_type": "markdown",
   "id": "57f8b17b",
   "metadata": {},
   "source": [
    "### Verification for the realizable $k$-$\\varepsilon$ model in VEF\n"
   ]
  },
  {
   "cell_type": "code",
   "execution_count": null,
   "id": "6e8dee8d",
   "metadata": {},
   "outputs": [],
   "source": [
    "from trustutils import plot \n",
    " \n",
    "fig = plot.Graph(r\"Convective terms of the realizable $k$-$\\varepsilon$ model in VEF at x = 0.04 and z = 0.033\")\n",
    "\n",
    "data = plot.loadText(\"./Profils_analytiques/VEF_conv_tke_realisable.dat\")\n",
    "fig.add((data[0]),-(data[1]),label=r\"Analytic profile (k equation)\")\n",
    "\n",
    "data = plot.loadText(\"./Profils_analytiques/VEF_conv_eps_realisable.dat\")\n",
    "fig.add((data[0]),-(data[1]),label=r\"Analytic profile (eps equation)\")\n",
    "\n",
    "data = plot.loadText(\"./VEF_KEPS_REALISABLE/conv_tke.dat\")\n",
    "fig.add((data[0]),(data[1]),marker=\"x\",label=r\"TrioCFD profile (k equation)\")\n",
    "\n",
    "data = plot.loadText(\"./VEF_KEPS_REALISABLE/conv_eps.dat\")\n",
    "fig.add((data[0]),(data[1]),marker=\"x\",label=r\"TrioCFD profile (eps equation)\")\n",
    "\n",
    "fig.label(r\"y\",r\"convective term\")\n",
    "\n",
    "fig.visu(xmin=0.0,xmax=1.0)\n"
   ]
  },
  {
   "cell_type": "code",
   "execution_count": null,
   "id": "472192f5",
   "metadata": {},
   "outputs": [],
   "source": [
    "from trustutils import plot\n",
    "\n",
    "fig = plot.Graph(r\"Diffusive terms of the realizable $k$-$\\varepsilon$ model in VEF at x = 0.04 and z = 0.033\")\n",
    "\n",
    "data = plot.loadText(\"./Profils_analytiques/VEF_diff_tke_realisable.dat\")\n",
    "fig.add((data[0]),(data[1]),label=r\"Analytic profile (k equation)\")\n",
    "\n",
    "data = plot.loadText(\"./Profils_analytiques/VEF_diff_eps_realisable.dat\")\n",
    "fig.add((data[0]),(data[1]),label=r\"Analytic profile (eps equation)\")\n",
    "\n",
    "data = plot.loadText(\"./VEF_KEPS_REALISABLE/diff_tke.dat\")\n",
    "fig.add((data[0]),(data[1]),marker=\"x\",label=r\"TrioCFD profile (k equation)\")\n",
    "\n",
    "data = plot.loadText(\"./VEF_KEPS_REALISABLE/diff_eps.dat\")\n",
    "fig.add((data[0]),(data[1]),marker=\"x\",label=r\"TrioCFD profile (eps equation)\")\n",
    "\n",
    "fig.label(r\"y\",r\"diffusive term\")\n",
    "\n",
    "fig.visu(xmin=0.0,xmax=1.0)\n"
   ]
  },
  {
   "cell_type": "code",
   "execution_count": null,
   "id": "1df095ef",
   "metadata": {},
   "outputs": [],
   "source": [
    "from trustutils import plot\n",
    " \n",
    "fig = plot.Graph(r\"Source terms of the realizable $k$-$\\varepsilon$ model in VEF at x = 0.04 and z = 0.033\")\n",
    "\n",
    "data = plot.loadText(\"./Profils_analytiques/VEF_source_tke_realisable.dat\")\n",
    "fig.add((data[0]),(data[1]),label=r\"Analytic profile (k equation)\")\n",
    "\n",
    "data = plot.loadText(\"./Profils_analytiques/VEF_source_eps_realisable.dat\")\n",
    "fig.add((data[0]),(data[1]),label=r\"Analytic profile (eps equation)\")\n",
    "\n",
    "data = plot.loadText(\"./VEF_KEPS_REALISABLE/source_tke.dat\")\n",
    "fig.add((data[0]),(data[1]),marker=\"x\",label=r\"TrioCFD profile (k equation)\")\n",
    "\n",
    "data = plot.loadText(\"./VEF_KEPS_REALISABLE/source_eps.dat\")\n",
    "fig.add((data[0]),(data[1]),marker=\"x\",label=r\"TrioCFD profile (eps equation)\")\n",
    "\n",
    "fig.label(r\"y\",r\"source term\")\n",
    "\n",
    "fig.visu(xmin=0.0,xmax=1.0)\n"
   ]
  },
  {
   "cell_type": "markdown",
   "id": "708f3649",
   "metadata": {},
   "source": [
    "# Conclusion \n",
    " \n",
    "In this report, the coding of the diffusive, convective and source terms of the $k$ and $\\varepsilon$ transport equations have been verified for the standard and realizable models. Analytical fields of velocity, $k$ and $\\varepsilon$ have been imposed in input, and the terms of equations have been post-processed without resolution. The TrioCFD output profiles have been shown to be almost superimposed with the analytical profiles, except for the diffusive terms which falsely appear to be zero. This problem will soon be fixed. It should also be noted that terms involving derivatives are less accurate in VEF discretization, especially near the boundaries. A refinement of the mesh would likely result in a higher accuracy.\n",
    "\n"
   ]
  },
  {
   "cell_type": "markdown",
   "id": "ffb014dc",
   "metadata": {},
   "source": [
    "# References\n",
    " \n",
    "[1] P.-E. Angeli et G. Damblin, Calage des paramètres du modéle $k$-$\\varepsilon$ réalisable par algorithmes EGO pour la simulation des écoulements turbulents, note technique DES/ISAS/DM2S/STMF/LMSF/NT/2020-66507/A.\n"
   ]
  },
  {
   "cell_type": "markdown",
   "id": "3fbc37b9",
   "metadata": {},
   "source": [
    "# Data Files"
   ]
  },
  {
   "cell_type": "markdown",
   "id": "6d8b88d9",
   "metadata": {},
   "source": [
    "## Cas"
   ]
  },
  {
   "cell_type": "code",
   "execution_count": null,
   "id": "36e36aae",
   "metadata": {},
   "outputs": [],
   "source": [
    "run.dumpDatasetMD(\"VDF_KEPS_STANDARD/Cas.data\")"
   ]
  }
 ],
 "metadata": {
  "kernelspec": {
   "display_name": "Python 3 (ipykernel)",
   "language": "python",
   "name": "python3"
  },
  "language_info": {
   "codemirror_mode": {
    "name": "ipython",
    "version": 3
   },
   "file_extension": ".py",
   "mimetype": "text/x-python",
   "name": "python",
   "nbconvert_exporter": "python",
   "pygments_lexer": "ipython3",
   "version": "3.7.16"
  }
 },
 "nbformat": 4,
 "nbformat_minor": 5
}
