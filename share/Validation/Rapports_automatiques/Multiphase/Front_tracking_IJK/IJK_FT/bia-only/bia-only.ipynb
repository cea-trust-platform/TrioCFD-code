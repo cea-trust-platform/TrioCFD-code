{
 "cells": [
  {
   "cell_type": "markdown",
   "id": "8ac30d61",
   "metadata": {},
   "source": [
    "# Test case for bubble-induced agitation"
   ]
  },
  {
   "cell_type": "markdown",
   "id": "803f4555",
   "metadata": {},
   "source": [
    "## Introduction\n",
    " \n",
    " Validation made by: Alan BURLOT (ab256925)\n",
    "\n",
    " Report created on 31/01/2024"
   ]
  },
  {
   "cell_type": "markdown",
   "id": "0bacd5bb",
   "metadata": {},
   "source": [
    "### Description\n",
    " \n",
    "This test case defines a $6~\\text{mm}^3$ triple periodic box with 60 points per side. Ten bubbles are defined without turbulence forcing. This setup is the same the `bia-forcing-10-bubbles` test case. It allows a comparison on the effect of turbulence forcing on velocity fluctuations."
   ]
  },
  {
   "cell_type": "code",
   "execution_count": null,
   "id": "97420a48",
   "metadata": {},
   "outputs": [],
   "source": [
    "from trustutils import run \n",
    " \n",
    "run.TRUST_parameters(\"1.9.4_beta\")"
   ]
  },
  {
   "cell_type": "code",
   "execution_count": null,
   "id": "7e4f0f69",
   "metadata": {},
   "outputs": [],
   "source": [
    "run.reset()\n",
    "run.initBuildDirectory()  # copy src/ in build/\n",
    "run.addCase(\".\", \"bia-only.data\", nbProcs=1) \n",
    "run.printCases()\n",
    "run.runCases()"
   ]
  },
  {
   "cell_type": "markdown",
   "id": "6c66f9ca",
   "metadata": {},
   "source": [
    "## Computer Performance"
   ]
  },
  {
   "cell_type": "code",
   "execution_count": null,
   "id": "09dc67d4",
   "metadata": {},
   "outputs": [],
   "source": [
    "run.tablePerf()"
   ]
  },
  {
   "cell_type": "markdown",
   "id": "9e4f8776",
   "metadata": {},
   "source": [
    "## Visit"
   ]
  },
  {
   "cell_type": "code",
   "execution_count": null,
   "id": "b2782496",
   "metadata": {},
   "outputs": [],
   "source": [
    "from trustutils import visit\n",
    "visit.showMesh(\"bia-only.lata\", \"DOM\")"
   ]
  },
  {
   "cell_type": "code",
   "execution_count": null,
   "id": "f789cee7",
   "metadata": {},
   "outputs": [],
   "source": [
    "visit.showField(\"bia-only.lata\", \"Pseudocolor\", \"CELL_VELOCITY_X_ELEM_DOM\", plotmesh=False)"
   ]
  }
 ],
 "metadata": {
  "kernelspec": {
   "display_name": "Python 3 (ipykernel)",
   "language": "python",
   "name": "python3"
  },
  "language_info": {
   "codemirror_mode": {
    "name": "ipython",
    "version": 3
   },
   "file_extension": ".py",
   "mimetype": "text/x-python",
   "name": "python",
   "nbconvert_exporter": "python",
   "pygments_lexer": "ipython3",
   "version": "3.7.16"
  }
 },
 "nbformat": 4,
 "nbformat_minor": 5
}
