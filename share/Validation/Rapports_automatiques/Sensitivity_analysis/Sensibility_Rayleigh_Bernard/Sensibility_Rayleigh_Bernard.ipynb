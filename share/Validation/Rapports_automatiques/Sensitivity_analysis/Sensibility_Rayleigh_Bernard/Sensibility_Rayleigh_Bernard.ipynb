{
 "cells": [
  {
   "cell_type": "markdown",
   "id": "e9e73efd",
   "metadata": {},
   "source": [
    "## Purpose \n",
    " \n",
    "The present investigation concerns a two-dimensional numerical simulation of Rayleigh-B\\'{e}nard convection in a rectangular cavity, which is a natural convection problem.  The aim of this test case is to investigate how the model response in a point is affected by a change in the boundary conditions on the temperature, the heat capacity, the thermal conductivity, and the thermal diffusivity.\n",
    "\n",
    " Validation made by : Maria Adela PUSCAS \n",
    " \n",
    " Report generated  25/11/2024\n"
   ]
  },
  {
   "cell_type": "code",
   "execution_count": null,
   "id": "05862ce1",
   "metadata": {},
   "outputs": [],
   "source": [
    "from trustutils import run\n",
    " \n",
    "run.reset() \n",
    "run.addCase(\"Sensibility_Rayleigh_Bernard_PCM/Tbottom\",\"Sensibility_Rayleigh_Bernard.data\")\n",
    "run.addCase(\"Sensibility_Rayleigh_Bernard_PCM/Ttop\",\"Sensibility_Rayleigh_Bernard.data\")\n",
    "run.addCase(\"Sensibility_Rayleigh_Bernard_PCM/Mu\",\"Sensibility_Rayleigh_Bernard.data\")\n",
    "run.addCase(\"Sensibility_Rayleigh_Bernard_PCM/Beta\",\"Sensibility_Rayleigh_Bernard.data\")\n",
    "run.addCase(\"Sensibility_Rayleigh_Bernard_PCM/Lambda_prime\",\"Sensibility_Rayleigh_Bernard.data\")\n",
    "run.addCase(\"Sensibility_Rayleigh_Bernard_Taylor/Tbottom\",\"Sensibility_Rayleigh_Bernard.data\")\n",
    "run.addCase(\"Sensibility_Rayleigh_Bernard_Taylor/Ttop\",\"Sensibility_Rayleigh_Bernard.data\")\n",
    "run.addCase(\"Sensibility_Rayleigh_Bernard_Taylor/Mu\",\"Sensibility_Rayleigh_Bernard.data\")\n",
    "run.addCase(\"Sensibility_Rayleigh_Bernard_Taylor/Beta\",\"Sensibility_Rayleigh_Bernard.data\")\n",
    "run.addCase(\"Sensibility_Rayleigh_Bernard_Taylor/Lambda_prime\",\"Sensibility_Rayleigh_Bernard.data\")\n",
    "run.runCases()"
   ]
  },
  {
   "cell_type": "markdown",
   "id": "a9059b6e",
   "metadata": {},
   "source": [
    "## Problem Description \n",
    " \n"
   ]
  },
  {
   "cell_type": "markdown",
   "id": "0f3fec80",
   "metadata": {},
   "source": [
    "### Geometry \n"
   ]
  },
  {
   "cell_type": "markdown",
   "id": "c907b661",
   "metadata": {},
   "source": [
    "The domain used for the numerical simulations is the two-dimensional rectangular cavity  $\\Omega=[0,0.02]\\times [0,0.01]$ (see Figure 1).\n"
   ]
  },
  {
   "cell_type": "markdown",
   "id": "c37416e6",
   "metadata": {},
   "source": [
    "![](src/domaine_rayleigh.png)"
   ]
  },
  {
   "cell_type": "markdown",
   "id": "4cc6783f",
   "metadata": {},
   "source": [
    "### Initial Conditions and Boundary Conditions \n"
   ]
  },
  {
   "cell_type": "markdown",
   "id": "532a7775",
   "metadata": {},
   "source": [
    "A no-slip, isothermal boundary condition is imposed in the vertical direction. The fluid velocity at both horizontal boundaries (top and bottom) is zero. The temperature is fixed at  $T_2$ on the lower boundary and  $T_1$ on the upper boundary with  $T_2>T_1$.\n"
   ]
  },
  {
   "cell_type": "markdown",
   "id": "12814873",
   "metadata": {},
   "source": [
    "### Fluid Properties \n"
   ]
  },
  {
   "cell_type": "markdown",
   "id": "3542b216",
   "metadata": {},
   "source": [
    "The consider fluid volume mass density  is $\\rho = 1.092\\, kg/m^3$,  the dynamic viscosity is $mu = 1.54\\times 10^-{5}\\, kg/m s$,  the diffusion parameter of the temperature is $\\lambda= 2.24 \\times 10^{-2} \\,m^2/s$, the heat capacity  is $C_p = 1006\\, J/Kg K$,  the thermal diffusivity is $\\beta = 2.97 \\times 10^{-3}\\, m^2/s$, and the initial temperature is $T_0 = 338\\, K$.\n"
   ]
  },
  {
   "cell_type": "markdown",
   "id": "b25be8e1",
   "metadata": {},
   "source": [
    "## Case Setup \n",
    " \n"
   ]
  },
  {
   "cell_type": "markdown",
   "id": "05976abd",
   "metadata": {},
   "source": [
    "### Model Options \n"
   ]
  },
  {
   "cell_type": "markdown",
   "id": "b9a73a3e",
   "metadata": {},
   "source": [
    "Sensitivity analysis  (SA) studies how changes in the input of a model affect the output. A detailed analysis of the Sensitivity equation method  is presented in [1, 2, 3, 4]. The sensitivity of the Navier-Stokes equations, the average and the standard deviation of the uncertain variables are computed according to the PCM [3, 4]. These quantities are compared with the ones obtained using the Taylor expansion [1, 2]. In what follows, different scenarios are presented: uncertain boundary conditions and uncertain input parameters: $\\nu$, $\\beta$, and $\\lambda' = \\frac{\\lambda}{\\rho c_p}$.\n"
   ]
  },
  {
   "cell_type": "markdown",
   "id": "37c7db04",
   "metadata": {},
   "source": [
    "## Results \n",
    "### Validation Specific Informations \n",
    "* Version TRUST :  \n",
    "* Problem: Pb\\_Thermohydraulique\\_sensibility\n",
    "* Dimension: 2D\n",
    "* Discretization: VEFPre1B\n",
    "* Time scheme: Scheme\\_euler\\_explicit\n",
    "* Medium: Fluide\\_Incompressible\n",
    "* Hydraulic problem: Navier\\_Stokes\\_standard\\_sensibility\n",
    "* Convection scheme:  Sensibility  amont\n",
    "* Generated Test cases : \n",
    "\t- Sensibility\\_Rayleigh\\_Bernard\\_PCM/Tbottom/Sensibility\\_Rayleigh\\_Bernard.data :  \n",
    "\t- Sensibility\\_Rayleigh\\_Bernard\\_PCM/Ttop/Sensibility\\_Rayleigh\\_Bernard.data :  \n",
    "\t- Sensibility\\_Rayleigh\\_Bernard\\_PCM/Mu/Sensibility\\_Rayleigh\\_Bernard.data :  \n",
    "\t- Sensibility\\_Rayleigh\\_Bernard\\_PCM/Beta/Sensibility\\_Rayleigh\\_Bernard.data :  \n",
    "\t- Sensibility\\_Rayleigh\\_Bernard\\_PCM/Lambda\\_prime/Sensibility\\_Rayleigh\\_Bernard.data :  \n",
    "\t- Sensibility\\_Rayleigh\\_Bernard\\_Taylor/Tbottom/Sensibility\\_Rayleigh\\_Bernard.data :  \n",
    "\t- Sensibility\\_Rayleigh\\_Bernard\\_Taylor/Ttop/Sensibility\\_Rayleigh\\_Bernard.data :  \n",
    "\t- Sensibility\\_Rayleigh\\_Bernard\\_Taylor/Mu/Sensibility\\_Rayleigh\\_Bernard.data :  \n",
    "\t- Sensibility\\_Rayleigh\\_Bernard\\_Taylor/Beta/Sensibility\\_Rayleigh\\_Bernard.data :  \n",
    "\t- Sensibility\\_Rayleigh\\_Bernard\\_Taylor/Lambda\\_prime/Sensibility\\_Rayleigh\\_Bernard.data :  \n"
   ]
  },
  {
   "cell_type": "markdown",
   "id": "e655b2f5",
   "metadata": {},
   "source": [
    "### Performance Chart\n",
    " \n",
    " "
   ]
  },
  {
   "cell_type": "code",
   "execution_count": null,
   "id": "3a7ea50f",
   "metadata": {},
   "outputs": [],
   "source": [
    "run.tablePerf()"
   ]
  },
  {
   "cell_type": "markdown",
   "id": "ff4e0460",
   "metadata": {},
   "source": [
    "### Plot Data \n",
    " \n"
   ]
  },
  {
   "cell_type": "markdown",
   "id": "ecc7c928",
   "metadata": {},
   "source": [
    "The boundary conditions and the input parameters  are all uncertain. They are considered uniformly distributed with $\\mu_{Ttop}=313$, $\\mu_{Tbottom}=363$, $\\mu_\\nu=1.54\\times 10^{-5}$, $\\mu_{\\beta}= 3\\times 10^{-3}$, and  $\\mu_{\\lambda'}=0.21847\\times 10^{-4}$ their means. Their standard deviations are of $1 \\%$ of the means.\n"
   ]
  },
  {
   "cell_type": "markdown",
   "id": "a410c05b",
   "metadata": {},
   "source": [
    "![](build/Taylor_PCM_Var_Vx_Y_C.png)\n",
    "\n",
    "Comparison between the standard deviation of horizontal velocity component computed by the PCM and Taylor expansion on the vertical cross section $x=0.01$."
   ]
  },
  {
   "cell_type": "markdown",
   "id": "14814ec0",
   "metadata": {},
   "source": [
    "![](build/Taylor_PCM_Var_Vy_Y_C.png)\n",
    "\n",
    "Comparison between the standard deviation of vertical velocity component computed by the PCM and Taylor expansion on the vertical cross section $x=0.01$."
   ]
  },
  {
   "cell_type": "markdown",
   "id": "f272f4fd",
   "metadata": {},
   "source": [
    "![](build/Taylor_PCM_Var_P_Y_C.png)\n",
    "\n",
    "Comparison between the standard deviation of pressure computed by the PCM and Taylor expansion on the vertical cross section $x=0.01$."
   ]
  },
  {
   "cell_type": "markdown",
   "id": "ab227316",
   "metadata": {},
   "source": [
    "![](build/Taylor_PCM_Var_T_Y_C.png)\n",
    "\n",
    "Comparison between the standard deviation of temperature computed by the PCM and Taylor expansion on the vertical cross section $x=0.01$."
   ]
  },
  {
   "cell_type": "markdown",
   "id": "7de75dd1",
   "metadata": {},
   "source": [
    "![](build/Taylor_PCM_Var_Vx_X_C.png)\n",
    "\n",
    "Comparison between the standard deviation of horizontal velocity component computed by the PCM and Taylor expansion on the vertical cross section $y=0.005$."
   ]
  },
  {
   "cell_type": "markdown",
   "id": "a3eca995",
   "metadata": {},
   "source": [
    "![](build/Taylor_PCM_Var_Vy_X_C.png)\n",
    "\n",
    "Comparison between the standard deviation of vertical velocity component computed by the PCM and Taylor expansion on the vertical cross section $y=0.005$."
   ]
  },
  {
   "cell_type": "markdown",
   "id": "9b1d74f6",
   "metadata": {},
   "source": [
    "![](build/Taylor_PCM_Var_P_X_C.png)\n",
    "\n",
    "Comparison between the standard deviation of pressure computed by the PCM and Taylor expansion on the vertical cross section $y=0.005$."
   ]
  },
  {
   "cell_type": "markdown",
   "id": "8e436f75",
   "metadata": {},
   "source": [
    "![](build/Taylor_PCM_Var_T_X_C.png)\n",
    "\n",
    "Comparison between the standard deviation of temperature computed by the PCM and Taylor expansion on the vertical cross section $y=0.005$."
   ]
  },
  {
   "cell_type": "markdown",
   "id": "37a18774-5c70-4dad-86d9-8cb221c54876",
   "metadata": {},
   "source": [
    "![](build/IC_mixed_X_C_V.png)\n",
    "\n",
    "Comparison between the standard deviation of temperature computed by the PCM and Taylor expansion on the vertical cross section $y=0.005$."
   ]
  },
  {
   "cell_type": "markdown",
   "id": "26e09d7a-b7c4-4792-88c4-13dc8daca6c6",
   "metadata": {},
   "source": [
    "![](build/IC_mixed_Y_C_V.png)\n",
    "\n",
    "Comparison between the standard deviation of temperature computed by the PCM and Taylor expansion on the horizontal cross section $x=0.01$."
   ]
  },
  {
   "cell_type": "markdown",
   "id": "61c15a07",
   "metadata": {},
   "source": [
    "## Conclusion \n",
    " \n",
    "The Rayleigh Bernard numerical test is presented. The boundary conditions and the input parameters  are all uncertain. They are considered uniformly distributed. In each case, the standard deviation of the vertical and horizontal velocity, pressure, and temperatire are computed, presented, and compared with those obtained using the Taylor expansion method [1, 2]. We observe a good agreement between the results obtained with the Taylor expansion method  and with the PCM method.\n",
    "\n"
   ]
  },
  {
   "cell_type": "markdown",
   "id": "49cb66de",
   "metadata": {},
   "source": [
    "## References: \n",
    " \n",
    "* 1. Sensitivity equation method for the Navier-Stokes equations applied to uncertainty propagation, Fiorini,Després, and Puscas, The International Journal for Numerical Methods in Fluids, 2020 \n",
    "* 2. Sensitivity Analysis for a Thermohydrodynamic Model: Uncertainty Analysis and Parameter Estimation, C. Fiorini, M. A. Puscas, and B. Després , European Journal of Mechanics - B/Fluids, 2024. \n",
    "* 3. Stability for continuous and discrete sensitivity model for Navier-Stokes equations,  N. Nouaime, B. Després, M. A. Puscas, and  C. Fiorini, The International Journal for Numerical Methods in Fluids, 2024. \n",
    "* 4. Sensitivity analysis for incompressible Navier-Stokes equations with uncertain viscosity using polynomial chaos method, N. Nouaime, B. Després, M. A. Puscas, and  C. Fiorini, European Journal of Mechanics - B/Fluids, 2024. \n"
   ]
  },
  {
   "cell_type": "code",
   "execution_count": null,
   "id": "77f5fe1f-d416-4dc3-8507-209ea83c0398",
   "metadata": {},
   "outputs": [],
   "source": []
  }
 ],
 "metadata": {
  "kernelspec": {
   "display_name": "Python 3 (ipykernel)",
   "language": "python",
   "name": "python3"
  },
  "language_info": {
   "codemirror_mode": {
    "name": "ipython",
    "version": 3
   },
   "file_extension": ".py",
   "mimetype": "text/x-python",
   "name": "python",
   "nbconvert_exporter": "python",
   "pygments_lexer": "ipython3",
   "version": "3.12.5"
  }
 },
 "nbformat": 4,
 "nbformat_minor": 5
}
