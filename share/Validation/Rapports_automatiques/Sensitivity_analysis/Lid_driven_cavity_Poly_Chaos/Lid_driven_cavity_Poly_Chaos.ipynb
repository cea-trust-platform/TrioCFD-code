{
 "cells": [
  {
   "cell_type": "markdown",
   "id": "2d4fee91",
   "metadata": {},
   "source": [
    "## Purpose \n",
    " \n",
    "Sensitivity analysis  (SA) studies how changes in the input of a model affect the output. In this work, we use the Polynomial Chaos Method (PCM), see [1]. \n",
    "In Polynomial Chaos Expansion (PCE), random variables are expressed as linear combinations of orthogonal polynomials, with the coefficients  representing the contributions of each polynomial basis function to the expansion.\n",
    "The aim of this test case is to presents a numerical test, the lid-driven cavity, already performed in [4]. The sensitivity of the Navier-Stokes equations of the corresponding test, the average and the standard deviation of the uncertain variables are computed according to the PCM, and compared to the one obtained in [4] and the ones obtained using the Taylor expansion [3].\n",
    "A detailed analysis of the present test case  is presented in [2].\n",
    " \n",
    "Validation made by : A. Puscas \n",
    " \n",
    "Report generated  25/11/2024\n"
   ]
  },
  {
   "cell_type": "code",
   "execution_count": null,
   "id": "ef9bb987",
   "metadata": {},
   "outputs": [],
   "source": [
    "from trustutils import run\n",
    " \n",
    "run.reset() \n",
    "run.addCase(\"Mu\",\"Lid_driven_cavity_Poly_Chaos.data\")\n",
    "run.addCase(\"Velocity\",\"Lid_driven_cavity_Poly_Chaos.data\")\n",
    "run.runCases()"
   ]
  },
  {
   "cell_type": "markdown",
   "id": "6847e039",
   "metadata": {},
   "source": [
    "## Problem Description \n",
    " \n"
   ]
  },
  {
   "cell_type": "markdown",
   "id": "3e1f1789",
   "metadata": {},
   "source": [
    "### Geometry \n"
   ]
  },
  {
   "cell_type": "markdown",
   "id": "9c3cb803",
   "metadata": {},
   "source": [
    "Let $\\Omega=[0,1]\\times[0,1]$ be a $2d$ square cavity of which the upper wall is moving with a velocity $\\bf{u}=(1,0)$. The flow is laminar with $Re=100$. In what follows, scenarios are presented: one with uncertain viscosity and boundary conditions and the third one with both uncertain viscosity and boundary conditions.\n"
   ]
  },
  {
   "cell_type": "markdown",
   "id": "c565c08f",
   "metadata": {},
   "source": [
    "## Case Setup \n",
    " \n",
    "The viscosity is considered as the uncertain parameter, uniformly distributed with $\\mu = 0.01$ the mean and a standard deviation of $10\\%$ of its mean. We set also the lid-driven velocity as a random variable to investigate the influence of uncertainty of boundary conditions. The mean value of the lid driven velocity $u_x$ is set to $1$ with a standard deviation $\\sigma_u$ of $10\\%$ of the mean value. The mixed random variation of both the viscosity and the lid velocity is evaluated.  \n",
    "\n"
   ]
  },
  {
   "cell_type": "markdown",
   "id": "601d14e1",
   "metadata": {},
   "source": [
    "## Results \n",
    "### Validation Specific Informations \n",
    "* Version TRUST :  \n",
    "* Problem: Pb\\_Hydraulique\\_sensibility\n",
    "* Dimension: 2D\n",
    "* Discretization: VEFPre1B\n",
    "* Time scheme: Scheme\\_euler\\_explicit\n",
    "* Medium: Fluide\\_Incompressible\n",
    "* Hydraulic problem: Navier\\_Stokes\\_standard\\_sensibility\n",
    "* Convection scheme:  Sensibility  amont\n",
    "* Sensitivity analysis: Polynomial Chaos Method\n",
    "* Generated Test cases : \n",
    "\t- Mu/Lid\\_driven\\_cavity\\_Poly\\_Chaos.data :  \n",
    "\t- Velocity/Lid\\_driven\\_cavity\\_Poly\\_Chaos.data :  \n"
   ]
  },
  {
   "cell_type": "markdown",
   "id": "7a926d47",
   "metadata": {},
   "source": [
    "### Performance Chart\n",
    " \n",
    " "
   ]
  },
  {
   "cell_type": "code",
   "execution_count": null,
   "id": "4e129e27",
   "metadata": {},
   "outputs": [],
   "source": [
    "run.tablePerf()"
   ]
  },
  {
   "cell_type": "markdown",
   "id": "8a216d32",
   "metadata": {},
   "source": [
    "### Plot Data \n",
    " \n"
   ]
  },
  {
   "cell_type": "markdown",
   "id": "0f2d7e51",
   "metadata": {},
   "source": [
    "The sensitivity of the Navier-Stokes equations of the lid-driven cavity test, the average and the standard deviation of the uncertain variables are computed according to the PCM, and compared to the one obtained in [4] (El-Beltagy and Wafa), in [5] (Marchi et al.),  and the ones obtained using the Taylor expansion [3] (Taylor).\n"
   ]
  },
  {
   "cell_type": "markdown",
   "id": "d6a9534e",
   "metadata": {},
   "source": [
    "![](build/Mu/Taylor_PCM_Mean_Velocity_H_y.png)\n",
    "\n",
    "Comparison between the average of vertical velocity component along the horizontal midline $y=0.5$, for random viscosity."
   ]
  },
  {
   "cell_type": "markdown",
   "id": "a95db487",
   "metadata": {},
   "source": [
    "![](build/Mu/Taylor_PCM_Mean_Velocity_V_x.png)\n",
    "\n",
    "Comparison between the average of horizontal velocity component along the vertical midline $x=0.5$, for random viscosity."
   ]
  },
  {
   "cell_type": "markdown",
   "id": "1e0aa355",
   "metadata": {},
   "source": [
    "![](build/Mu/Taylor_PCM_Variance_Velocity_H_x.png)\n",
    "\n",
    "Comparison between the standard deviation of horizontal velocity component along the horizontal midline $y=0.5$, for random viscosity."
   ]
  },
  {
   "cell_type": "markdown",
   "id": "7f9cc968",
   "metadata": {},
   "source": [
    "![](build/Mu/Taylor_PCM_Variance_Velocity_V_x.png)\n",
    "\n",
    "Comparison between the standard deviation of horizontal velocity component along the vertical midline $x=0.5$, for random viscosity."
   ]
  },
  {
   "cell_type": "markdown",
   "id": "ec5de3e5",
   "metadata": {},
   "source": [
    "![](build/Mu/Taylor_PCM_Variance_Velocity_V_y.png)\n",
    "\n",
    "Comparison between the standard deviation of vertical velocity component along the vertical midline $x=0.5$, for random viscosity."
   ]
  },
  {
   "cell_type": "markdown",
   "id": "f6d0dffc",
   "metadata": {},
   "source": [
    "![](build/Velocity/Taylor_PCM_Mean_Velocity_H_y.png)\n",
    "\n",
    "Comparison between the average of vertical velocity component along the horizontal midline $y=0.5$, for uncertain boundary condition."
   ]
  },
  {
   "cell_type": "markdown",
   "id": "913be160",
   "metadata": {},
   "source": [
    "![](build/Velocity/Taylor_PCM_Mean_Velocity_V_x.png)\n",
    "\n",
    "Comparison between the average of horizontal velocity component along the vertical midline $x=0.5$, for uncertain boundary condition."
   ]
  },
  {
   "cell_type": "markdown",
   "id": "5e34129b",
   "metadata": {},
   "source": [
    "![](build/Velocity/Taylor_PCM_Variance_Velocity_H_x.png)\n",
    "\n",
    "Comparison between the standard deviation of horizontal velocity component along the horizontal midline $y=0.5$, for uncertain boundary condition."
   ]
  },
  {
   "cell_type": "markdown",
   "id": "b97f2005",
   "metadata": {},
   "source": [
    "![](build/Taylor_PCM_Variance_U_Hxmixed_v_plus_mu.png)\n",
    "\n",
    "Comparison between the standard deviation of the horizontal velocity calculated by the PCM and Taylor expansion on the horizontal cross-section $y=0.5$ for both random viscosity and lid velocity."
   ]
  },
  {
   "cell_type": "markdown",
   "id": "82bd437a",
   "metadata": {},
   "source": [
    "![](build/Variance_U_H_x.png)\n",
    "\n",
    "Comparison between the standard deviation of the horizontal velocity calculated by the PCM and Taylor expansion on the horizontal cross-section $y=0.5$ for random viscosity, for uncertain boundary condition and for both random viscosity and lid velocity."
   ]
  },
  {
   "cell_type": "markdown",
   "id": "3be1deef",
   "metadata": {},
   "source": [
    "![](build/IC_mixed_H.png)\n",
    "\n",
    "Confidence intervals ($\\alpha = 0.05$) for the velocity on the horizontal cross-section $y=0.5$ for both random viscosity and lid velocity."
   ]
  },
  {
   "cell_type": "markdown",
   "id": "44c05f92",
   "metadata": {},
   "source": [
    "![](build/IC_mixed_V.png)\n",
    "\n",
    "Confidence intervals ($\\alpha = 0.05$) for the velocity on the vertical cross-section $x=0.5$ for both random viscosity and lid velocity."
   ]
  },
  {
   "cell_type": "markdown",
   "id": "18cb255f",
   "metadata": {},
   "source": [
    "## Conclusion \n",
    "We observed a good agreement between the mean computed according to [5], the PCM presented and used in this work (Polynomial Chaos Method) and the Taylor expansion method discribed in [3]. \n",
    "We observed a good agreement between the standard deviations computed according to [4], the PCM presented and used in this work (Polynomial Chaos Method) and the Taylor expansion method discribed in [3]. The effect of the uncertainty in the lid-driven velocity and the viscosity together is less than the single variation in lid velocity but more significant than the effect of the uncertain viscosity.\n",
    "\n"
   ]
  },
  {
   "cell_type": "markdown",
   "id": "5bd04052",
   "metadata": {},
   "source": [
    "## References: \n",
    " \n",
    "* 1. Stability for continuous and discrete sensitivity model for Navier-Stokes equations,  N. Nouaime, B. Despr\\'{e}s, M. A. Puscas, and  C. Fiorini, The International Journal for Numerical Methods in Fluids, 2024. \n",
    "* 2. Sensitivity analysis for incompressible Navier-Stokes equations with uncertain viscosity using polynomial chaos method, N. Nouaime, B. Despr\\'{e}s, M. A. Puscas, and  C. Fiorini, European Journal of Mechanics - B/Fluids, 2024. \n",
    "* 3. Sensitivity equation method for the Navier-Stokes equations applied to uncertainty propagation, Fiorini,Despr\\'{e}s, and Puscas, IJNMF, 2020. \n",
    "* 4. Stochastic 2D incompressible Navier-Stokes solver using the vorticity-stream function formulation, M. El-Beltagy, and M. Wafa, and others, Journal of Applied Mathematics, 2013. \n",
    "* 5. The lid-driven square cavity flow: numerical solution with a 1024 x 1024 grid, C. H. Marchi,  and R. Suero,  and L. K. Araki, Journal of the Brazilian Society of Mechanical Sciences and Engineering, 2009. \n"
   ]
  }
 ],
 "metadata": {
  "kernelspec": {
   "display_name": "Python 3 (ipykernel)",
   "language": "python",
   "name": "python3"
  },
  "language_info": {
   "codemirror_mode": {
    "name": "ipython",
    "version": 3
   },
   "file_extension": ".py",
   "mimetype": "text/x-python",
   "name": "python",
   "nbconvert_exporter": "python",
   "pygments_lexer": "ipython3",
   "version": "3.12.5"
  }
 },
 "nbformat": 4,
 "nbformat_minor": 5
}
