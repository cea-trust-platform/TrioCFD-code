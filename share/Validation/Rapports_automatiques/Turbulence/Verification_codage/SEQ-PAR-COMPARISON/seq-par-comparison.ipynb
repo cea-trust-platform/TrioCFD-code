{
 "cells": [
  {
   "cell_type": "markdown",
   "id": "ac0cfa46",
   "metadata": {},
   "source": [
    "# Verification of the sequential and parallel programming of turbulence models"
   ]
  },
  {
   "cell_type": "code",
   "execution_count": null,
   "id": "0dec9149",
   "metadata": {},
   "outputs": [],
   "source": [
    "import os\n",
    "from trustutils import run"
   ]
  },
  {
   "cell_type": "markdown",
   "id": "a5b4c9f4",
   "metadata": {},
   "source": [
    "Comparison of sequential and parallel computation for the following turbulence model:\n",
    "- $k-\\varepsilon$ standard in VDF\n",
    "- $k-\\varepsilon$ standard in VEF\n",
    "- $k-\\varepsilon$ realizable in VDF\n",
    "- $k-\\varepsilon$ realizable in VEF\n",
    "- $k-\\omega$ standard in VEF\n",
    "- $k-\\omega$ SST in VEF\n",
    "\n",
    "We perform 2 iterations in sequential and 2 in parallel before using `compare_lata`. The test case is a 5x5 nodes square with two walls. We export the velocity, the pressure, the $y^+$, the turbulent viscosity, the kinetic energy and the chosen dissipation scale."
   ]
  },
  {
   "cell_type": "markdown",
   "id": "e918b3f9",
   "metadata": {},
   "source": [
    "## Launch the computation"
   ]
  },
  {
   "cell_type": "code",
   "execution_count": null,
   "id": "56417ad6",
   "metadata": {},
   "outputs": [],
   "source": [
    "list_cases = [\n",
    "    \"SEQ_VDF_KEPS_STD\",\n",
    "    \"SEQ_VDF_KEPS_REA\",\n",
    "    \"SEQ_VEF_KEPS_STD\",\n",
    "    \"SEQ_VEF_KEPS_REA\",\n",
    "    \"SEQ_VEF_KOMEGA_STD\",\n",
    "    \"SEQ_VEF_KOMEGA_SST\",\n",
    "]"
   ]
  },
  {
   "cell_type": "code",
   "execution_count": null,
   "id": "89c91518",
   "metadata": {},
   "outputs": [],
   "source": [
    "run.reset() \n",
    "\n",
    "#\n",
    "run.initBuildDirectory()\n",
    "builddir = run.BUILD_DIRECTORY\n",
    "os.chdir(builddir)\n",
    "\n",
    "# SEQ cases\n",
    "for seqcase in list_cases:\n",
    "    run.addCase(seqcase, \"test.data\")\n",
    "\n",
    "# PAR cases\n",
    "for seqcase in list_cases:\n",
    "    parcase = seqcase.replace(\"SEQ\", \"PAR\")\n",
    "    therun = run.addCaseFromTemplate(f\"{seqcase}/test.data\",\n",
    "                                     targetDirectory=f\"{parcase}\",\n",
    "                                     targetData=f\"test.data\",\n",
    "                                     dic={},\n",
    "                                     nbProcs=2)\n",
    "    therun.partition()\n",
    "\n",
    "#\n",
    "run.printCases()\n",
    "run.runCases()"
   ]
  },
  {
   "cell_type": "markdown",
   "id": "c75878de",
   "metadata": {},
   "source": [
    "## Performance Chart"
   ]
  },
  {
   "cell_type": "code",
   "execution_count": null,
   "id": "c214feb7",
   "metadata": {},
   "outputs": [],
   "source": [
    "run.tablePerf()"
   ]
  },
  {
   "cell_type": "markdown",
   "id": "127aa3aa-15c4-493a-a98a-a0130217b50c",
   "metadata": {},
   "source": [
    "## Compare the SEQ/PAR latas"
   ]
  },
  {
   "cell_type": "code",
   "execution_count": null,
   "id": "53e5524d-4bde-4dbf-805a-cc749235f930",
   "metadata": {},
   "outputs": [],
   "source": [
    "os.chdir(run.BUILD_DIRECTORY)\n",
    "for seqcase in list_cases:\n",
    "    cmd = f\"compare_lata {seqcase}/test.lata {seqcase.replace('SEQ', 'PAR')}/PAR_test.lata --max_delta\"\n",
    "    !{cmd}"
   ]
  }
 ],
 "metadata": {
  "kernelspec": {
   "display_name": "Python 3 (ipykernel)",
   "language": "python",
   "name": "python3"
  },
  "language_info": {
   "codemirror_mode": {
    "name": "ipython",
    "version": 3
   },
   "file_extension": ".py",
   "mimetype": "text/x-python",
   "name": "python",
   "nbconvert_exporter": "python",
   "pygments_lexer": "ipython3",
   "version": "3.7.16"
  },
  "name": "seq-par-comparison.ipynb"
 },
 "nbformat": 4,
 "nbformat_minor": 5
}
