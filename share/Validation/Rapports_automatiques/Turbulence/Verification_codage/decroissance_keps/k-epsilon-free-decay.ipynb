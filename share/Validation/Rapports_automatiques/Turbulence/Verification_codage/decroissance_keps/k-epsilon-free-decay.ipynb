{
 "cells": [
  {
   "cell_type": "markdown",
   "id": "c4cf17c7",
   "metadata": {},
   "source": [
    "# $k-\\varepsilon$ free decay"
   ]
  },
  {
   "cell_type": "markdown",
   "id": "3e1f7e2f",
   "metadata": {},
   "source": [
    "- Validation created by: G. Fauchet (date unknown)\n",
    "- Updated by: A. Burlot (July 2024)"
   ]
  },
  {
   "cell_type": "markdown",
   "id": "04b86c62",
   "metadata": {},
   "source": [
    "## Description"
   ]
  },
  {
   "cell_type": "markdown",
   "id": "c44ccf1d",
   "metadata": {},
   "source": [
    "Without a velocity input, the turbulence is freely decaying. There is an analytical solution to the $k-\\varepsilon$ equation of the form $$Eps(0)/K(0)=1/(C_{\\varepsilon{}2}-1)$$\n",
    "\n",
    "We thus find:\n",
    "- $K(t)=K(0) (t+1)^{-1/(C_{\\varepsilon{}2}-1)}$ \n",
    "- $Eps(t)=Eps(0) (t+1)^{-C_{\\varepsilon{}2}/(C_{\\varepsilon{}2}-1)}$"
   ]
  },
  {
   "cell_type": "markdown",
   "id": "aae6d542",
   "metadata": {},
   "source": [
    "A VEF and a VDF cases are tested."
   ]
  },
  {
   "cell_type": "code",
   "execution_count": null,
   "id": "dc639877",
   "metadata": {},
   "outputs": [],
   "source": [
    "import numpy as np\n",
    "from trustutils import run\n",
    "from trustutils import plot "
   ]
  },
  {
   "cell_type": "code",
   "execution_count": null,
   "id": "5b4c0fe2",
   "metadata": {},
   "outputs": [],
   "source": [
    "run.reset() \n",
    "run.addCase(\"VDF\", \"vdf.data\")\n",
    "run.addCase(\"VEF\", \"vef.data\")\n",
    "run.printCases()\n",
    "run.runCases()"
   ]
  },
  {
   "cell_type": "code",
   "execution_count": null,
   "id": "f9e55d40",
   "metadata": {},
   "outputs": [],
   "source": [
    "fig = plot.Graph(r\"decroissance k\")\n",
    "data = plot.loadText(\"VDF/vdf_SONDE_K.son\")\n",
    "fig.add(data[0], data[1], label=r\"VDF\", marker=\"o\")\n",
    "data = plot.loadText(\"VEF/vef_SONDE_K.son\")\n",
    "fig.add(data[0], data[1], label=r\"VEF\", marker=\".\")\n",
    "\n",
    "x = np.linspace(0.000000, 1.000000, 1000)\n",
    "y = (x + 1) ** (-1.0869565217391306)\n",
    "fig.add(x, y, label=r\"theorie\", marker=\"-\")\n",
    "fig.label(r\"time\", r\"k\")"
   ]
  },
  {
   "cell_type": "code",
   "execution_count": null,
   "id": "d1dd9be3",
   "metadata": {},
   "outputs": [],
   "source": [
    "fig = plot.Graph(r\"decroissance de log k  \")\n",
    "data = plot.loadText(\"VDF/vdf_SONDE_K.son\")\n",
    "fig.add(data[0], data[1], label=r\"VDF\", marker=\"o\")\n",
    "data = plot.loadText(\"VEF/vef_SONDE_K.son\")\n",
    "fig.add(data[0], data[1], label=r\"VEF\", marker=\".\")\n",
    "\n",
    "x = np.linspace(0.000000, 1.000000, 1000)\n",
    "y = (x + 1) ** (-1.0869565217391306)\n",
    "fig.add(x, y, label=r\"theorie\", marker=\"-\")\n",
    "fig.label(r\"time\", r\"log(k)\")\n",
    "fig.scale(yscale=\"log\")"
   ]
  },
  {
   "cell_type": "code",
   "execution_count": null,
   "id": "53905243",
   "metadata": {},
   "outputs": [],
   "source": [
    "fig = plot.Graph(r\"decroissance eps\")\n",
    "data = plot.loadText(\"VDF/vdf_SONDE_EPS.son\")\n",
    "fig.add(data[0], data[1], label=r\"VDF\", marker=\"o\")\n",
    "data = plot.loadText(\"VEF/vef_SONDE_EPS.son\")\n",
    "fig.add(data[0], data[1], label=r\"VEF\", marker=\".\")\n",
    "\n",
    "x = np.linspace(0.000000, 1.000000, 1000)\n",
    "y = (x + 1) ** (-1.0869565217391306 - 1) / 0.92\n",
    "fig.add(x, y, label=r\"theorie\", marker=\"-\")\n",
    "fig.label(r\"time\", r\"eps\")\n"
   ]
  },
  {
   "cell_type": "code",
   "execution_count": null,
   "id": "7858cfaa",
   "metadata": {},
   "outputs": [],
   "source": [
    "fig = plot.Graph(r\"decroissance log eps  \")\n",
    "data = plot.loadText(\"VDF/vdf_SONDE_EPS.son\")\n",
    "fig.add(data[0], data[1], label=r\"VDF\", marker=\"o\")\n",
    "data = plot.loadText(\"VEF/vef_SONDE_EPS.son\")\n",
    "fig.add(data[0], data[1], label=r\"VEF\", marker=\".\")\n",
    "\n",
    "x = np.linspace(0.000000, 1.000000, 1000)\n",
    "y = (x + 1) ** (-1.0869565217391306 - 1) / 0.92\n",
    "fig.add(x, y, label=r\"theorie\", marker=\"-\")\n",
    "fig.label(r\"time\", r\"log(eps)\")\n",
    "fig.scale(yscale=\"log\")\n"
   ]
  },
  {
   "cell_type": "code",
   "execution_count": null,
   "id": "dabc73ce",
   "metadata": {},
   "outputs": [],
   "source": [
    "fig = plot.Graph(r\"decroissance nut\")\n",
    "data = plot.loadText(\"VDF/vdf_SONDE_VISC.son\")\n",
    "fig.add(data[0], data[1], label=r\"VDF\", marker=\"o\")\n",
    "data = plot.loadText(\"VEF/vef_SONDE_VISC.son\")\n",
    "fig.add(data[0], data[1], label=r\"VEF\", marker=\".\")\n",
    "\n",
    "x = np.linspace(0.000000, 1.000000, 1000)\n",
    "y = (x + 1) ** (-1.0869565217391306 + 1) * 0.92 * 0.09\n",
    "fig.add(x, y, label=r\"theorie\", marker=\"-\")\n",
    "fig.label(r\"time\", r\"$\\nu_t$\")\n"
   ]
  }
 ],
 "metadata": {
  "kernelspec": {
   "display_name": "Python 3 (ipykernel)",
   "language": "python",
   "name": "python3"
  },
  "language_info": {
   "codemirror_mode": {
    "name": "ipython",
    "version": 3
   },
   "file_extension": ".py",
   "mimetype": "text/x-python",
   "name": "python",
   "nbconvert_exporter": "python",
   "pygments_lexer": "ipython3",
   "version": "3.7.16"
  },
  "name": "dec_keps.ipynb",
  "title": "Test de decroissance de k eps"
 },
 "nbformat": 4,
 "nbformat_minor": 5
}
