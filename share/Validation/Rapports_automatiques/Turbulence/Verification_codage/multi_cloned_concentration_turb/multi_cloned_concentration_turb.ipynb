{
 "cells": [
  {
   "cell_type": "code",
   "execution_count": null,
   "id": "d1b348e3",
   "metadata": {},
   "outputs": [],
   "source": [
    "from trustutils import run\n",
    "\n",
    "run.introduction(\"Yannick Gorsse & Elie Saikali\", \"04/04/2024\")"
   ]
  },
  {
   "cell_type": "code",
   "execution_count": null,
   "id": "f7a23adc",
   "metadata": {},
   "outputs": [],
   "source": [
    "import os\n",
    "\n",
    "run.reset()\n",
    "run.initBuildDirectory()\n",
    "\n",
    "cases = {\"scalaire_turb\" : \"+\", \"vectoriel_turb\": \"-\", \"liste_turb\": \"x\", \"cloned_turb\" : \"o\"}\n",
    "dis = {\"vdf\" : \"\", \"vef\" : \"trianguler_H dom\"}\n",
    "\n",
    "for c in cases:\n",
    "    for d, o in dis.items():\n",
    "        if d == \"vef\":\n",
    "            run.addCaseFromTemplate(f\"{c}.data\", d, {\"dis\" : d, \"tri\" : o, \"N\" : 20})\n",
    "        else:\n",
    "            run.addCaseFromTemplate(f\"{c}.data\", d, {\"dis\" : d, \"tri\" : o, \"N\" : 77})\n",
    "\n",
    "run.runCases()\n",
    "run.tablePerf()"
   ]
  },
  {
   "cell_type": "code",
   "execution_count": null,
   "id": "c3ec63f0",
   "metadata": {},
   "outputs": [],
   "source": [
    "from trustutils import plot\n",
    "import matplotlib.colors as mcolors\n",
    "c = list(mcolors.TABLEAU_COLORS.keys())\n",
    "\n",
    "for ic in range(4):\n",
    "    fig = plot.Graph(f\"concentration {ic}\")\n",
    "    for i, d in enumerate(dis):\n",
    "        for name, marker in cases.items():\n",
    "            if ic == 0 or (name != \"scalaire_turb\" and name != \"liste_turb\"):\n",
    "                son_name = f\"{d}/{name}_C{ic}.son\" if name == \"cloned_turb\" else f\"{d}/{name}_C.son\"\n",
    "                compo = ic if name == \"vectoriel_turb\" else 0\n",
    "                fig.addSegment(son_name, label=f\"{d} {name}\", marker=marker, compo=compo, color=c[i], markersize=5)"
   ]
  },
  {
   "cell_type": "code",
   "execution_count": null,
   "id": "b181a208",
   "metadata": {},
   "outputs": [],
   "source": [
    "fig = plot.Graph()\n",
    "\n",
    "for i, d in enumerate(dis):\n",
    "    for name, marker in cases.items():\n",
    "        fig.addResidu(f\"{d}/{name}.dt_ev\", label=f\"{d} {name}\", marker=marker)"
   ]
  }
 ],
 "metadata": {
  "kernelspec": {
   "display_name": "Python 3 (ipykernel)",
   "language": "python",
   "name": "python3"
  },
  "language_info": {
   "codemirror_mode": {
    "name": "ipython",
    "version": 3
   },
   "file_extension": ".py",
   "mimetype": "text/x-python",
   "name": "python",
   "nbconvert_exporter": "python",
   "pygments_lexer": "ipython3",
   "version": "3.8.19"
  }
 },
 "nbformat": 4,
 "nbformat_minor": 5
}
