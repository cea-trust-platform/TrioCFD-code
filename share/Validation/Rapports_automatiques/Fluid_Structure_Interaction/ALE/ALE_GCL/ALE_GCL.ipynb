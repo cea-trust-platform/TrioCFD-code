{
 "cells": [
  {
   "cell_type": "markdown",
   "id": "1380af42",
   "metadata": {},
   "source": [
    "## Purpose \n",
    " \n",
    "In the ALE approach, the fluid flow is computed in a domain that is deformed in order to follow the movement of the fluid-solid interface. Numerical consistency requires satisfaction of the geometric conservation law (GCL) to avoid spurious solutions. The GCL has been extensively studied and has sparked numerous debates. It is widely agreed that if an ALE formulation: \n",
    "\n",
    "1) satisfying the GCL must produce the exact solution to the no-flow test on arbitrary deforming grids,\n",
    "   \n",
    "2) maintains a uniform flow on a deforming grid,\n",
    "   \n",
    "it either defines the GCL or serves as a test for GCL compliance within the numerical scheme [1, 2].\n",
    "\n",
    "The purpose is to assess geometric conservation law (GCL) of the ALE module implemented in TrioCFD. \n",
    "\n",
    "Validation made by : M. A. Puscas \n",
    " \n",
    "Report generated  22/11/2024\n"
   ]
  },
  {
   "cell_type": "code",
   "execution_count": null,
   "id": "5c11be13",
   "metadata": {},
   "outputs": [],
   "source": [
    "from trustutils import run\n",
    " \n",
    "run.reset() \n",
    "run.addCase(\".\",\"ALE_GCL.data\")\n",
    "run.runCases()"
   ]
  },
  {
   "cell_type": "markdown",
   "id": "7871d7ae",
   "metadata": {},
   "source": [
    "## Problem Description \n",
    " \n",
    "The domain used for the numerical simulations is the one in Figure 1.\n"
   ]
  },
  {
   "cell_type": "markdown",
   "id": "afcd86bf",
   "metadata": {},
   "source": [
    "### Geometry \n"
   ]
  },
  {
   "cell_type": "markdown",
   "id": "af8cb9ed",
   "metadata": {},
   "source": [
    "![](src/pb_scheme.png)"
   ]
  },
  {
   "cell_type": "markdown",
   "id": "e845fd09",
   "metadata": {},
   "source": [
    "### Initial Conditions and Boundary Conditions \n"
   ]
  },
  {
   "cell_type": "markdown",
   "id": "70594e9c",
   "metadata": {},
   "source": [
    "$\\nabla \\cdot \\textbf{u} = 0 \\text{ on } D = [0;1]^3$\n"
   ]
  },
  {
   "cell_type": "markdown",
   "id": "6e1fe47b",
   "metadata": {},
   "source": [
    "$(\\textbf{u} \\cdot \\nabla) \\textbf{u} - \\nu \\Delta \\textbf{u} + \\nabla p = 0 \\text{ on } D = [0;1]^3$\n"
   ]
  },
  {
   "cell_type": "markdown",
   "id": "ca5d099a",
   "metadata": {},
   "source": [
    "$\\displaystyle{\\int_D p(\\textbf{x}) d\\textbf{x} = 0}$\n"
   ]
  },
  {
   "cell_type": "markdown",
   "id": "8d84f1f8",
   "metadata": {},
   "source": [
    "$\\textbf{u}=\\textbf{u}_\\text{ex} \\text{ on boundaries}$\n"
   ]
  },
  {
   "cell_type": "markdown",
   "id": "e8be80e5",
   "metadata": {},
   "source": [
    "The three-dimensional analytical solutions (manufactured solutions) for this problem are as follows: velocity $\\textbf{u}_\\text{ex}=(y-z, z-x,  x-y)^t$  and pressure  $\\displaystyle{p_\\text{ex} = x^2+y^2+z^2-xy-xz-yz-\\frac{1}{4}}$.\n"
   ]
  },
  {
   "cell_type": "markdown",
   "id": "75bea91d",
   "metadata": {},
   "source": [
    "### Fluid Properties \n"
   ]
  },
  {
   "cell_type": "markdown",
   "id": "106d4695",
   "metadata": {},
   "source": [
    "The tube bundle is immersed in a Newtonian incompressible homogeneous fluid, with mass density $\\rho \\,(1 \\,Kg/m^3 )$ and kinematic viscosity $\\nu \\,(1\\, m^2/s)$.\n"
   ]
  },
  {
   "cell_type": "markdown",
   "id": "e77985b8",
   "metadata": {},
   "source": [
    "## Case Setup \n",
    " \n"
   ]
  },
  {
   "cell_type": "markdown",
   "id": "eac13558",
   "metadata": {},
   "source": [
    "### Grid \n"
   ]
  },
  {
   "cell_type": "markdown",
   "id": "9a1e262f",
   "metadata": {},
   "source": [
    "The mesh is the one presented in Figure 1.\n"
   ]
  },
  {
   "cell_type": "markdown",
   "id": "5484231f",
   "metadata": {},
   "source": [
    "The solution is computed on a moving mesh with the following mesh motion:\n",
    "\n",
    "1) Lower and Upper:  $\\textbf{u} =(0.01*\\sin(\\pi*x)*\\cos(20*t), 0, 0)^t$,\n",
    "   \n",
    "2) Inlet and Outlet: $\\textbf{u} = (0, 0.01*\\sin(\\pi*x)*\\cos(20*t),  0)^t$,\n",
    "\n",
    "3) Front and Back: $\\textbf{u} = (0, 0, 0.01*\\sin(\\pi*x)*\\cos(20*t))^t$. \n"
   ]
  },
  {
   "cell_type": "markdown",
   "id": "e92f8e24",
   "metadata": {},
   "source": [
    "### Model Options \n"
   ]
  },
  {
   "cell_type": "markdown",
   "id": "a919418e",
   "metadata": {},
   "source": [
    "The fluid problem with moving boundaries is handled by the Arbitrary Lagrangian-Eulerian (ALE) method.\n"
   ]
  },
  {
   "cell_type": "markdown",
   "id": "59fe52ea",
   "metadata": {},
   "source": [
    "In the ALE approach, the fluid flow is computed in a domain that is deformed in order to follow the movement of the fluid-solid interface. It provides a hybrid description not associated with the fluid particles and the laboratory coordinates. We associate the description with a moving imaginary mesh that follows the fluid domain.\n"
   ]
  },
  {
   "cell_type": "markdown",
   "id": "9a49b567",
   "metadata": {},
   "source": [
    "## Results \n",
    "### Validation Specific Informations \n",
    "* Version TRUST : 1.9.5 \n",
    "* Problem : Pb\\_hydraulique\\_ALE\n",
    "* Dimension : 2D\n",
    "* Domain : Domaine\\_ALE\n",
    "* Discretization : VEFPre1B\n",
    "* Time scheme : Scheme\\_euler\\_explicit\n",
    "* Medium : Fluide\\_Incompressible\n",
    "* Hydraulic problem : Navier\\_Stokes\\_standard\\_ALE\n",
    "* Convection scheme: ALE muscl\n",
    "* Generated Test cases : \n",
    "\t- ./ALE\\_GCL.data :  \n"
   ]
  },
  {
   "cell_type": "markdown",
   "id": "7c5a51c0",
   "metadata": {},
   "source": [
    "### Performance Chart\n",
    " \n",
    " "
   ]
  },
  {
   "cell_type": "code",
   "execution_count": null,
   "id": "3903fade",
   "metadata": {},
   "outputs": [],
   "source": [
    "run.tablePerf()"
   ]
  },
  {
   "cell_type": "markdown",
   "id": "d2232bc4",
   "metadata": {},
   "source": [
    "### Plot Data \n",
    " \n"
   ]
  },
  {
   "cell_type": "markdown",
   "id": "02f2599d",
   "metadata": {},
   "source": [
    "Probes: 1D Plots\n"
   ]
  },
  {
   "cell_type": "code",
   "execution_count": null,
   "id": "61dd0019",
   "metadata": {},
   "outputs": [],
   "source": [
    "from trustutils import plot \n",
    " \n",
    "fig = plot.Graph(r\"Pressure along line $A(0\\, 0\\, 0) - B(1\\, 0 \\,0)$ \") \n",
    "fig.addSegment(\"ALE_GCL_SONDE_H_SOLUTION_P_SOM.son\",label=r\"Exact pressure\",marker='-x') \n",
    "fig.addSegment(\"Fix_mesh/ALE_GCL_SONDE_H_PRESSION.son\",label=r\"Fix mesh: pressure\",marker='-x') \n",
    "fig.addSegment(\"ALE_GCL_SONDE_H_PRESSION.son\",label=r\"Moving mesh: pressure\",marker='-x') \n",
    "fig.label(r\"X\",r\"Pressure\")\n"
   ]
  },
  {
   "cell_type": "code",
   "execution_count": null,
   "id": "407847da",
   "metadata": {},
   "outputs": [],
   "source": [
    "from trustutils import plot \n",
    " \n",
    "fig = plot.Graph(r\"Velocity along line $A(0\\, 0 \\,0) - B(1\\, 1\\, 1)$ \") \n",
    "fig.addSegment(\"ALE_GCL_SONDE_H_SOLUTION_U.son\",label=r\"Exact velocity\",marker='-x') \n",
    "fig.addSegment(\"Fix_mesh/ALE_GCL_SONDE_H_VITESSE.son\",label=r\"Fix mesh: velocity\",marker='-x') \n",
    "fig.addSegment(\"ALE_GCL_SONDE_H_VITESSE.son\",label=r\"Moving mesh: velocity\",marker='-x') \n",
    "\n",
    "fig.label(r\"X\",r\"Velocity\")\n"
   ]
  },
  {
   "cell_type": "code",
   "execution_count": null,
   "id": "123cf084",
   "metadata": {},
   "outputs": [],
   "source": [
    "from trustutils import plot \n",
    " \n",
    "fig = plot.Graph(r\"Pressure along line $C(0\\, 0\\, 0) - D(0\\, 1 \\,0)$ \") \n",
    "fig.addSegment(\"ALE_GCL_SONDE_V_SOLUTION_P_SOM.son\",label=r\"Exact pressure\",marker='-x') \n",
    "fig.addSegment(\"Fix_mesh/ALE_GCL_SONDE_V_PRESSION.son\",label=r\"Fix mesh: pressure\",marker='-x') \n",
    "fig.addSegment(\"ALE_GCL_SONDE_V_PRESSION.son\",label=r\"Moving mesh: pressure\",marker='-x') \n",
    "fig.label(r\"Y\",r\"Pressure\")\n"
   ]
  },
  {
   "cell_type": "code",
   "execution_count": null,
   "id": "cfbc9166",
   "metadata": {},
   "outputs": [],
   "source": [
    "from trustutils import plot \n",
    " \n",
    "fig = plot.Graph(r\"Velocity along line $C(0\\, 0\\, 0) - D(0\\, 1 \\,0)$ \") \n",
    "fig.addSegment(\"ALE_GCL_SONDE_V_SOLUTION_U.son\",label=r\"Exact velocity\",marker='-x') \n",
    "fig.addSegment(\"Fix_mesh/ALE_GCL_SONDE_V_VITESSE.son\",label=r\"Fix mesh: velocity\",marker='-x') \n",
    "fig.addSegment(\"ALE_GCL_SONDE_V_VITESSE.son\",label=r\"Moving mesh: velocity\",marker='-x') \n",
    "\n",
    "fig.label(r\"Y\",r\"Velocity\")\n"
   ]
  },
  {
   "cell_type": "code",
   "execution_count": null,
   "id": "c1f00197",
   "metadata": {},
   "outputs": [],
   "source": [
    "from trustutils import plot \n",
    " \n",
    "fig = plot.Graph(r\"Pressure along line $E(0\\, 0\\, 0) - F(0\\, 0 \\,1)$ \") \n",
    "fig.addSegment(\"ALE_GCL_SONDE_Z_SOLUTION_P_SOM.son\",label=r\"Exact pressure\",marker='-x') \n",
    "fig.addSegment(\"Fix_mesh/ALE_GCL_SONDE_Z_PRESSION.son\",label=r\"Fix mesh: pressure\",marker='-x') \n",
    "fig.addSegment(\"ALE_GCL_SONDE_Z_PRESSION.son\",label=r\"Moving mesh: pressure\",marker='-x') \n",
    "fig.label(r\"Z\",r\"Pressure\")\n"
   ]
  },
  {
   "cell_type": "code",
   "execution_count": null,
   "id": "454cfac7",
   "metadata": {},
   "outputs": [],
   "source": [
    "from trustutils import plot \n",
    " \n",
    "fig = plot.Graph(r\"Velocity along line $E(0\\, 0\\, 0) - F(0\\, 0 \\,1)$ \") \n",
    "fig.addSegment(\"ALE_GCL_SONDE_Z_SOLUTION_U.son\",label=r\"Exact velocity\",marker='-x') \n",
    "fig.addSegment(\"Fix_mesh/ALE_GCL_SONDE_Z_VITESSE.son\",label=r\"Fix mesh: velocity\",marker='-x') \n",
    "fig.addSegment(\"ALE_GCL_SONDE_Z_VITESSE.son\",label=r\"Moving mesh: velocity\",marker='-x') \n",
    "fig.label(r\"Z\",r\"Velocity\")\n"
   ]
  },
  {
   "cell_type": "markdown",
   "id": "4ad1f08c",
   "metadata": {},
   "source": [
    " The computational errors and accuracy of the results are presented as suggested in [3]:  \n"
   ]
  },
  {
   "cell_type": "markdown",
   "id": "d3a323d5",
   "metadata": {},
   "source": [
    "$\\textbf{erru}=\\frac{\\displaystyle{\\Big( \\int_D \\left\\Vert \\textbf{u}^\\varepsilon \\right\\Vert^2 \\Big)^{1/2}}}{\\displaystyle{\\Big( \\int_D \\left\\Vert \\textbf{u}_\\text{ex} \\right\\Vert^2 \\Big)^{1/2}}}$ where $\\textbf{u}^\\varepsilon = \\textbf{u} - \\textbf{u}_\\text{ex}$ and $\\displaystyle{\\left\\Vert \\textbf{u} \\right\\Vert^2 = \\sum_i \\left( u_i \\right)^2}$\n"
   ]
  },
  {
   "cell_type": "markdown",
   "id": "dbd95a11",
   "metadata": {},
   "source": [
    "$\\textbf{errp}=\\frac{\\displaystyle{\\Big( \\int_D \\left| p^\\varepsilon \\right|^2 \\Big)^{1/2}}}{\\displaystyle{\\Big( \\int_D \\left| p_\\text{ex} \\right|^2 \\Big)^{1/2}}}$ where $\\displaystyle{p^\\varepsilon = \\left(p - \\int_D p dV \\right) - p_\\text{ex}}$\n"
   ]
  },
  {
   "cell_type": "markdown",
   "id": "f664ebee",
   "metadata": {},
   "source": [
    "$\\displaystyle{\\textbf{errdivu}=\\Big( \\int_D \\left( \\nabla \\cdot \\textbf{u} \\right)^2 \\Big)^{1/2}}$\n"
   ]
  },
  {
   "cell_type": "code",
   "execution_count": null,
   "id": "3929b058",
   "metadata": {},
   "outputs": [],
   "source": [
    "from trustutils import plot \n",
    " \n",
    "columns=['$\\\\textbf{erru}$ ', ' $\\\\textbf{errp}$ ', '  $\\\\textbf{errdivu}$'] \n",
    "tab = plot.Table(columns)\n",
    "data = plot.loadText(\"Fix_mesh/Err_fix_mesh.txt\",transpose=False, dtype=\"str\")\n",
    "tab.addLine([[(data[0]),(data[1]),(data[2]),]],r\"Fix mesh\")\n",
    "data = plot.loadText(\"Err.txt\",transpose=False, dtype=\"str\")\n",
    "tab.addLine([[(data[0]),(data[1]),(data[2]),]],r\"Moving mesh\")\n",
    "tab.setTitle(\"Errors and accuracy of the results\")\n",
    "display(tab)\n",
    "\n"
   ]
  },
  {
   "cell_type": "markdown",
   "id": "313dfeec",
   "metadata": {},
   "source": [
    "Probes: 3D Plots\n"
   ]
  },
  {
   "cell_type": "markdown",
   "id": "636a7baa",
   "metadata": {},
   "source": [
    "### Mesh velocity, x-direction\n",
    " \n",
    " "
   ]
  },
  {
   "cell_type": "code",
   "execution_count": null,
   "id": "bf95d264",
   "metadata": {},
   "outputs": [],
   "source": [
    "from trustutils import visit\n",
    " \n",
    "visu = visit.Show(\"./ALE_GCL.lata\",\"Pseudocolor\",\"ALEMESHVELOCITY_X_SOM_dom\",mesh=\"dom\")\n",
    "visu.plot()"
   ]
  },
  {
   "cell_type": "markdown",
   "id": "f8f67752",
   "metadata": {},
   "source": [
    "### Mesh velocity, y-direction\n",
    " \n",
    " "
   ]
  },
  {
   "cell_type": "code",
   "execution_count": null,
   "id": "fe416d0d",
   "metadata": {},
   "outputs": [],
   "source": [
    "from trustutils import visit\n",
    " \n",
    "visu = visit.Show(\"./ALE_GCL.lata\",\"Pseudocolor\",\"ALEMESHVELOCITY_Y_SOM_dom\",mesh=\"dom\")\n",
    "visu.plot()"
   ]
  },
  {
   "cell_type": "markdown",
   "id": "92c892a6",
   "metadata": {},
   "source": [
    "### Mesh velocity, z-direction\n",
    " \n",
    " "
   ]
  },
  {
   "cell_type": "code",
   "execution_count": null,
   "id": "1c379c48",
   "metadata": {},
   "outputs": [],
   "source": [
    "from trustutils import visit\n",
    " \n",
    "visu = visit.Show(\"./ALE_GCL.lata\",\"Pseudocolor\",\"ALEMESHVELOCITY_Z_SOM_dom\",mesh=\"dom\")\n",
    "visu.plot()"
   ]
  },
  {
   "cell_type": "markdown",
   "id": "7cac2e8c",
   "metadata": {},
   "source": [
    "## Conclusion \n",
    "A manufactured solution, designed to exercise all terms of the Navier–Stokes equations, was used to generate quantitative data that validated the GCL conservation law within the ALE module implemented in TrioCFD. This solution systematically involves every relevant term of the equations, including the convective, viscous, and pressure components, ensuring that the numerical scheme accurately handles the dynamics of the flow on a deforming grid. The results confirmed that the ALE module correctly preserves the conservation law, demonstrating its effectiveness in maintaining grid consistency and physical accuracy during mesh motion. \n",
    "\n",
    "\n"
   ]
  },
  {
   "cell_type": "markdown",
   "id": "cf6a1a84",
   "metadata": {},
   "source": [
    "## References: \n",
    "\n",
    "* 1. Perspective on the geometric conservation law and finite element methods for ALE simulations of incompressible flow, S. Étienne, A. Garon, D. Pelletier, Journal of Computational Physics, 2009.\n",
    "* 2. Geometric conservation laws for flow problems with moving boundaries and deformable meshes, and their impact on aeroelastic computations, Mi. Lesoinne and C. Farhat, Computer Methods in Applied Mechanics and Engineering, 1996.\n",
    "* 3. FVCA8 Benchmark for the Stokes and Navier–Stokes Equations with the TrioCFD Code, P.E. Angeli, M. A. Puscas, A. Cartalade, G. Fauchet, Chapter in book: Finite Volumes for Complex Applications VIII: Methods and Theoretical Aspects, 2017. \n"
   ]
  }
 ],
 "metadata": {
  "kernelspec": {
   "display_name": "Python 3 (ipykernel)",
   "language": "python",
   "name": "python3"
  },
  "language_info": {
   "codemirror_mode": {
    "name": "ipython",
    "version": 3
   },
   "file_extension": ".py",
   "mimetype": "text/x-python",
   "name": "python",
   "nbconvert_exporter": "python",
   "pygments_lexer": "ipython3",
   "version": "3.10.12"
  }
 },
 "nbformat": 4,
 "nbformat_minor": 5
}
