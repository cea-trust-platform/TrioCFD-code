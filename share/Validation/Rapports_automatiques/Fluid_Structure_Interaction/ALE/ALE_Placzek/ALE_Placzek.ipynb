{
 "cells": [
  {
   "cell_type": "markdown",
   "id": "36cf76f5",
   "metadata": {},
   "source": [
    "## Purpose \n",
    " \n",
    "The purpose is to assess the robustness of the ALE module implemented in TrioCFD, considering the case of a single oscillating cylinder subject to an incident laminar cross-flow. The results of our 2D numerical simulations are compared to those in [1] obtained with STAR-CCM.\n",
    "\n",
    " Validation made by : M. A. Puscas \n",
    " \n",
    " Report generated  19/11/2024\n"
   ]
  },
  {
   "cell_type": "code",
   "execution_count": 1,
   "id": "c2162d91",
   "metadata": {},
   "outputs": [
    {
     "name": "stdout",
     "output_type": "stream",
     "text": [
      "Running ...\n"
     ]
    },
    {
     "ename": "KeyboardInterrupt",
     "evalue": "",
     "output_type": "error",
     "traceback": [
      "\u001b[0;31m---------------------------------------------------------------------------\u001b[0m",
      "\u001b[0;31mKeyboardInterrupt\u001b[0m                         Traceback (most recent call last)",
      "Cell \u001b[0;32mIn[1], line 6\u001b[0m\n\u001b[1;32m      4\u001b[0m run\u001b[38;5;241m.\u001b[39maddCase(\u001b[38;5;124m\"\u001b[39m\u001b[38;5;124mF_0.5\u001b[39m\u001b[38;5;124m\"\u001b[39m,\u001b[38;5;124m\"\u001b[39m\u001b[38;5;124mALE_Placzek.data\u001b[39m\u001b[38;5;124m\"\u001b[39m,nbProcs\u001b[38;5;241m=\u001b[39m\u001b[38;5;241m4\u001b[39m)\n\u001b[1;32m      5\u001b[0m run\u001b[38;5;241m.\u001b[39maddCase(\u001b[38;5;124m\"\u001b[39m\u001b[38;5;124mF_0.9\u001b[39m\u001b[38;5;124m\"\u001b[39m,\u001b[38;5;124m\"\u001b[39m\u001b[38;5;124mALE_Placzek.data\u001b[39m\u001b[38;5;124m\"\u001b[39m,nbProcs\u001b[38;5;241m=\u001b[39m\u001b[38;5;241m4\u001b[39m)\n\u001b[0;32m----> 6\u001b[0m \u001b[43mrun\u001b[49m\u001b[38;5;241;43m.\u001b[39;49m\u001b[43mrunCases\u001b[49m\u001b[43m(\u001b[49m\u001b[43m)\u001b[49m\n",
      "File \u001b[0;32m/volatile/catA/mp250145/Software/TRUST_next/trust-code/Validation/Outils/trustutils/jupyter/run.py:1042\u001b[0m, in \u001b[0;36mrunCases\u001b[0;34m(verbose, preventConcurrent)\u001b[0m\n\u001b[1;32m   1039\u001b[0m \u001b[38;5;28;01mif\u001b[39;00m defaultSuite_ \u001b[38;5;129;01mis\u001b[39;00m \u001b[38;5;28;01mNone\u001b[39;00m:\n\u001b[1;32m   1040\u001b[0m     \u001b[38;5;28;01mraise\u001b[39;00m \u001b[38;5;167;01mException\u001b[39;00m(\u001b[38;5;124m\"\u001b[39m\u001b[38;5;124mNo test cases currently recorded! Call \u001b[39m\u001b[38;5;124m'\u001b[39m\u001b[38;5;124maddCase\u001b[39m\u001b[38;5;124m'\u001b[39m\u001b[38;5;124m first ...\u001b[39m\u001b[38;5;124m\"\u001b[39m)\n\u001b[0;32m-> 1042\u001b[0m \u001b[43mdefaultSuite_\u001b[49m\u001b[38;5;241;43m.\u001b[39;49m\u001b[43mrunCases\u001b[49m\u001b[43m(\u001b[49m\u001b[43mverbose\u001b[49m\u001b[43m,\u001b[49m\u001b[43m \u001b[49m\u001b[43mpreventConcurrent\u001b[49m\u001b[43m)\u001b[49m\n",
      "File \u001b[0;32m/volatile/catA/mp250145/Software/TRUST_next/trust-code/Validation/Outils/trustutils/jupyter/run.py:640\u001b[0m, in \u001b[0;36mTRUSTSuite.runCases\u001b[0;34m(self, verbose, preventConcurrent)\u001b[0m\n\u001b[1;32m    638\u001b[0m \u001b[38;5;28;01mfor\u001b[39;00m case \u001b[38;5;129;01min\u001b[39;00m lstC:\n\u001b[1;32m    639\u001b[0m     \u001b[38;5;28;01mtry\u001b[39;00m:\n\u001b[0;32m--> 640\u001b[0m         \u001b[38;5;28;43;01mcase\u001b[39;49;00m\u001b[38;5;241;43m.\u001b[39;49m\u001b[43mrunCase\u001b[49m\u001b[43m(\u001b[49m\u001b[43mverbose\u001b[49m\u001b[38;5;241;43m=\u001b[39;49m\u001b[43mverbose\u001b[49m\u001b[43m)\u001b[49m\n\u001b[1;32m    641\u001b[0m         allOK \u001b[38;5;241m=\u001b[39m allOK \u001b[38;5;129;01mand\u001b[39;00m case\u001b[38;5;241m.\u001b[39mlast_run_ok_\n\u001b[1;32m    642\u001b[0m         \u001b[38;5;28;01mif\u001b[39;00m \u001b[38;5;129;01mnot\u001b[39;00m allOK:\n",
      "File \u001b[0;32m/volatile/catA/mp250145/Software/TRUST_next/trust-code/Validation/Outils/trustutils/jupyter/run.py:456\u001b[0m, in \u001b[0;36mTRUSTCase.runCase\u001b[0;34m(self, verbose)\u001b[0m\n\u001b[1;32m    454\u001b[0m     para \u001b[38;5;241m=\u001b[39m \u001b[38;5;28mstr\u001b[39m(\u001b[38;5;28mself\u001b[39m\u001b[38;5;241m.\u001b[39mnbProcs_)\n\u001b[1;32m    455\u001b[0m cmd \u001b[38;5;241m=\u001b[39m \u001b[38;5;124m\"\u001b[39m\u001b[38;5;124mtrust \u001b[39m\u001b[38;5;132;01m%s\u001b[39;00m\u001b[38;5;124m \u001b[39m\u001b[38;5;132;01m%s\u001b[39;00m\u001b[38;5;124m \u001b[39m\u001b[38;5;132;01m%s\u001b[39;00m\u001b[38;5;124m 2>\u001b[39m\u001b[38;5;132;01m%s\u001b[39;00m\u001b[38;5;124m 1>\u001b[39m\u001b[38;5;132;01m%s\u001b[39;00m\u001b[38;5;124m\"\u001b[39m \u001b[38;5;241m%\u001b[39m (\u001b[38;5;28mself\u001b[39m\u001b[38;5;241m.\u001b[39mdataFileName_, para, \u001b[38;5;28mself\u001b[39m\u001b[38;5;241m.\u001b[39mexecOptions, err_file, out_file)\n\u001b[0;32m--> 456\u001b[0m output \u001b[38;5;241m=\u001b[39m \u001b[43msubprocess\u001b[49m\u001b[38;5;241;43m.\u001b[39;49m\u001b[43mrun\u001b[49m\u001b[43m(\u001b[49m\u001b[43mcmd\u001b[49m\u001b[43m,\u001b[49m\u001b[43m \u001b[49m\u001b[43mshell\u001b[49m\u001b[38;5;241;43m=\u001b[39;49m\u001b[38;5;28;43;01mTrue\u001b[39;49;00m\u001b[43m,\u001b[49m\u001b[43m \u001b[49m\u001b[43mexecutable\u001b[49m\u001b[38;5;241;43m=\u001b[39;49m\u001b[38;5;124;43m\"\u001b[39;49m\u001b[38;5;124;43m/bin/bash\u001b[39;49m\u001b[38;5;124;43m\"\u001b[39;49m\u001b[43m,\u001b[49m\u001b[43m \u001b[49m\u001b[43mstderr\u001b[49m\u001b[38;5;241;43m=\u001b[39;49m\u001b[43msubprocess\u001b[49m\u001b[38;5;241;43m.\u001b[39;49m\u001b[43mSTDOUT\u001b[49m\u001b[43m)\u001b[49m\n\u001b[1;32m    457\u001b[0m \u001b[38;5;28;01mif\u001b[39;00m verbose:\n\u001b[1;32m    458\u001b[0m     \u001b[38;5;28mprint\u001b[39m(cmd)\n",
      "File \u001b[0;32m/volatile/catA/mp250145/Software/TRUST_next/trust-code/exec/python/lib/python3.12/subprocess.py:550\u001b[0m, in \u001b[0;36mrun\u001b[0;34m(input, capture_output, timeout, check, *popenargs, **kwargs)\u001b[0m\n\u001b[1;32m    548\u001b[0m \u001b[38;5;28;01mwith\u001b[39;00m Popen(\u001b[38;5;241m*\u001b[39mpopenargs, \u001b[38;5;241m*\u001b[39m\u001b[38;5;241m*\u001b[39mkwargs) \u001b[38;5;28;01mas\u001b[39;00m process:\n\u001b[1;32m    549\u001b[0m     \u001b[38;5;28;01mtry\u001b[39;00m:\n\u001b[0;32m--> 550\u001b[0m         stdout, stderr \u001b[38;5;241m=\u001b[39m \u001b[43mprocess\u001b[49m\u001b[38;5;241;43m.\u001b[39;49m\u001b[43mcommunicate\u001b[49m\u001b[43m(\u001b[49m\u001b[38;5;28;43minput\u001b[39;49m\u001b[43m,\u001b[49m\u001b[43m \u001b[49m\u001b[43mtimeout\u001b[49m\u001b[38;5;241;43m=\u001b[39;49m\u001b[43mtimeout\u001b[49m\u001b[43m)\u001b[49m\n\u001b[1;32m    551\u001b[0m     \u001b[38;5;28;01mexcept\u001b[39;00m TimeoutExpired \u001b[38;5;28;01mas\u001b[39;00m exc:\n\u001b[1;32m    552\u001b[0m         process\u001b[38;5;241m.\u001b[39mkill()\n",
      "File \u001b[0;32m/volatile/catA/mp250145/Software/TRUST_next/trust-code/exec/python/lib/python3.12/subprocess.py:1201\u001b[0m, in \u001b[0;36mPopen.communicate\u001b[0;34m(self, input, timeout)\u001b[0m\n\u001b[1;32m   1199\u001b[0m         stderr \u001b[38;5;241m=\u001b[39m \u001b[38;5;28mself\u001b[39m\u001b[38;5;241m.\u001b[39mstderr\u001b[38;5;241m.\u001b[39mread()\n\u001b[1;32m   1200\u001b[0m         \u001b[38;5;28mself\u001b[39m\u001b[38;5;241m.\u001b[39mstderr\u001b[38;5;241m.\u001b[39mclose()\n\u001b[0;32m-> 1201\u001b[0m     \u001b[38;5;28;43mself\u001b[39;49m\u001b[38;5;241;43m.\u001b[39;49m\u001b[43mwait\u001b[49m\u001b[43m(\u001b[49m\u001b[43m)\u001b[49m\n\u001b[1;32m   1202\u001b[0m \u001b[38;5;28;01melse\u001b[39;00m:\n\u001b[1;32m   1203\u001b[0m     \u001b[38;5;28;01mif\u001b[39;00m timeout \u001b[38;5;129;01mis\u001b[39;00m \u001b[38;5;129;01mnot\u001b[39;00m \u001b[38;5;28;01mNone\u001b[39;00m:\n",
      "File \u001b[0;32m/volatile/catA/mp250145/Software/TRUST_next/trust-code/exec/python/lib/python3.12/subprocess.py:1264\u001b[0m, in \u001b[0;36mPopen.wait\u001b[0;34m(self, timeout)\u001b[0m\n\u001b[1;32m   1262\u001b[0m     endtime \u001b[38;5;241m=\u001b[39m _time() \u001b[38;5;241m+\u001b[39m timeout\n\u001b[1;32m   1263\u001b[0m \u001b[38;5;28;01mtry\u001b[39;00m:\n\u001b[0;32m-> 1264\u001b[0m     \u001b[38;5;28;01mreturn\u001b[39;00m \u001b[38;5;28;43mself\u001b[39;49m\u001b[38;5;241;43m.\u001b[39;49m\u001b[43m_wait\u001b[49m\u001b[43m(\u001b[49m\u001b[43mtimeout\u001b[49m\u001b[38;5;241;43m=\u001b[39;49m\u001b[43mtimeout\u001b[49m\u001b[43m)\u001b[49m\n\u001b[1;32m   1265\u001b[0m \u001b[38;5;28;01mexcept\u001b[39;00m \u001b[38;5;167;01mKeyboardInterrupt\u001b[39;00m:\n\u001b[1;32m   1266\u001b[0m     \u001b[38;5;66;03m# https://bugs.python.org/issue25942\u001b[39;00m\n\u001b[1;32m   1267\u001b[0m     \u001b[38;5;66;03m# The first keyboard interrupt waits briefly for the child to\u001b[39;00m\n\u001b[1;32m   1268\u001b[0m     \u001b[38;5;66;03m# exit under the common assumption that it also received the ^C\u001b[39;00m\n\u001b[1;32m   1269\u001b[0m     \u001b[38;5;66;03m# generated SIGINT and will exit rapidly.\u001b[39;00m\n\u001b[1;32m   1270\u001b[0m     \u001b[38;5;28;01mif\u001b[39;00m timeout \u001b[38;5;129;01mis\u001b[39;00m \u001b[38;5;129;01mnot\u001b[39;00m \u001b[38;5;28;01mNone\u001b[39;00m:\n",
      "File \u001b[0;32m/volatile/catA/mp250145/Software/TRUST_next/trust-code/exec/python/lib/python3.12/subprocess.py:2053\u001b[0m, in \u001b[0;36mPopen._wait\u001b[0;34m(self, timeout)\u001b[0m\n\u001b[1;32m   2051\u001b[0m \u001b[38;5;28;01mif\u001b[39;00m \u001b[38;5;28mself\u001b[39m\u001b[38;5;241m.\u001b[39mreturncode \u001b[38;5;129;01mis\u001b[39;00m \u001b[38;5;129;01mnot\u001b[39;00m \u001b[38;5;28;01mNone\u001b[39;00m:\n\u001b[1;32m   2052\u001b[0m     \u001b[38;5;28;01mbreak\u001b[39;00m  \u001b[38;5;66;03m# Another thread waited.\u001b[39;00m\n\u001b[0;32m-> 2053\u001b[0m (pid, sts) \u001b[38;5;241m=\u001b[39m \u001b[38;5;28;43mself\u001b[39;49m\u001b[38;5;241;43m.\u001b[39;49m\u001b[43m_try_wait\u001b[49m\u001b[43m(\u001b[49m\u001b[38;5;241;43m0\u001b[39;49m\u001b[43m)\u001b[49m\n\u001b[1;32m   2054\u001b[0m \u001b[38;5;66;03m# Check the pid and loop as waitpid has been known to\u001b[39;00m\n\u001b[1;32m   2055\u001b[0m \u001b[38;5;66;03m# return 0 even without WNOHANG in odd situations.\u001b[39;00m\n\u001b[1;32m   2056\u001b[0m \u001b[38;5;66;03m# http://bugs.python.org/issue14396.\u001b[39;00m\n\u001b[1;32m   2057\u001b[0m \u001b[38;5;28;01mif\u001b[39;00m pid \u001b[38;5;241m==\u001b[39m \u001b[38;5;28mself\u001b[39m\u001b[38;5;241m.\u001b[39mpid:\n",
      "File \u001b[0;32m/volatile/catA/mp250145/Software/TRUST_next/trust-code/exec/python/lib/python3.12/subprocess.py:2011\u001b[0m, in \u001b[0;36mPopen._try_wait\u001b[0;34m(self, wait_flags)\u001b[0m\n\u001b[1;32m   2009\u001b[0m \u001b[38;5;250m\u001b[39m\u001b[38;5;124;03m\"\"\"All callers to this function MUST hold self._waitpid_lock.\"\"\"\u001b[39;00m\n\u001b[1;32m   2010\u001b[0m \u001b[38;5;28;01mtry\u001b[39;00m:\n\u001b[0;32m-> 2011\u001b[0m     (pid, sts) \u001b[38;5;241m=\u001b[39m \u001b[43mos\u001b[49m\u001b[38;5;241;43m.\u001b[39;49m\u001b[43mwaitpid\u001b[49m\u001b[43m(\u001b[49m\u001b[38;5;28;43mself\u001b[39;49m\u001b[38;5;241;43m.\u001b[39;49m\u001b[43mpid\u001b[49m\u001b[43m,\u001b[49m\u001b[43m \u001b[49m\u001b[43mwait_flags\u001b[49m\u001b[43m)\u001b[49m\n\u001b[1;32m   2012\u001b[0m \u001b[38;5;28;01mexcept\u001b[39;00m \u001b[38;5;167;01mChildProcessError\u001b[39;00m:\n\u001b[1;32m   2013\u001b[0m     \u001b[38;5;66;03m# This happens if SIGCLD is set to be ignored or waiting\u001b[39;00m\n\u001b[1;32m   2014\u001b[0m     \u001b[38;5;66;03m# for child processes has otherwise been disabled for our\u001b[39;00m\n\u001b[1;32m   2015\u001b[0m     \u001b[38;5;66;03m# process.  This child is dead, we can't get the status.\u001b[39;00m\n\u001b[1;32m   2016\u001b[0m     pid \u001b[38;5;241m=\u001b[39m \u001b[38;5;28mself\u001b[39m\u001b[38;5;241m.\u001b[39mpid\n",
      "\u001b[0;31mKeyboardInterrupt\u001b[0m: "
     ]
    }
   ],
   "source": [
    "from trustutils import run\n",
    " \n",
    "run.reset() \n",
    "run.addCase(\"F_0.5\",\"ALE_Placzek.data\",nbProcs=4)\n",
    "run.addCase(\"F_0.9\",\"ALE_Placzek.data\",nbProcs=4)\n",
    "run.runCases()"
   ]
  },
  {
   "cell_type": "markdown",
   "id": "b52daed2",
   "metadata": {},
   "source": [
    "## Problem Description \n",
    " \n",
    "The domain used for the numerical simulations is the one in Figure 1.\n",
    "\n"
   ]
  },
  {
   "cell_type": "markdown",
   "id": "2feca5e7",
   "metadata": {},
   "source": [
    "### Geometry \n"
   ]
  },
  {
   "cell_type": "markdown",
   "id": "6a85ec55",
   "metadata": {},
   "source": [
    "![](src/pb_scheme.png)"
   ]
  },
  {
   "cell_type": "markdown",
   "id": "d0e6fc17",
   "metadata": {},
   "source": [
    "### Initial Conditions and Boundary Conditions \n"
   ]
  },
  {
   "cell_type": "markdown",
   "id": "69400987",
   "metadata": {},
   "source": [
    "We study the interaction between a moving cylinder and an incident cross-flow. The cylinder is imposed a sinusoidal displacement of frequency $F_0$ and amplitude $A$.  The frequency ratio is noted $f=F_0/F_s$ and the dimensionless amplitude is $A^*=A/D=0.25$. As in [1], our simulations are performed at a low Reynolds number $Re=DU_{\\infty}/\\nu=100$, with $U_{\\infty}$ the incident uniform fluid velocity. For such a low Reynolds number, the flow is 2D and laminar. The computations start from the final state of the solution obtained with the fixed cylinder (from which we find a Strouhal number $St=F_s D/U_\\infty= 0.167$, exactly as ref. [1]). The simulations are performed at different frequencies to cover both the lock-in and unlocked zones. A configuration is locked (resp. unlocked) if the frequency of the vortex shedding $F_s$ equals (resp. differs from) the frequency of the imposed cylinder displacement.\n"
   ]
  },
  {
   "cell_type": "markdown",
   "id": "96a86549",
   "metadata": {},
   "source": [
    "### Fluid Properties \n"
   ]
  },
  {
   "cell_type": "markdown",
   "id": "594ad994",
   "metadata": {},
   "source": [
    "The tube bundle is immersed in a Newtonian incompressible homogeneous fluid, with mass density $\\rho \\,(1000 \\,Kg/m^3 )$ and kinematic viscosity $\\nu \\,(10^{-6}\\, m^2/s)$.\n"
   ]
  },
  {
   "cell_type": "markdown",
   "id": "69f548f4",
   "metadata": {},
   "source": [
    "## Case Setup \n",
    " \n"
   ]
  },
  {
   "cell_type": "markdown",
   "id": "13c3d1fd",
   "metadata": {},
   "source": [
    "### Grid \n"
   ]
  },
  {
   "cell_type": "markdown",
   "id": "b7a17cff",
   "metadata": {},
   "source": [
    "A refined mesh is used in the regions with large gradient fields whereas a loose mesh is used in the areas with low gradient fields. \n"
   ]
  },
  {
   "cell_type": "markdown",
   "id": "013f02fe",
   "metadata": {},
   "source": [
    "Calculation has been partitioned on 4 processors, such that each processor worked with 20000-30000 elements.\n"
   ]
  },
  {
   "cell_type": "markdown",
   "id": "1ab47571",
   "metadata": {},
   "source": [
    "### Model Options \n"
   ]
  },
  {
   "cell_type": "markdown",
   "id": "6515e38a",
   "metadata": {},
   "source": [
    "The fluid problem with moving boundaries is handled by the Arbitrary Lagrangian-Eulerian (ALE) method.\n"
   ]
  },
  {
   "cell_type": "markdown",
   "id": "b6967759",
   "metadata": {},
   "source": [
    "In the ALE approach, the fluid flow is computed in a domain that is deformed in order to follow the movement of the fluid-solid interface. It provides a hybrid description not associated with the fluid particles and the laboratory coordinates. We associate the description with a moving imaginary mesh that follows the fluid domain.\n"
   ]
  },
  {
   "cell_type": "markdown",
   "id": "5cc1b618",
   "metadata": {},
   "source": [
    "## Results \n",
    "### Validation Specific Informations \n",
    "* Version TRUST : 1.9.5 \n",
    "* Problem: Pb\\_hydraulique\\_ALE\n",
    "* Dimension: 2D\n",
    "* Domain: Domaine\\_ALE\n",
    "* Pressure solver: Solver\\_moving\\_mesh\\_ALE PETSC Cholesky\n",
    "* Discretization: VEFPre1B\n",
    "* Time scheme: Scheme\\_euler\\_implicit with solver implicite\\_ALE GMRES\n",
    "* Medium: Fluide\\_Incompressible\n",
    "* Hydraulic problem: Navier\\_Stokes\\_standard\\_ALE\n",
    "* Convection scheme: ALE muscl\n",
    "* Generated Test cases : \n",
    "\t- F\\_0.5/ALE\\_Placzek.data :  \n",
    "\t- F\\_0.9/ALE\\_Placzek.data :  \n"
   ]
  },
  {
   "cell_type": "markdown",
   "id": "62156256",
   "metadata": {},
   "source": [
    "### Performance Chart\n",
    " \n",
    " "
   ]
  },
  {
   "cell_type": "code",
   "execution_count": null,
   "id": "4165a620",
   "metadata": {},
   "outputs": [],
   "source": [
    "run.tablePerf()"
   ]
  },
  {
   "cell_type": "markdown",
   "id": "01a19c4a",
   "metadata": {},
   "source": [
    "### Plot Data \n",
    " \n"
   ]
  },
  {
   "cell_type": "markdown",
   "id": "ca2c9a08",
   "metadata": {},
   "source": [
    "Locked configuration\n"
   ]
  },
  {
   "cell_type": "markdown",
   "id": "18a4ffd5",
   "metadata": {},
   "source": [
    "In order to highlight the lock-in phenomenous, the Power Spectral Density (PSD) is used. We can see that for $f=0.9$ there is only one peak at $f*=1$ i.e. at $f_0$ because $f*=f/f_0$ which shows that the vortex shedding is governed by the forced oscillation. The phase portraits also show that, indeed the cycle is well defined.\n"
   ]
  },
  {
   "cell_type": "markdown",
   "id": "c25a5f86-519c-4009-a6df-3badaec00698",
   "metadata": {},
   "source": [
    "![](build/ReferenceSolution/ref_F0.9.png)\n",
    "\n",
    "Locked configuration, $f=0.9$. Evolution of the lift coeﬃcient (ﬁrst column) and its PSD (second column). Reference solution [1]."
   ]
  },
  {
   "cell_type": "markdown",
   "id": "a9135b20",
   "metadata": {},
   "source": [
    "![](build/F_0.9/Cl.png)\n",
    "\n",
    "Locked configuration, $f=0.9$. Evolution of the lift coeﬃcient. Current study."
   ]
  },
  {
   "cell_type": "markdown",
   "id": "ea23ca26",
   "metadata": {},
   "source": [
    "![](build/F_0.9/PSD.png)\n",
    "\n",
    "Locked configuration, $f=0.9$. Evolution of the normalised PSD. Current study."
   ]
  },
  {
   "cell_type": "markdown",
   "id": "9bb0897e",
   "metadata": {},
   "source": [
    "![](build/F_0.9/Cl_alpha.png)\n",
    "\n",
    "Locked configuration, $f=0.9$. Evolution of the associated phase portrait. Current study."
   ]
  },
  {
   "cell_type": "markdown",
   "id": "154c9499",
   "metadata": {},
   "source": [
    "Unlocked configuration\n"
   ]
  },
  {
   "cell_type": "markdown",
   "id": "d8bd6709",
   "metadata": {},
   "source": [
    " In order to get out of the lock-in zone, simulations at $f=0.5$ are performed. The lift coefficient is no longer only controlled by the forced oscillations. The lift coefficient signal is no longer purely sinusoidal, this can also be seen through the phase portraits which no longer have well defined limits. We can define the cycle-to-cycle period different from the period of the signal which can now extend over several oscillations (which we will call the beating period). For $F=0.5$, the Strouhal frequency from the fixed cylinder is placed at $f_s/f_0=1/F=2$. So we can see that the cycle-to-cycle period corresponds to the strouhal period $T_s=0.5T_0$ as found by ref. [1].\n"
   ]
  },
  {
   "cell_type": "markdown",
   "id": "dc9bb7f0",
   "metadata": {},
   "source": [
    "![](build/ReferenceSolution/ref_F0.5.png)\n",
    "\n",
    "Unlocked configuration, $f=0.5$. Evolution of the lift coeﬃcient (ﬁrst column) and its PSD (second column). Reference solution [1]."
   ]
  },
  {
   "cell_type": "markdown",
   "id": "22fc81de",
   "metadata": {},
   "source": [
    "![](build/F_0.5/Cl.png)\n",
    "\n",
    "Unocked configuration, $f=0.5$. Evolution of the lift coeﬃcient. Current study."
   ]
  },
  {
   "cell_type": "markdown",
   "id": "7e5d0ba7",
   "metadata": {},
   "source": [
    "![](build/F_0.5/PSD.png)\n",
    "\n",
    "Unlocked configuration, $f=0.5$. Evolution of the normalised PSD. Current study."
   ]
  },
  {
   "cell_type": "markdown",
   "id": "e7f42983",
   "metadata": {},
   "source": [
    "![](build/F_0.5/Cl_alpha.png)\n",
    "\n",
    "Unlocked configuration, $f=0.5$. Evolution of the associated phase portrait. Current study."
   ]
  },
  {
   "cell_type": "markdown",
   "id": "7008ca4c",
   "metadata": {},
   "source": [
    "Aerodynamic coefficients.\n"
   ]
  },
  {
   "cell_type": "markdown",
   "id": "9110dfd2",
   "metadata": {},
   "source": [
    "To study the evolution of the fluid force ${\\bf{F}}$ acting on the cylinder, we introduce the drag and the lift coefficients $C_D = \\frac{F_D}{1/2 \\rho U_{\\infty}^2 D}$ and $C_L = \\frac{F_L}{1/2 \\rho U_{\\infty}^2 D}$,  with $F_D={\\bf{F}}\\cdot {\\bf{e_x}}$ and $F_L={\\bf{F}}\\cdot {\\bf{e_y}}$.\n"
   ]
  },
  {
   "cell_type": "markdown",
   "id": "4be816f3",
   "metadata": {},
   "source": [
    "### Mean drag coefficient and the maximal lift coefficient with the frequency ratio $f = 1.1 $\n",
    " \n",
    " "
   ]
  },
  {
   "cell_type": "code",
   "execution_count": 1,
   "id": "6667f162-4513-43a7-8031-7e0bd9776a39",
   "metadata": {
    "jp-MarkdownHeadingCollapsed": true
   },
   "outputs": [
    {
     "data": {
      "text/html": [
       "<style type=\"text/css\">\n",
       "</style>\n",
       "<table id=\"T_cc526\">\n",
       "  <caption>Mean drag coefficient and the maximal lift coefficient with the frequency ratio $f = 1.1 $</caption>\n",
       "  <thead>\n",
       "    <tr>\n",
       "      <th class=\"blank level0\" >&nbsp;</th>\n",
       "      <th id=\"T_cc526_level0_col0\" class=\"col_heading level0 col0\" >Mean $C_D$ </th>\n",
       "      <th id=\"T_cc526_level0_col1\" class=\"col_heading level0 col1\" > Max $C_L$</th>\n",
       "    </tr>\n",
       "  </thead>\n",
       "  <tbody>\n",
       "    <tr>\n",
       "      <th id=\"T_cc526_level0_row0\" class=\"row_heading level0 row0\" >Reference solution [1] </th>\n",
       "      <td id=\"T_cc526_row0_col0\" class=\"data row0 col0\" >1.500000</td>\n",
       "      <td id=\"T_cc526_row0_col1\" class=\"data row0 col1\" >0.136000</td>\n",
       "    </tr>\n",
       "    <tr>\n",
       "      <th id=\"T_cc526_level0_row1\" class=\"row_heading level0 row1\" >Current study</th>\n",
       "      <td id=\"T_cc526_row1_col0\" class=\"data row1 col0\" >1.465999999999999970e+00</td>\n",
       "      <td id=\"T_cc526_row1_col1\" class=\"data row1 col1\" >1.499999999999999944e-01</td>\n",
       "    </tr>\n",
       "  </tbody>\n",
       "</table>\n"
      ],
      "text/latex": [
       "\\begin{center} \\begin{table}\n",
       "\\caption{Mean drag coefficient and the maximal lift coefficient with the frequency ratio $f = 1.1 $}\n",
       "\\begin{tabular}{lll}\n",
       " & Mean $C\\_D$  &  Max $C\\_L$ \\\\\n",
       "Reference solution [1]  & 1.500000 & 0.136000 \\\\\n",
       "Current study & 1.465999999999999970e+00 & 1.499999999999999944e-01 \\\\\n",
       "\\end{tabular}\n",
       "\\end{table}\n",
       " \\end{center}"
      ],
      "text/plain": [
       "<trustutils.jupyter.plot.Table at 0x7c5c4e173a70>"
      ]
     },
     "metadata": {},
     "output_type": "display_data"
    }
   ],
   "source": [
    "from trustutils import plot \n",
    " \n",
    "columns=['Mean $C_D$ ', ' Max $C_L$'] \n",
    "tab = plot.Table(columns)\n",
    "tab.addLine([[1.5, 0.136]],r\"Reference solution [1] \")\n",
    "data = plot.loadText(\"F_0.9/Cd_Cl.txt\", transpose=True, dtype=\"str\")\n",
    "tab.addLine([[ data[0], data[1] ]],r\"Current study\")\n",
    "tab.setTitle(\"Mean drag coefficient and the maximal lift coefficient with the frequency ratio $f = 1.1 $\")\n",
    "display(tab)"
   ]
  },
  {
   "cell_type": "markdown",
   "id": "6e6d49be",
   "metadata": {},
   "source": [
    "### Mean drag coefficient and the maximal lift coefficient with the frequency ratio $f = 0.5 $\n",
    " \n",
    " "
   ]
  },
  {
   "cell_type": "code",
   "execution_count": 2,
   "id": "9589609c",
   "metadata": {},
   "outputs": [
    {
     "data": {
      "text/html": [
       "<style type=\"text/css\">\n",
       "</style>\n",
       "<table id=\"T_05092\">\n",
       "  <caption>Mean drag coefficient and the maximal lift coefficient with the frequency ratio $f = 0.5 $</caption>\n",
       "  <thead>\n",
       "    <tr>\n",
       "      <th class=\"blank level0\" >&nbsp;</th>\n",
       "      <th id=\"T_05092_level0_col0\" class=\"col_heading level0 col0\" >Mean $C_D$ </th>\n",
       "      <th id=\"T_05092_level0_col1\" class=\"col_heading level0 col1\" > Max $C_L$</th>\n",
       "    </tr>\n",
       "  </thead>\n",
       "  <tbody>\n",
       "    <tr>\n",
       "      <th id=\"T_05092_level0_row0\" class=\"row_heading level0 row0\" >Reference solution [1] </th>\n",
       "      <td id=\"T_05092_row0_col0\" class=\"data row0 col0\" >1.380000</td>\n",
       "      <td id=\"T_05092_row0_col1\" class=\"data row0 col1\" >0.418000</td>\n",
       "    </tr>\n",
       "    <tr>\n",
       "      <th id=\"T_05092_level0_row1\" class=\"row_heading level0 row1\" >Current study</th>\n",
       "      <td id=\"T_05092_row1_col0\" class=\"data row1 col0\" >1.383000000000000007e+00</td>\n",
       "      <td id=\"T_05092_row1_col1\" class=\"data row1 col1\" >4.319999999999999951e-01</td>\n",
       "    </tr>\n",
       "  </tbody>\n",
       "</table>\n"
      ],
      "text/latex": [
       "\\begin{center} \\begin{table}\n",
       "\\caption{Mean drag coefficient and the maximal lift coefficient with the frequency ratio $f = 0.5 $}\n",
       "\\begin{tabular}{lll}\n",
       " & Mean $C\\_D$  &  Max $C\\_L$ \\\\\n",
       "Reference solution [1]  & 1.380000 & 0.418000 \\\\\n",
       "Current study & 1.383000000000000007e+00 & 4.319999999999999951e-01 \\\\\n",
       "\\end{tabular}\n",
       "\\end{table}\n",
       " \\end{center}"
      ],
      "text/plain": [
       "<trustutils.jupyter.plot.Table at 0x7c5c235bf1d0>"
      ]
     },
     "metadata": {},
     "output_type": "display_data"
    }
   ],
   "source": [
    "from trustutils import plot \n",
    " \n",
    "columns=['Mean $C_D$ ', ' Max $C_L$'] \n",
    "tab = plot.Table(columns)\n",
    "tab.addLine([[1.38, 0.418]],r\"Reference solution [1] \")\n",
    "data = plot.loadText(\"F_0.5/Cd_Cl.txt\",transpose=False, dtype=\"str\")\n",
    "tab.addLine([[ data[0], data[1] ]],r\"Current study\")\n",
    "tab.setTitle(\"Mean drag coefficient and the maximal lift coefficient with the frequency ratio $f = 0.5 $\")\n",
    "display(tab)"
   ]
  },
  {
   "cell_type": "markdown",
   "id": "e27b15ef",
   "metadata": {},
   "source": [
    "## Conclusion \n",
    " \n",
    "The harmonic motion of a circular wall in a quiescent viscous fluid, has been  numerically simulated. A FEV method is applied to solve such a problem in conjunction with the ALE approach. The numerical results are in line with the numerical results of [1].\n",
    "\n"
   ]
  },
  {
   "cell_type": "markdown",
   "id": "8e9550e2",
   "metadata": {},
   "source": [
    "## References: \n",
    " \n",
    "* 1. J. F. Placzek, A. Sigrist and A. Hamdouni. Numerical simulation of an oscillating cylinder in a cross-flow at low reynolds number: Forced and free oscillations. Computers and Fluids, 38:80–100, 2009. \n"
   ]
  }
 ],
 "metadata": {
  "kernelspec": {
   "display_name": "Python 3 (ipykernel)",
   "language": "python",
   "name": "python3"
  },
  "language_info": {
   "codemirror_mode": {
    "name": "ipython",
    "version": 3
   },
   "file_extension": ".py",
   "mimetype": "text/x-python",
   "name": "python",
   "nbconvert_exporter": "python",
   "pygments_lexer": "ipython3",
   "version": "3.12.5"
  }
 },
 "nbformat": 4,
 "nbformat_minor": 5
}
