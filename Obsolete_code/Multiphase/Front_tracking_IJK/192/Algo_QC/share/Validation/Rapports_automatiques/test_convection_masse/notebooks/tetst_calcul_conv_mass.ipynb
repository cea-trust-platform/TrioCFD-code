{
 "cells": [
  {
   "cell_type": "code",
   "execution_count": 1,
   "id": "cfe811de-e761-4e18-92f9-459877ba3e52",
   "metadata": {
    "tags": []
   },
   "outputs": [],
   "source": [
    "import numpy as np\n",
    "from glob import glob\n",
    "import matplotlib.pyplot as plt"
   ]
  },
  {
   "cell_type": "code",
   "execution_count": 2,
   "id": "b2b2a42e-c48a-43c0-ae95-d117554ae9b1",
   "metadata": {
    "tags": []
   },
   "outputs": [],
   "source": [
    "x, y, z = [np.fromfile(f, dtype=np.float32) for f in sorted(glob(\"*/*grid_geom*\"))[:3]]\n",
    "ni, nj, nk = x.shape[0]-1, y.shape[0]-1, z.shape[0]-1"
   ]
  },
  {
   "cell_type": "code",
   "execution_count": 3,
   "id": "a5030c55-ea68-4b30-83c8-7c24cef981ce",
   "metadata": {
    "tags": []
   },
   "outputs": [],
   "source": [
    "drdt = np.fromfile(\"build/test_convection_masse/test_convection_masse_lata_1.sauv.lata.0.DRHO_DT\", dtype=np.float32).reshape(ni, nj, nk, order=\"F\")\n",
    "drdt_true = np.fromfile(\"true/test_convection_masse_lata_1.sauv.lata.0.DRHO_DT\", dtype=np.float32).reshape(ni, nj, nk, order=\"F\")"
   ]
  },
  {
   "cell_type": "code",
   "execution_count": 7,
   "id": "2e40ad72-e15e-4e73-a2fe-c75058edf861",
   "metadata": {
    "tags": []
   },
   "outputs": [],
   "source": [
    "U = np.fromfile(\"build/test_convection_masse/dns_34.sauv.lata.0.VELOCITY\", dtype=np.float32).reshape(3, ni+1, nj+1, nk+1, order=\"F\")\n",
    "rho = np.fromfile(\"build/test_convection_masse/dns_34.sauv.lata.0.RHO\", dtype=np.float32).reshape(ni, nj, nk, order=\"F\")"
   ]
  },
  {
   "cell_type": "code",
   "execution_count": null,
   "id": "d46acaed-d110-4f89-909c-3ad7214b2924",
   "metadata": {},
   "outputs": [],
   "source": [
    "def compute_flux_x(U, rho):\n",
    "    dx = x[1]-x[0]\n",
    "    surface = (y[1]-y[0]) * np.diff(z)\n",
    "    \n",
    "    dx_sq_over_8 = dx * dx * 0.125\n",
    "    \n",
    "    vx_center = (U[0][1:] + U[0][:-1])/2\n",
    "    \n",
    "def compute_flux_y(U, rho):\n",
    "    pass\n",
    "def compute_flux_z(U, rho):\n",
    "    pass"
   ]
  }
 ],
 "metadata": {
  "kernelspec": {
   "display_name": "Python 3 (ipykernel)",
   "language": "python",
   "name": "python3"
  },
  "language_info": {
   "codemirror_mode": {
    "name": "ipython",
    "version": 3
   },
   "file_extension": ".py",
   "mimetype": "text/x-python",
   "name": "python",
   "nbconvert_exporter": "python",
   "pygments_lexer": "ipython3",
   "version": "3.11.4"
  }
 },
 "nbformat": 4,
 "nbformat_minor": 5
}
